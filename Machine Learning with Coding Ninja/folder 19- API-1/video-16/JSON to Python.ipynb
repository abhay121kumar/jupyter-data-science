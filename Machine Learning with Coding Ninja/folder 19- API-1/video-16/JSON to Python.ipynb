{
 "cells": [
  {
   "cell_type": "code",
   "execution_count": 1,
   "id": "5dd73a6e",
   "metadata": {},
   "outputs": [
    {
     "name": "stdout",
     "output_type": "stream",
     "text": [
      "200\n",
      "ISO-8859-1\n",
      "https://www.codingninjas.com:443/\n",
      "Fri, 22 Dec 2023 10:26:43 GMT\n",
      "text/html\n"
     ]
    }
   ],
   "source": [
    "import requests\n",
    "response = requests.get('https://codingninjas.in/api/v3/courses')\n",
    "print(response.status_code)\n",
    "print(response.encoding)\n",
    "print(response.url)\n",
    "header_info = response.headers\n",
    "print(header_info['Date'])\n",
    "print(header_info['Content-Type'])"
   ]
  },
  {
   "cell_type": "code",
   "execution_count": 2,
   "id": "9296c2b7",
   "metadata": {},
   "outputs": [
    {
     "name": "stdout",
     "output_type": "stream",
     "text": [
      "<class 'str'>\n"
     ]
    }
   ],
   "source": [
    "print(type(response.text))"
   ]
  },
  {
   "cell_type": "code",
   "execution_count": null,
   "id": "4e52b508",
   "metadata": {},
   "outputs": [],
   "source": []
  },
  {
   "cell_type": "code",
   "execution_count": 3,
   "id": "5f0ef36f",
   "metadata": {},
   "outputs": [
    {
     "name": "stdout",
     "output_type": "stream",
     "text": [
      "{'Student': 'Mohit'}\n",
      "<class 'dict'>\n",
      "Mohit\n"
     ]
    }
   ],
   "source": [
    "import json\n",
    "json_data = '{\"Student\" : \"Mohit\"}'\n",
    "python_data = json.loads(json_data)\n",
    "print(python_data)\n",
    "print(type(python_data))\n",
    "print(python_data['Student'])"
   ]
  },
  {
   "cell_type": "code",
   "execution_count": 4,
   "id": "d9ec6103",
   "metadata": {},
   "outputs": [
    {
     "name": "stdout",
     "output_type": "stream",
     "text": [
      "101\n",
      "<class 'int'>\n"
     ]
    }
   ],
   "source": [
    "json_data = '{\"rollNumber\" : 101}'\n",
    "python_data = json.loads(json_data)\n",
    "print(python_data['rollNumber'])\n",
    "print(type(python_data['rollNumber']))"
   ]
  },
  {
   "cell_type": "code",
   "execution_count": 5,
   "id": "effa6a34",
   "metadata": {},
   "outputs": [
    {
     "name": "stdout",
     "output_type": "stream",
     "text": [
      "101.234\n",
      "<class 'float'>\n"
     ]
    }
   ],
   "source": [
    "json_data = '{\"rollNumber\" : 101.234}'\n",
    "python_data = json.loads(json_data)\n",
    "print(python_data['rollNumber'])\n",
    "print(type(python_data['rollNumber']))"
   ]
  },
  {
   "cell_type": "code",
   "execution_count": 8,
   "id": "4a869766",
   "metadata": {},
   "outputs": [
    {
     "name": "stdout",
     "output_type": "stream",
     "text": [
      "None\n",
      "<class 'NoneType'>\n"
     ]
    }
   ],
   "source": [
    "json_data = '{\"rollNumber\" : null}'\n",
    "python_data = json.loads(json_data)\n",
    "print(python_data['rollNumber'])\n",
    "print(type(python_data['rollNumber']))"
   ]
  },
  {
   "cell_type": "code",
   "execution_count": null,
   "id": "679a8e7c",
   "metadata": {},
   "outputs": [],
   "source": []
  },
  {
   "cell_type": "code",
   "execution_count": 10,
   "id": "d41c6df6",
   "metadata": {},
   "outputs": [
    {
     "name": "stdout",
     "output_type": "stream",
     "text": [
      "Abhay\n",
      "102\n"
     ]
    }
   ],
   "source": [
    "json_data = '{\"Student\" : {\"Name\" : \"Abhay\", \"RollNo\":102}}'\n",
    "python_data = json.loads(json_data)\n",
    "\n",
    "student_details = python_data['Student']\n",
    "print(student_details['Name'])\n",
    "print(student_details['RollNo'])"
   ]
  },
  {
   "cell_type": "code",
   "execution_count": 14,
   "id": "75957354",
   "metadata": {},
   "outputs": [
    {
     "name": "stdout",
     "output_type": "stream",
     "text": [
      "<class 'dict'>\n",
      "<class 'list'>\n",
      "4\n",
      "['Apple', 'Orange', 'mango', 'Gauva']\n",
      "Apple\n",
      "Orange\n",
      "mango\n",
      "Gauva\n"
     ]
    }
   ],
   "source": [
    "json_data = '{\"Fruits\" : [\"Apple\", \"Orange\", \"mango\", \"Gauva\"]}'\n",
    "python_data = json.loads(json_data)\n",
    "print(type(python_data))\n",
    "print(type(python_data['Fruits']))\n",
    "print(len(python_data['Fruits']))\n",
    "print(python_data['Fruits'])\n",
    "\n",
    "for i in python_data['Fruits']:\n",
    "    print(i)"
   ]
  },
  {
   "cell_type": "code",
   "execution_count": null,
   "id": "b099316d",
   "metadata": {},
   "outputs": [],
   "source": []
  },
  {
   "cell_type": "code",
   "execution_count": null,
   "id": "ee4f972f",
   "metadata": {},
   "outputs": [],
   "source": []
  }
 ],
 "metadata": {
  "kernelspec": {
   "display_name": "Python 3 (ipykernel)",
   "language": "python",
   "name": "python3"
  },
  "language_info": {
   "codemirror_mode": {
    "name": "ipython",
    "version": 3
   },
   "file_extension": ".py",
   "mimetype": "text/x-python",
   "name": "python",
   "nbconvert_exporter": "python",
   "pygments_lexer": "ipython3",
   "version": "3.10.12"
  }
 },
 "nbformat": 4,
 "nbformat_minor": 5
}
