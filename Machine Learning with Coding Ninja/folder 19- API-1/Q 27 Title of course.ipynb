{
 "cells": [
  {
   "cell_type": "code",
   "execution_count": 2,
   "id": "055634bc",
   "metadata": {},
   "outputs": [
    {
     "name": "stdout",
     "output_type": "stream",
     "text": [
      "200\n",
      "https://api.codingninjas.com/api/v3/courses\n",
      "Machine Learning\n"
     ]
    }
   ],
   "source": [
    "import requests as rq\n",
    "response = rq.get('https://api.codingninjas.com/api/v3/courses')\n",
    "print(response.status_code)\n",
    "print(response.url)\n",
    "py_data = response.json()\n",
    "\n",
    "for i in py_data['data']['courses']:\n",
    "    if i[\"id\"] ==19:\n",
    "        print(i['title'])"
   ]
  },
  {
   "cell_type": "code",
   "execution_count": null,
   "id": "db245ff6",
   "metadata": {},
   "outputs": [],
   "source": []
  }
 ],
 "metadata": {
  "kernelspec": {
   "display_name": "Python 3 (ipykernel)",
   "language": "python",
   "name": "python3"
  },
  "language_info": {
   "codemirror_mode": {
    "name": "ipython",
    "version": 3
   },
   "file_extension": ".py",
   "mimetype": "text/x-python",
   "name": "python",
   "nbconvert_exporter": "python",
   "pygments_lexer": "ipython3",
   "version": "3.10.12"
  }
 },
 "nbformat": 4,
 "nbformat_minor": 5
}
