{
 "cells": [
  {
   "cell_type": "code",
   "execution_count": 1,
   "id": "cfea25b2",
   "metadata": {},
   "outputs": [
    {
     "name": "stdout",
     "output_type": "stream",
     "text": [
      "afghan\n",
      "basset\n",
      "blood\n",
      "english\n",
      "ibizan\n",
      "plott\n",
      "walker\n"
     ]
    }
   ],
   "source": [
    "import requests as rq\n",
    "response = rq.get('https://dog.ceo/api/breeds/list/all')\n",
    "py_data = response.json()\n",
    "for i in py_data['message']['hound']:\n",
    "    print(i)"
   ]
  },
  {
   "cell_type": "code",
   "execution_count": null,
   "id": "13a8e8c4",
   "metadata": {},
   "outputs": [],
   "source": []
  }
 ],
 "metadata": {
  "kernelspec": {
   "display_name": "Python 3 (ipykernel)",
   "language": "python",
   "name": "python3"
  },
  "language_info": {
   "codemirror_mode": {
    "name": "ipython",
    "version": 3
   },
   "file_extension": ".py",
   "mimetype": "text/x-python",
   "name": "python",
   "nbconvert_exporter": "python",
   "pygments_lexer": "ipython3",
   "version": "3.10.12"
  }
 },
 "nbformat": 4,
 "nbformat_minor": 5
}
