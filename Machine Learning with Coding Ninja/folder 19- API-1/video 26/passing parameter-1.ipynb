{
 "cells": [
  {
   "cell_type": "code",
   "execution_count": 3,
   "id": "30fd6760",
   "metadata": {},
   "outputs": [
    {
     "name": "stdout",
     "output_type": "stream",
     "text": [
      "200\n",
      "{'meta': {'name': 'openaq-api', 'license': '', 'website': '/', 'page': 1, 'limit': 100, 'found': 2447}, 'results': [{'country': 'JP', 'city': ' ', 'count': 19048153, 'locations': 1527}, {'country': 'US', 'city': '007', 'count': 20445, 'locations': 4}, {'country': 'US', 'city': '015', 'count': 1025, 'locations': 1}, {'country': 'US', 'city': '037', 'count': 12606, 'locations': 1}, {'country': 'US', 'city': '039', 'count': 5575, 'locations': 2}, {'country': 'US', 'city': '047', 'count': 20393, 'locations': 4}, {'country': 'US', 'city': '057', 'count': 1632, 'locations': 1}, {'country': 'US', 'city': '059', 'count': 2052, 'locations': 1}, {'country': 'US', 'city': '069', 'count': 1317, 'locations': 1}, {'country': 'US', 'city': 'Aberdeen', 'count': 51279, 'locations': 1}, {'country': 'CI', 'city': 'Abidjan', 'count': 28046, 'locations': 1}, {'country': 'AE', 'city': 'Abu Al Abyad', 'count': 14296, 'locations': 1}, {'country': 'AE', 'city': 'Abu Dhabi', 'count': 182815, 'locations': 9}, {'country': 'GH', 'city': 'Accra', 'count': 26865, 'locations': 1}, {'country': 'ES', 'city': 'A Coruña', 'count': 1045771, 'locations': 20}, {'country': 'MX', 'city': 'Actopan', 'count': 2130, 'locations': 1}, {'country': 'US', 'city': 'ADA', 'count': 36918, 'locations': 1}, {'country': 'US', 'city': 'ADAIR', 'count': 213401, 'locations': 1}, {'country': 'US', 'city': 'ADAMS', 'count': 74691, 'locations': 2}, {'country': 'TR', 'city': 'Adana', 'count': 287572, 'locations': 8}, {'country': 'ET', 'city': 'Addis Ababa', 'count': 37262, 'locations': 1}, {'country': 'AU', 'city': 'Adelaide', 'count': 37740, 'locations': 2}, {'country': 'TR', 'city': 'Adıyaman', 'count': 8432, 'locations': 1}, {'country': 'US', 'city': 'Adrian', 'count': 84505, 'locations': 1}, {'country': 'MK', 'city': 'Aerodrom Municipality', 'count': 208303, 'locations': 1}, {'country': 'TR', 'city': 'Afyonkarahisar', 'count': 34923, 'locations': 3}, {'country': 'TR', 'city': 'Ağrı', 'count': 121633, 'locations': 3}, {'country': 'MX', 'city': 'Aguascalientes', 'count': 32999, 'locations': 3}, {'country': 'MX', 'city': 'AGUASCALIENTES', 'count': 43050, 'locations': 3}, {'country': 'FR', 'city': 'Ain', 'count': 265721, 'locations': 2}, {'country': 'US', 'city': 'AIR', 'count': 5971, 'locations': 13}, {'country': 'FR', 'city': 'Aisne', 'count': 172469, 'locations': 2}, {'country': 'HU', 'city': 'Ajka', 'count': 16076, 'locations': 1}, {'country': 'US', 'city': 'Akron', 'count': 145203, 'locations': 2}, {'country': 'TR', 'city': 'Aksaray', 'count': 20578, 'locations': 1}, {'country': 'IS', 'city': 'Akureyri', 'count': 55035, 'locations': 1}, {'country': 'AE', 'city': 'Al Ain', 'count': 89174, 'locations': 6}, {'country': 'US', 'city': 'ALAMEDA', 'count': 150301, 'locations': 1}, {'country': 'RO', 'city': 'Alba', 'count': 55557, 'locations': 2}, {'country': 'US', 'city': 'Albany', 'count': 37478, 'locations': 1}, {'country': 'US', 'city': 'Albany-Lebanon', 'count': 93071, 'locations': 2}, {'country': 'US', 'city': 'Albany-Schenectady-Troy', 'count': 114629, 'locations': 3}, {'country': 'CA', 'city': 'ALBERTA', 'count': 1858221, 'locations': 31}, {'country': 'US', 'city': 'Albuquerque', 'count': 876930, 'locations': 7}, {'country': 'ES', 'city': 'Alcanar', 'count': 23778, 'locations': 1}, {'country': 'IT', 'city': 'Alessandria', 'count': 135189, 'locations': 4}, {'country': 'NO', 'city': 'Ålesund', 'count': 127001, 'locations': 2}, {'country': 'US', 'city': 'ALEXANDER', 'count': 54472, 'locations': 1}, {'country': 'ZA', 'city': 'Alfred Nzo', 'count': 35743, 'locations': 5}, {'country': 'ES', 'city': 'Alicante/Alacant', 'count': 800564, 'locations': 10}, {'country': 'US', 'city': 'Allegan', 'count': 53943, 'locations': 1}, {'country': 'US', 'city': 'Allentown-Bethlehem-Easton', 'count': 182871, 'locations': 2}, {'country': 'FR', 'city': 'Allier', 'count': 144846, 'locations': 1}, {'country': 'ES', 'city': 'Almería', 'count': 1035565, 'locations': 10}, {'country': 'MX', 'city': 'Almoloya de Juárez', 'count': 20064, 'locations': 1}, {'country': 'FR', 'city': 'Alpes-de-Haute-Provence', 'count': 247334, 'locations': 2}, {'country': 'FR', 'city': 'Alpes-Maritimes', 'count': 578386, 'locations': 9}, {'country': 'AE', 'city': 'Al Ruways Industrial City', 'count': 18357, 'locations': 1}, {'country': 'CL', 'city': 'Alto Hospicio', 'count': 4952, 'locations': 1}, {'country': 'AU', 'city': 'Altona North', 'count': 36497, 'locations': 1}, {'country': 'US', 'city': 'Altoona', 'count': 93893, 'locations': 1}, {'country': 'MX', 'city': 'Álvaro Obregón', 'count': 40162, 'locations': 1}, {'country': 'LT', 'city': 'Alytus', 'count': 13414, 'locations': 1}, {'country': 'US', 'city': 'AMADOR', 'count': 29595, 'locations': 1}, {'country': 'US', 'city': 'Amarillo', 'count': 56764, 'locations': 2}, {'country': 'TR', 'city': 'Amasya', 'count': 193554, 'locations': 4}, {'country': 'BR', 'city': 'Americana', 'count': 34528, 'locations': 1}, {'country': 'US', 'city': 'Americus', 'count': 35505, 'locations': 1}, {'country': 'JO', 'city': 'Amman', 'count': 39461, 'locations': 1}, {'country': 'TH', 'city': 'Amnat Charoen', 'count': 1231, 'locations': 1}, {'country': 'ES', 'city': 'Amposta', 'count': 58590, 'locations': 1}, {'country': 'NL', 'city': 'Amsterdam', 'count': 1573585, 'locations': 12}, {'country': 'US', 'city': 'Anchorage', 'count': 199202, 'locations': 3}, {'country': 'IT', 'city': 'Ancona', 'count': 372504, 'locations': 4}, {'country': 'CL', 'city': 'Andacollo', 'count': 97965, 'locations': 3}, {'country': 'US', 'city': 'Anderson', 'count': 69820, 'locations': 2}, {'country': 'US', 'city': 'ANDERSON', 'count': 18378, 'locations': 1}, {'country': 'US', 'city': 'ANDREW', 'count': 33962, 'locations': 1}, {'country': 'TR', 'city': 'Ankara', 'count': 444619, 'locations': 20}, {'country': 'US', 'city': 'Ann Arbor', 'count': 119996, 'locations': 2}, {'country': 'TR', 'city': 'Antalya', 'count': 116320, 'locations': 8}, {'country': 'CL', 'city': 'Antofagasta', 'count': 132959, 'locations': 1}, {'country': 'NL', 'city': 'Antwerpen', 'count': 38606, 'locations': 1}, {'country': 'BE', 'city': 'Antwerpen', 'count': 567097, 'locations': 18}, {'country': 'MX', 'city': 'Apizaco', 'count': 38748, 'locations': 1}, {'country': 'MX', 'city': 'Apodaca', 'count': 50462, 'locations': 1}, {'country': 'US', 'city': 'Appleton', 'count': 71519, 'locations': 1}, {'country': 'ES', 'city': 'Araba/Álava', 'count': 613028, 'locations': 7}, {'country': 'BR', 'city': 'Araçatuba', 'count': 30048, 'locations': 1}, {'country': 'RO', 'city': 'Arad', 'count': 104910, 'locations': 3}, {'country': 'US', 'city': 'ARAPAHOE', 'count': 43947, 'locations': 1}, {'country': 'BR', 'city': 'Araraquara', 'count': 39681, 'locations': 1}, {'country': 'US', 'city': 'ARCHULETA', 'count': 83879, 'locations': 1}, {'country': 'TR', 'city': 'Ardahan', 'count': 16801, 'locations': 1}, {'country': 'FR', 'city': 'Ardèche', 'count': 34744, 'locations': 1}, {'country': 'FR', 'city': 'Ardennes', 'count': 171613, 'locations': 2}, {'country': 'US', 'city': 'Ardmore', 'count': 126777, 'locations': 2}, {'country': 'IT', 'city': 'Arezzo', 'count': 129799, 'locations': 3}, {'country': 'RO', 'city': 'Argeş', 'count': 153182, 'locations': 4}, {'country': 'CL', 'city': 'Arica', 'count': 30444, 'locations': 1}]}\n"
     ]
    }
   ],
   "source": [
    "import requests as rq\n",
    "respo = rq.get('https://api.openaq.org/v1/cities')\n",
    "print(respo.status_code)\n",
    "print(respo.json())"
   ]
  },
  {
   "cell_type": "code",
   "execution_count": 4,
   "id": "09b100c0",
   "metadata": {},
   "outputs": [
    {
     "name": "stdout",
     "output_type": "stream",
     "text": [
      "https://api.openaq.org/v1/cities\n"
     ]
    }
   ],
   "source": [
    "print(respo.url)"
   ]
  },
  {
   "cell_type": "code",
   "execution_count": 5,
   "id": "197a856f",
   "metadata": {},
   "outputs": [
    {
     "name": "stdout",
     "output_type": "stream",
     "text": [
      "422\n",
      "1 validation error for CitiesV1\n",
      "country\n",
      "  List should have at least 2 items after validation, not 1 [type=too_short, input_value=['AE'], input_type=list]\n",
      "    For further information visit https://errors.pydantic.dev/2.1.2/v/too_short\n",
      "https://api.openaq.org/v1/cities?country=AE&limit=1\n"
     ]
    }
   ],
   "source": [
    "import requests as rq\n",
    "respo = rq.get('https://api.openaq.org/v1/cities', params = {\"country\":\"AE\", \"limit\":1})\n",
    "print(respo.status_code)\n",
    "print(respo.json())\n",
    "print(respo.url)"
   ]
  },
  {
   "cell_type": "code",
   "execution_count": 15,
   "id": "c3517567",
   "metadata": {},
   "outputs": [
    {
     "name": "stdout",
     "output_type": "stream",
     "text": [
      "200\n",
      "{'meta': {'name': 'openaq-api', 'license': '', 'website': '/', 'page': 1, 'limit': 100, 'found': 2444}, 'results': [{'country': 'JP', 'city': ' ', 'count': 19052693, 'locations': 1527}, {'country': 'US', 'city': '007', 'count': 20445, 'locations': 4}, {'country': 'US', 'city': '015', 'count': 1025, 'locations': 1}, {'country': 'US', 'city': '037', 'count': 12606, 'locations': 1}, {'country': 'US', 'city': '039', 'count': 5575, 'locations': 2}, {'country': 'US', 'city': '047', 'count': 20393, 'locations': 4}, {'country': 'US', 'city': '057', 'count': 1632, 'locations': 1}, {'country': 'US', 'city': '059', 'count': 2052, 'locations': 1}, {'country': 'US', 'city': '069', 'count': 1317, 'locations': 1}, {'country': 'US', 'city': 'Aberdeen', 'count': 51279, 'locations': 1}, {'country': 'CI', 'city': 'Abidjan', 'count': 28046, 'locations': 1}, {'country': 'AE', 'city': 'Abu Al Abyad', 'count': 14296, 'locations': 1}, {'country': 'AE', 'city': 'Abu Dhabi', 'count': 182815, 'locations': 9}, {'country': 'GH', 'city': 'Accra', 'count': 26865, 'locations': 1}, {'country': 'ES', 'city': 'A Coruña', 'count': 1045771, 'locations': 20}, {'country': 'MX', 'city': 'Actopan', 'count': 2133, 'locations': 1}, {'country': 'US', 'city': 'ADA', 'count': 36918, 'locations': 1}, {'country': 'US', 'city': 'ADAIR', 'count': 213401, 'locations': 1}, {'country': 'US', 'city': 'ADAMS', 'count': 74693, 'locations': 2}, {'country': 'TR', 'city': 'Adana', 'count': 287572, 'locations': 8}, {'country': 'ET', 'city': 'Addis Ababa', 'count': 37262, 'locations': 1}, {'country': 'AU', 'city': 'Adelaide', 'count': 37740, 'locations': 2}, {'country': 'TR', 'city': 'Adıyaman', 'count': 8432, 'locations': 1}, {'country': 'US', 'city': 'Adrian', 'count': 84505, 'locations': 1}, {'country': 'MK', 'city': 'Aerodrom Municipality', 'count': 208303, 'locations': 1}, {'country': 'TR', 'city': 'Afyonkarahisar', 'count': 34923, 'locations': 3}, {'country': 'TR', 'city': 'Ağrı', 'count': 121633, 'locations': 3}, {'country': 'MX', 'city': 'Aguascalientes', 'count': 73487, 'locations': 4}, {'country': 'MX', 'city': 'AGUASCALIENTES', 'count': 2567, 'locations': 2}, {'country': 'FR', 'city': 'Ain', 'count': 265721, 'locations': 2}, {'country': 'US', 'city': 'AIR', 'count': 5971, 'locations': 13}, {'country': 'FR', 'city': 'Aisne', 'count': 172469, 'locations': 2}, {'country': 'HU', 'city': 'Ajka', 'count': 16076, 'locations': 1}, {'country': 'US', 'city': 'Akron', 'count': 145203, 'locations': 2}, {'country': 'TR', 'city': 'Aksaray', 'count': 20578, 'locations': 1}, {'country': 'IS', 'city': 'Akureyri', 'count': 55035, 'locations': 1}, {'country': 'AE', 'city': 'Al Ain', 'count': 89174, 'locations': 6}, {'country': 'US', 'city': 'ALAMEDA', 'count': 150301, 'locations': 1}, {'country': 'RO', 'city': 'Alba', 'count': 55557, 'locations': 2}, {'country': 'US', 'city': 'Albany', 'count': 37478, 'locations': 1}, {'country': 'US', 'city': 'Albany-Lebanon', 'count': 93071, 'locations': 2}, {'country': 'US', 'city': 'Albany-Schenectady-Troy', 'count': 114629, 'locations': 3}, {'country': 'CA', 'city': 'ALBERTA', 'count': 1858250, 'locations': 31}, {'country': 'US', 'city': 'Albuquerque', 'count': 876930, 'locations': 7}, {'country': 'ES', 'city': 'Alcanar', 'count': 23778, 'locations': 1}, {'country': 'IT', 'city': 'Alessandria', 'count': 135189, 'locations': 4}, {'country': 'NO', 'city': 'Ålesund', 'count': 127001, 'locations': 2}, {'country': 'US', 'city': 'ALEXANDER', 'count': 54472, 'locations': 1}, {'country': 'ZA', 'city': 'Alfred Nzo', 'count': 35743, 'locations': 5}, {'country': 'ES', 'city': 'Alicante/Alacant', 'count': 800564, 'locations': 10}, {'country': 'US', 'city': 'Allegan', 'count': 53943, 'locations': 1}, {'country': 'US', 'city': 'Allentown-Bethlehem-Easton', 'count': 182871, 'locations': 2}, {'country': 'FR', 'city': 'Allier', 'count': 144846, 'locations': 1}, {'country': 'ES', 'city': 'Almería', 'count': 1035565, 'locations': 10}, {'country': 'MX', 'city': 'Almoloya de Juárez', 'count': 20070, 'locations': 1}, {'country': 'FR', 'city': 'Alpes-de-Haute-Provence', 'count': 247334, 'locations': 2}, {'country': 'FR', 'city': 'Alpes-Maritimes', 'count': 578386, 'locations': 9}, {'country': 'AE', 'city': 'Al Ruways Industrial City', 'count': 18357, 'locations': 1}, {'country': 'CL', 'city': 'Alto Hospicio', 'count': 4952, 'locations': 1}, {'country': 'AU', 'city': 'Altona North', 'count': 36497, 'locations': 1}, {'country': 'US', 'city': 'Altoona', 'count': 93893, 'locations': 1}, {'country': 'MX', 'city': 'Álvaro Obregón', 'count': 40162, 'locations': 1}, {'country': 'LT', 'city': 'Alytus', 'count': 13414, 'locations': 1}, {'country': 'US', 'city': 'AMADOR', 'count': 29595, 'locations': 1}, {'country': 'US', 'city': 'Amarillo', 'count': 56766, 'locations': 2}, {'country': 'TR', 'city': 'Amasya', 'count': 193554, 'locations': 4}, {'country': 'BR', 'city': 'Americana', 'count': 34528, 'locations': 1}, {'country': 'US', 'city': 'Americus', 'count': 35505, 'locations': 1}, {'country': 'JO', 'city': 'Amman', 'count': 39461, 'locations': 1}, {'country': 'TH', 'city': 'Amnat Charoen', 'count': 1231, 'locations': 1}, {'country': 'ES', 'city': 'Amposta', 'count': 58590, 'locations': 1}, {'country': 'NL', 'city': 'Amsterdam', 'count': 1573585, 'locations': 12}, {'country': 'US', 'city': 'Anchorage', 'count': 199202, 'locations': 3}, {'country': 'IT', 'city': 'Ancona', 'count': 372504, 'locations': 4}, {'country': 'CL', 'city': 'Andacollo', 'count': 97965, 'locations': 3}, {'country': 'US', 'city': 'Anderson', 'count': 69820, 'locations': 2}, {'country': 'US', 'city': 'ANDERSON', 'count': 18378, 'locations': 1}, {'country': 'US', 'city': 'ANDREW', 'count': 33962, 'locations': 1}, {'country': 'TR', 'city': 'Ankara', 'count': 444619, 'locations': 20}, {'country': 'US', 'city': 'Ann Arbor', 'count': 119997, 'locations': 2}, {'country': 'TR', 'city': 'Antalya', 'count': 116320, 'locations': 8}, {'country': 'CL', 'city': 'Antofagasta', 'count': 132959, 'locations': 1}, {'country': 'BE', 'city': 'Antwerpen', 'count': 567097, 'locations': 18}, {'country': 'NL', 'city': 'Antwerpen', 'count': 38606, 'locations': 1}, {'country': 'MX', 'city': 'Apizaco', 'count': 38748, 'locations': 1}, {'country': 'MX', 'city': 'Apodaca', 'count': 50470, 'locations': 1}, {'country': 'US', 'city': 'Appleton', 'count': 71519, 'locations': 1}, {'country': 'ES', 'city': 'Araba/Álava', 'count': 613028, 'locations': 7}, {'country': 'BR', 'city': 'Araçatuba', 'count': 30048, 'locations': 1}, {'country': 'RO', 'city': 'Arad', 'count': 104910, 'locations': 3}, {'country': 'US', 'city': 'ARAPAHOE', 'count': 43948, 'locations': 1}, {'country': 'BR', 'city': 'Araraquara', 'count': 39681, 'locations': 1}, {'country': 'US', 'city': 'ARCHULETA', 'count': 83879, 'locations': 1}, {'country': 'TR', 'city': 'Ardahan', 'count': 16801, 'locations': 1}, {'country': 'FR', 'city': 'Ardèche', 'count': 34744, 'locations': 1}, {'country': 'FR', 'city': 'Ardennes', 'count': 171613, 'locations': 2}, {'country': 'US', 'city': 'Ardmore', 'count': 126777, 'locations': 2}, {'country': 'IT', 'city': 'Arezzo', 'count': 129799, 'locations': 3}, {'country': 'RO', 'city': 'Argeş', 'count': 153182, 'locations': 4}, {'country': 'CL', 'city': 'Arica', 'count': 30444, 'locations': 1}]}\n",
      "https://api.openaq.org/v1/cities?country=AE&country=JP\n"
     ]
    }
   ],
   "source": [
    "countries = [\"AE\", \"JP\"]\n",
    "params = {\"country\": countries}\n",
    "respo = rq.get('https://api.openaq.org/v1/cities', params = params)\n",
    "print(respo.status_code)\n",
    "print(respo.json())\n",
    "print(respo.url)"
   ]
  },
  {
   "cell_type": "code",
   "execution_count": 18,
   "id": "cffd0fa3",
   "metadata": {},
   "outputs": [
    {
     "name": "stdout",
     "output_type": "stream",
     "text": [
      "200\n",
      "{'meta': {'name': 'openaq-api', 'license': '', 'website': '/', 'page': 1, 'limit': 1, 'found': 2444}, 'results': [{'country': 'JP', 'city': ' ', 'count': 19052693, 'locations': 1527}]}\n",
      "https://api.openaq.org/v1/cities?country=AE&country=JP&limit=1\n"
     ]
    }
   ],
   "source": [
    "countries = [\"AE\", \"JP\"]\n",
    "params = {\"country\": countries, \"limit\":'1'}\n",
    "respo = rq.get('https://api.openaq.org/v1/cities', params = params)\n",
    "print(respo.status_code)\n",
    "print(respo.json())\n",
    "print(respo.url)"
   ]
  },
  {
   "cell_type": "code",
   "execution_count": 20,
   "id": "67f9236a",
   "metadata": {},
   "outputs": [
    {
     "name": "stdout",
     "output_type": "stream",
     "text": [
      "200\n",
      "{'meta': {'name': 'openaq-api', 'license': '', 'website': '/', 'page': 1, 'limit': 3, 'found': 2444}, 'results': [{'country': 'JP', 'city': ' ', 'count': 19052693, 'locations': 1527}, {'country': 'US', 'city': '007', 'count': 20445, 'locations': 4}, {'country': 'US', 'city': '015', 'count': 1025, 'locations': 1}]}\n",
      "https://api.openaq.org/v1/cities?country=AE&country=JP&limit=3\n"
     ]
    }
   ],
   "source": [
    "respo = rq.get('https://api.openaq.org/v1/cities', params = {\"country\":[\"AE\", \"JP\"], \"limit\":\"3\"})\n",
    "print(respo.status_code)\n",
    "print(respo.json())\n",
    "print(respo.url)"
   ]
  }
 ],
 "metadata": {
  "kernelspec": {
   "display_name": "Python 3 (ipykernel)",
   "language": "python",
   "name": "python3"
  },
  "language_info": {
   "codemirror_mode": {
    "name": "ipython",
    "version": 3
   },
   "file_extension": ".py",
   "mimetype": "text/x-python",
   "name": "python",
   "nbconvert_exporter": "python",
   "pygments_lexer": "ipython3",
   "version": "3.10.12"
  }
 },
 "nbformat": 4,
 "nbformat_minor": 5
}
