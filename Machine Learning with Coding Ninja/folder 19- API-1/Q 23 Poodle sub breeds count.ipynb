{
 "cells": [
  {
   "cell_type": "code",
   "execution_count": 2,
   "id": "c9ef133f",
   "metadata": {},
   "outputs": [
    {
     "name": "stdout",
     "output_type": "stream",
     "text": [
      "medium\n",
      "miniature\n",
      "standard\n",
      "toy\n",
      "4\n"
     ]
    }
   ],
   "source": [
    "import requests as rq\n",
    "response = rq.get('https://dog.ceo/api/breeds/list/all')\n",
    "py_data = response.json()\n",
    "for i in py_data['message']['poodle']:\n",
    "    print(i)\n",
    "print(len(py_data['message']['poodle']))"
   ]
  },
  {
   "cell_type": "code",
   "execution_count": null,
   "id": "61ec5718",
   "metadata": {},
   "outputs": [],
   "source": []
  },
  {
   "cell_type": "code",
   "execution_count": null,
   "id": "f9ba7218",
   "metadata": {},
   "outputs": [],
   "source": []
  }
 ],
 "metadata": {
  "kernelspec": {
   "display_name": "Python 3 (ipykernel)",
   "language": "python",
   "name": "python3"
  },
  "language_info": {
   "codemirror_mode": {
    "name": "ipython",
    "version": 3
   },
   "file_extension": ".py",
   "mimetype": "text/x-python",
   "name": "python",
   "nbconvert_exporter": "python",
   "pygments_lexer": "ipython3",
   "version": "3.10.12"
  }
 },
 "nbformat": 4,
 "nbformat_minor": 5
}
