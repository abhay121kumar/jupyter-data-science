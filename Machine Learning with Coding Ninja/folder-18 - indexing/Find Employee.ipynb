{
 "cells": [
  {
   "cell_type": "code",
   "execution_count": 21,
   "id": "15503018",
   "metadata": {},
   "outputs": [
    {
     "name": "stdout",
     "output_type": "stream",
     "text": [
      "(101, 'Aadarsh', 25, 'Marketing', 50000)\n",
      "(102, 'Aarti', 27, 'Operations', 60000)\n",
      "(103, 'Siddharth', 25, 'Finance', 85000)\n",
      "(104, 'Aman', 24, 'Human Resource', 75000)\n",
      "(105, 'Amit', 30, 'Marketing', 50000)\n",
      "(106, 'Shivansh', 26, 'IT', 90000)\n",
      "(107, 'Vaibhav', 23, 'Finance', 85000)\n",
      "(108, 'Himanshu', 26, 'IT', 90000)\n",
      "(109, 'Raman', 25, 'Operations', 60000)\n",
      "(110, 'Kunal', 26, 'Marketing', 50000)\n",
      "(111, 'Adhira', 29, 'Human Resource', 75000)\n",
      "(112, 'Tanya', 24, 'Marketing', 50000)\n"
     ]
    }
   ],
   "source": [
    "import sqlite3\n",
    "\n",
    "db = sqlite3.connect('Investment Firm.sqlite')\n",
    "cur = db.cursor()\n",
    "cur.execute('select * from Employee_Details')\n",
    "for row in cur:\n",
    "    print(row)"
   ]
  },
  {
   "cell_type": "code",
   "execution_count": 17,
   "id": "ad30fbcf",
   "metadata": {},
   "outputs": [
    {
     "data": {
      "text/plain": [
       "<sqlite3.Cursor at 0x7f7b907492c0>"
      ]
     },
     "execution_count": 17,
     "metadata": {},
     "output_type": "execute_result"
    }
   ],
   "source": [
    "cur.execute('select distinct department, count(department) from Employee_Details group by department')"
   ]
  },
  {
   "cell_type": "code",
   "execution_count": 18,
   "id": "8ca357c5",
   "metadata": {},
   "outputs": [
    {
     "name": "stdout",
     "output_type": "stream",
     "text": [
      "('Finance', 2)\n",
      "('Human Resource', 2)\n",
      "('IT', 2)\n",
      "('Marketing', 4)\n",
      "('Operations', 2)\n"
     ]
    }
   ],
   "source": [
    "ans = cur.fetchall()\n",
    "for i in ans:\n",
    "    print(i)"
   ]
  },
  {
   "cell_type": "code",
   "execution_count": null,
   "id": "e0725215",
   "metadata": {},
   "outputs": [],
   "source": []
  },
  {
   "cell_type": "code",
   "execution_count": null,
   "id": "0a3dc818",
   "metadata": {},
   "outputs": [],
   "source": []
  },
  {
   "cell_type": "code",
   "execution_count": 22,
   "id": "55a87a4b",
   "metadata": {},
   "outputs": [
    {
     "name": "stdout",
     "output_type": "stream",
     "text": [
      "('Finance', 2)\n",
      "('Human Resource', 2)\n",
      "('IT', 2)\n",
      "('Marketing', 4)\n",
      "('Operations', 2)\n"
     ]
    }
   ],
   "source": [
    "cur.execute('select department, count(department) from Employee_Details group by department')\n",
    "ans = cur.fetchall()\n",
    "for i in ans:\n",
    "    print(i)"
   ]
  },
  {
   "cell_type": "code",
   "execution_count": null,
   "id": "9783c851",
   "metadata": {},
   "outputs": [],
   "source": []
  },
  {
   "cell_type": "code",
   "execution_count": null,
   "id": "b52f0edf",
   "metadata": {},
   "outputs": [],
   "source": []
  },
  {
   "cell_type": "code",
   "execution_count": null,
   "id": "704425db",
   "metadata": {},
   "outputs": [],
   "source": []
  },
  {
   "cell_type": "code",
   "execution_count": null,
   "id": "f3d36d28",
   "metadata": {},
   "outputs": [],
   "source": []
  },
  {
   "cell_type": "code",
   "execution_count": null,
   "id": "6aa8eee6",
   "metadata": {},
   "outputs": [],
   "source": []
  },
  {
   "cell_type": "code",
   "execution_count": 19,
   "id": "9b67342e",
   "metadata": {},
   "outputs": [
    {
     "name": "stdout",
     "output_type": "stream",
     "text": [
      "Finance 2\n",
      "Human Resource 2\n",
      "IT 2\n",
      "Marketing 3\n",
      "Operations 1\n"
     ]
    }
   ],
   "source": [
    "import sqlite3\n",
    "\n",
    "db = sqlite3.connect('Employee_Detail.sqlite')\n",
    "cur = db.cursor()\n",
    "\n",
    "cur.execute('select Department,count(*) from Employee_Detail group by Department')\n",
    "ans = cur.fetchall()\n",
    "for i in ans:\n",
    "    print(i[0],i[1])"
   ]
  },
  {
   "cell_type": "code",
   "execution_count": null,
   "id": "61944fcf",
   "metadata": {},
   "outputs": [],
   "source": []
  }
 ],
 "metadata": {
  "kernelspec": {
   "display_name": "Python 3 (ipykernel)",
   "language": "python",
   "name": "python3"
  },
  "language_info": {
   "codemirror_mode": {
    "name": "ipython",
    "version": 3
   },
   "file_extension": ".py",
   "mimetype": "text/x-python",
   "name": "python",
   "nbconvert_exporter": "python",
   "pygments_lexer": "ipython3",
   "version": "3.10.12"
  }
 },
 "nbformat": 4,
 "nbformat_minor": 5
}
