{
 "cells": [
  {
   "cell_type": "code",
   "execution_count": 2,
   "id": "2409d408",
   "metadata": {},
   "outputs": [
    {
     "data": {
      "text/plain": [
       "<sqlite3.Cursor at 0x7f032c3489c0>"
      ]
     },
     "execution_count": 2,
     "metadata": {},
     "output_type": "execute_result"
    }
   ],
   "source": [
    "import sqlite3\n",
    "\n",
    "db = sqlite3.connect('Investment Firm.sqlite')\n",
    "cur = db.cursor()\n",
    "cur"
   ]
  },
  {
   "cell_type": "code",
   "execution_count": 3,
   "id": "9921f1d1",
   "metadata": {},
   "outputs": [],
   "source": [
    "cur.execute('delete from Employee_Details where employee_id = 100')\n",
    "db.commit()"
   ]
  },
  {
   "cell_type": "code",
   "execution_count": 4,
   "id": "2a0da50b",
   "metadata": {},
   "outputs": [],
   "source": [
    "cur.execute('delete from Employee_Details where employee_id = 101')\n",
    "db.commit()"
   ]
  },
  {
   "cell_type": "code",
   "execution_count": 5,
   "id": "73aa116d",
   "metadata": {},
   "outputs": [],
   "source": [
    "cur.execute('delete from Employee_Details where employee_id = 102')\n",
    "db.commit()"
   ]
  },
  {
   "cell_type": "code",
   "execution_count": null,
   "id": "6cf8b720",
   "metadata": {},
   "outputs": [],
   "source": []
  },
  {
   "cell_type": "code",
   "execution_count": 7,
   "id": "88ced207",
   "metadata": {},
   "outputs": [
    {
     "data": {
      "text/plain": [
       "<sqlite3.Cursor at 0x7f032c3489c0>"
      ]
     },
     "execution_count": 7,
     "metadata": {},
     "output_type": "execute_result"
    }
   ],
   "source": [
    "value = [(101, \"Aadarsh\", 25, \"Marketing\", 50000), (102, \"Aarti\", 27, \"Operations\", 60000)]\n",
    "cur.executemany('insert into Employee_Details values(?,?,?,?,?)', value)"
   ]
  },
  {
   "cell_type": "code",
   "execution_count": 8,
   "id": "3e72c58e",
   "metadata": {},
   "outputs": [],
   "source": [
    "db.commit()"
   ]
  },
  {
   "cell_type": "code",
   "execution_count": null,
   "id": "2dced1ca",
   "metadata": {},
   "outputs": [],
   "source": []
  },
  {
   "cell_type": "code",
   "execution_count": null,
   "id": "fffda30b",
   "metadata": {},
   "outputs": [],
   "source": []
  },
  {
   "cell_type": "code",
   "execution_count": 10,
   "id": "ee5b1138",
   "metadata": {},
   "outputs": [],
   "source": [
    "values = [(103, \"Siddharth\", 25, \"Finance\", 85000), (104, 'Aman', 24, 'Human Resource', 75000),(105, 'Amit', 30, 'Marketing', 50000),(106, 'Shivansh', 26, 'IT', 90000)]\n",
    "cur.executemany('Insert into Employee_Details values (?,?,?,?,?)', values)\n",
    "db.commit()\n",
    "values = [(107, 'Vaibhav', 23, 'Finance', 85000),(108, 'Himanshu', 26, 'IT', 90000),(109, 'Raman', 25, 'Operations', 60000)]\n",
    "cur.executemany('Insert into Employee_Details values (?,?,?,?,?)', values)\n",
    "db.commit()\n",
    "values = [(110, 'Kunal', 26, 'Marketing', 50000),(111, 'Adhira', 29, 'Human Resource', 75000),(112, 'Tanya', 24, 'Marketing', 50000)]\n",
    "cur.executemany('Insert into Employee_Details values (?,?,?,?,?)', values)\n",
    "db.commit()"
   ]
  },
  {
   "cell_type": "code",
   "execution_count": null,
   "id": "cbcc181c",
   "metadata": {},
   "outputs": [],
   "source": []
  }
 ],
 "metadata": {
  "kernelspec": {
   "display_name": "Python 3 (ipykernel)",
   "language": "python",
   "name": "python3"
  },
  "language_info": {
   "codemirror_mode": {
    "name": "ipython",
    "version": 3
   },
   "file_extension": ".py",
   "mimetype": "text/x-python",
   "name": "python",
   "nbconvert_exporter": "python",
   "pygments_lexer": "ipython3",
   "version": "3.10.12"
  }
 },
 "nbformat": 4,
 "nbformat_minor": 5
}
