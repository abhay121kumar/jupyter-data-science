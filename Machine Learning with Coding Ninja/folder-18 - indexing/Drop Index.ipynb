{
 "cells": [
  {
   "cell_type": "code",
   "execution_count": 1,
   "id": "099a632a",
   "metadata": {},
   "outputs": [
    {
     "name": "stdout",
     "output_type": "stream",
     "text": [
      "Done\n"
     ]
    }
   ],
   "source": [
    "import sqlite3\n",
    "\n",
    "db = sqlite3.connect('Employee_Detail.sqlite')\n",
    "db\n",
    "cur = db.cursor()\n",
    "cur\n",
    "sql_query = 'create table Employee_Detail(Employee_ID int primary key, Name text, Age int, Department text, Salary int )'\n",
    "cur.execute(sql_query)\n",
    "values = [(101, 'Aadarsh', 25, 'Marketing', 50000),(102, 'Aarti', 27, 'Operations', 60000),(103, 'Siddharth', 25, 'Finance', 85000)]\n",
    "cur.executemany('Insert into Employee_Detail values (?,?,?,?,?)', values)\n",
    "db.commit()\n",
    "values = [(104, 'Aman', 24, 'Human Resource', 75000),(105, 'Amit', 30, 'Marketing', 50000),(106, 'Shivansh', 26, 'IT', 90000)]\n",
    "cur.executemany('Insert into Employee_Detail values (?,?,?,?,?)', values)\n",
    "db.commit()\n",
    "values = [(107, 'Vaibhav', 23, 'Finance', 85000),(108, 'Himanshu', 26, 'IT', 90000),(109, 'Raman', 25, 'Operations', 60000)]\n",
    "cur.executemany('Insert into Employee_Detail values (?,?,?,?,?)', values)\n",
    "db.commit()\n",
    "values = [(110, 'Kunal', 26, 'Marketing', 50000),(111, 'Adhira', 29, 'Human Resource', 75000),(112, 'Tanya', 24, 'Marketing', 50000)]\n",
    "cur.executemany('Insert into Employee_Detail values (?,?,?,?,?)', values)\n",
    "db.commit()\n",
    "db.close()\n",
    "print('Done')"
   ]
  },
  {
   "cell_type": "code",
   "execution_count": 2,
   "id": "216aeea1",
   "metadata": {},
   "outputs": [
    {
     "ename": "ProgrammingError",
     "evalue": "Cannot operate on a closed database.",
     "output_type": "error",
     "traceback": [
      "\u001b[0;31m---------------------------------------------------------------------------\u001b[0m",
      "\u001b[0;31mProgrammingError\u001b[0m                          Traceback (most recent call last)",
      "Cell \u001b[0;32mIn[2], line 1\u001b[0m\n\u001b[0;32m----> 1\u001b[0m \u001b[43mcur\u001b[49m\u001b[38;5;241;43m.\u001b[39;49m\u001b[43mexecute\u001b[49m\u001b[43m(\u001b[49m\u001b[38;5;124;43m'\u001b[39;49m\u001b[38;5;124;43mdelete from Employee_Details where employee_id = 101 \u001b[39;49m\u001b[38;5;124;43m'\u001b[39;49m\u001b[43m)\u001b[49m\n",
      "\u001b[0;31mProgrammingError\u001b[0m: Cannot operate on a closed database."
     ]
    }
   ],
   "source": [
    "cur.execute('delete from Employee_Details where employee_id = 101 ')"
   ]
  },
  {
   "cell_type": "code",
   "execution_count": 3,
   "id": "3766c3ef",
   "metadata": {},
   "outputs": [
    {
     "data": {
      "text/plain": [
       "<sqlite3.Cursor at 0x7fe1bae478c0>"
      ]
     },
     "execution_count": 3,
     "metadata": {},
     "output_type": "execute_result"
    }
   ],
   "source": [
    "db = sqlite3.connect('Employee_Detail.sqlite')\n",
    "db\n",
    "cur = db.cursor()\n",
    "cur"
   ]
  },
  {
   "cell_type": "code",
   "execution_count": 5,
   "id": "7dd27c5b",
   "metadata": {},
   "outputs": [
    {
     "data": {
      "text/plain": [
       "<sqlite3.Cursor at 0x7fe1bae478c0>"
      ]
     },
     "execution_count": 5,
     "metadata": {},
     "output_type": "execute_result"
    }
   ],
   "source": [
    "cur.execute('delete from Employee_Detail where employee_id = 101 ')"
   ]
  },
  {
   "cell_type": "code",
   "execution_count": 6,
   "id": "bbcc3033",
   "metadata": {},
   "outputs": [],
   "source": [
    "db.commit()"
   ]
  },
  {
   "cell_type": "code",
   "execution_count": 7,
   "id": "037f0948",
   "metadata": {},
   "outputs": [],
   "source": [
    "db.close()"
   ]
  },
  {
   "cell_type": "code",
   "execution_count": null,
   "id": "0f4be4c3",
   "metadata": {},
   "outputs": [],
   "source": []
  }
 ],
 "metadata": {
  "kernelspec": {
   "display_name": "Python 3 (ipykernel)",
   "language": "python",
   "name": "python3"
  },
  "language_info": {
   "codemirror_mode": {
    "name": "ipython",
    "version": 3
   },
   "file_extension": ".py",
   "mimetype": "text/x-python",
   "name": "python",
   "nbconvert_exporter": "python",
   "pygments_lexer": "ipython3",
   "version": "3.10.12"
  }
 },
 "nbformat": 4,
 "nbformat_minor": 5
}
