{
 "cells": [
  {
   "cell_type": "code",
   "execution_count": null,
   "id": "5aa1da03",
   "metadata": {},
   "outputs": [],
   "source": []
  },
  {
   "cell_type": "code",
   "execution_count": 54,
   "id": "aa33229d",
   "metadata": {},
   "outputs": [
    {
     "name": "stdout",
     "output_type": "stream",
     "text": [
      "8.1\n"
     ]
    }
   ],
   "source": [
    "import sqlite3\n",
    "import pandas as pd\n",
    "import numpy as np\n",
    "\n",
    "db = sqlite3.connect('IMDB.sqlite')\n",
    "data = pd.read_sql_query('select * from earning ', db)\n",
    "data['total'] = data[\"Domestic\"]+data[\"Worldwide\"]\n",
    "temp = max(data['total'])\n",
    "data = data[data['total']==temp]\n",
    "ans = data.values[0][0]\n",
    "new_data = pd.read_sql_query('select * from IMDB ', db)\n",
    "new_data = new_data[new_data['Movie_id']==ans]\n",
    "print(new_data.values[0][2])\n",
    "# new_data"
   ]
  },
  {
   "cell_type": "code",
   "execution_count": null,
   "id": "79cb49ed",
   "metadata": {},
   "outputs": [],
   "source": []
  },
  {
   "cell_type": "code",
   "execution_count": null,
   "id": "5f1ab661",
   "metadata": {},
   "outputs": [],
   "source": []
  },
  {
   "cell_type": "code",
   "execution_count": null,
   "id": "6dc0c2d8",
   "metadata": {},
   "outputs": [],
   "source": []
  },
  {
   "cell_type": "code",
   "execution_count": null,
   "id": "f381cc89",
   "metadata": {},
   "outputs": [],
   "source": []
  },
  {
   "cell_type": "code",
   "execution_count": null,
   "id": "06952284",
   "metadata": {},
   "outputs": [],
   "source": []
  },
  {
   "cell_type": "code",
   "execution_count": null,
   "id": "c2d75577",
   "metadata": {},
   "outputs": [],
   "source": []
  },
  {
   "cell_type": "code",
   "execution_count": null,
   "id": "f247542f",
   "metadata": {},
   "outputs": [],
   "source": []
  },
  {
   "cell_type": "code",
   "execution_count": 38,
   "id": "52ed3b97",
   "metadata": {},
   "outputs": [
    {
     "data": {
      "text/html": [
       "<div>\n",
       "<style scoped>\n",
       "    .dataframe tbody tr th:only-of-type {\n",
       "        vertical-align: middle;\n",
       "    }\n",
       "\n",
       "    .dataframe tbody tr th {\n",
       "        vertical-align: top;\n",
       "    }\n",
       "\n",
       "    .dataframe thead th {\n",
       "        text-align: right;\n",
       "    }\n",
       "</style>\n",
       "<table border=\"1\" class=\"dataframe\">\n",
       "  <thead>\n",
       "    <tr style=\"text-align: right;\">\n",
       "      <th></th>\n",
       "      <th>Movie_id</th>\n",
       "      <th>Domestic</th>\n",
       "      <th>Worldwide</th>\n",
       "      <th>Movie_id</th>\n",
       "      <th>Title</th>\n",
       "      <th>Rating</th>\n",
       "      <th>TotalVotes</th>\n",
       "      <th>MetaCritic</th>\n",
       "      <th>Budget</th>\n",
       "      <th>Runtime</th>\n",
       "      <th>...</th>\n",
       "      <th>Votes3044M</th>\n",
       "      <th>Votes3044F</th>\n",
       "      <th>Votes45A</th>\n",
       "      <th>Votes45AM</th>\n",
       "      <th>Votes45AF</th>\n",
       "      <th>VotesIMDB</th>\n",
       "      <th>Votes1000</th>\n",
       "      <th>VotesUS</th>\n",
       "      <th>VotesnUS</th>\n",
       "      <th>Total</th>\n",
       "    </tr>\n",
       "  </thead>\n",
       "  <tbody>\n",
       "    <tr>\n",
       "      <th>79</th>\n",
       "      <td>38626</td>\n",
       "      <td>936662225</td>\n",
       "      <td>2.068224e+09</td>\n",
       "      <td>38626</td>\n",
       "      <td>Star Wars: The Force Awakens (2015)</td>\n",
       "      <td>8.1</td>\n",
       "      <td>676732</td>\n",
       "      <td>81</td>\n",
       "      <td>245000000.0</td>\n",
       "      <td>136 min</td>\n",
       "      <td>...</td>\n",
       "      <td>7.9</td>\n",
       "      <td>8.2</td>\n",
       "      <td>7.9</td>\n",
       "      <td>7.8</td>\n",
       "      <td>8.2</td>\n",
       "      <td>8.3</td>\n",
       "      <td>7.7</td>\n",
       "      <td>8.2</td>\n",
       "      <td>7.9</td>\n",
       "      <td>3.004886e+09</td>\n",
       "    </tr>\n",
       "  </tbody>\n",
       "</table>\n",
       "<p>1 rows × 56 columns</p>\n",
       "</div>"
      ],
      "text/plain": [
       "   Movie_id   Domestic     Worldwide Movie_id  \\\n",
       "79    38626  936662225  2.068224e+09    38626   \n",
       "\n",
       "                                  Title  Rating  TotalVotes MetaCritic  \\\n",
       "79  Star Wars: The Force Awakens (2015)     8.1      676732         81   \n",
       "\n",
       "         Budget  Runtime  ... Votes3044M Votes3044F Votes45A Votes45AM  \\\n",
       "79  245000000.0  136 min  ...        7.9        8.2      7.9       7.8   \n",
       "\n",
       "   Votes45AF VotesIMDB Votes1000 VotesUS VotesnUS         Total  \n",
       "79       8.2       8.3       7.7     8.2      7.9  3.004886e+09  \n",
       "\n",
       "[1 rows x 56 columns]"
      ]
     },
     "execution_count": 38,
     "metadata": {},
     "output_type": "execute_result"
    }
   ],
   "source": [
    "import pandas as pd\n",
    "import sqlite3\n",
    "\n",
    "db = sqlite3.connect('IMDB.sqlite')\n",
    "data = pd.read_sql_query('select * from earning inner join IMDB on earning.Movie_id=IMDB.Movie_id',db)\n",
    "# select * from earning join IMDB using(Movie_id) \n",
    "data[\"Total\"] = data[\"Domestic\"] + data[\"Worldwide\"]\n",
    "max1 = max(data[\"Total\"])\n",
    "data=data[data['Total']==max1]\n",
    "print(data.values[0][5])"
   ]
  },
  {
   "cell_type": "code",
   "execution_count": null,
   "id": "210b5559",
   "metadata": {},
   "outputs": [],
   "source": []
  }
 ],
 "metadata": {
  "kernelspec": {
   "display_name": "Python 3 (ipykernel)",
   "language": "python",
   "name": "python3"
  },
  "language_info": {
   "codemirror_mode": {
    "name": "ipython",
    "version": 3
   },
   "file_extension": ".py",
   "mimetype": "text/x-python",
   "name": "python",
   "nbconvert_exporter": "python",
   "pygments_lexer": "ipython3",
   "version": "3.10.12"
  }
 },
 "nbformat": 4,
 "nbformat_minor": 5
}
