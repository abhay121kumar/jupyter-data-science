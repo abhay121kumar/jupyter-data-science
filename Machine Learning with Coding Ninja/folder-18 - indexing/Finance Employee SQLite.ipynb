{
 "cells": [
  {
   "cell_type": "code",
   "execution_count": 14,
   "id": "9ef70fc3",
   "metadata": {},
   "outputs": [
    {
     "data": {
      "text/plain": [
       "<sqlite3.Cursor at 0x7f2bac198ec0>"
      ]
     },
     "execution_count": 14,
     "metadata": {},
     "output_type": "execute_result"
    }
   ],
   "source": [
    "import sqlite3\n",
    "\n",
    "db = sqlite3.connect('Investment Firm.sqlite')\n",
    "cur = db.cursor()\n",
    "cur"
   ]
  },
  {
   "cell_type": "code",
   "execution_count": 15,
   "id": "69547776",
   "metadata": {},
   "outputs": [
    {
     "data": {
      "text/plain": [
       "<sqlite3.Cursor at 0x7f2bac198ec0>"
      ]
     },
     "execution_count": 15,
     "metadata": {},
     "output_type": "execute_result"
    }
   ],
   "source": [
    "cur.execute('select * from Employee_Details')\n"
   ]
  },
  {
   "cell_type": "code",
   "execution_count": 3,
   "id": "f63a5669",
   "metadata": {},
   "outputs": [
    {
     "name": "stdout",
     "output_type": "stream",
     "text": [
      "(101, 'Aadarsh', 25, 'Marketing', 50000)\n",
      "(102, 'Aarti', 27, 'Operations', 60000)\n",
      "(103, 'Siddharth', 25, 'Finance', 85000)\n",
      "(104, 'Aman', 24, 'Human Resource', 75000)\n",
      "(105, 'Amit', 30, 'Marketing', 50000)\n",
      "(106, 'Shivansh', 26, 'IT', 90000)\n",
      "(107, 'Vaibhav', 23, 'Finance', 85000)\n",
      "(108, 'Himanshu', 26, 'IT', 90000)\n",
      "(109, 'Raman', 25, 'Operations', 60000)\n",
      "(110, 'Kunal', 26, 'Marketing', 50000)\n",
      "(111, 'Adhira', 29, 'Human Resource', 75000)\n",
      "(112, 'Tanya', 24, 'Marketing', 50000)\n"
     ]
    }
   ],
   "source": [
    "for row in cur:\n",
    "    print(row)"
   ]
  },
  {
   "cell_type": "code",
   "execution_count": 23,
   "id": "d5fe09ea",
   "metadata": {},
   "outputs": [
    {
     "data": {
      "text/plain": [
       "<sqlite3.Cursor at 0x7f2bac198ec0>"
      ]
     },
     "execution_count": 23,
     "metadata": {},
     "output_type": "execute_result"
    }
   ],
   "source": [
    "value = cur.execute('select employee_id from Employee_Details where department=\"Finance\"')\n",
    "value"
   ]
  },
  {
   "cell_type": "code",
   "execution_count": 24,
   "id": "2428762d",
   "metadata": {},
   "outputs": [
    {
     "name": "stdout",
     "output_type": "stream",
     "text": [
      "(103,)\n",
      "(107,)\n"
     ]
    }
   ],
   "source": [
    "for row in value:\n",
    "    print(row)\n",
    "# print(type(row))"
   ]
  },
  {
   "cell_type": "code",
   "execution_count": null,
   "id": "f3d050e2",
   "metadata": {},
   "outputs": [],
   "source": []
  },
  {
   "cell_type": "code",
   "execution_count": 25,
   "id": "165d38fd",
   "metadata": {},
   "outputs": [
    {
     "name": "stdout",
     "output_type": "stream",
     "text": [
      "103\n",
      "107\n",
      "<class 'tuple'>\n"
     ]
    }
   ],
   "source": [
    "import sqlite3\n",
    "\n",
    "db = sqlite3.connect('Employee_Detail.sqlite')\n",
    "cur = db.cursor()\n",
    "\n",
    "cur.execute('select * from Employee_Detail where Department = \"Finance\"')\n",
    "ans = cur.fetchall()\n",
    "for i in ans:\n",
    "    print(i[0])\n",
    "# db.close()\n",
    "print(type(i))"
   ]
  },
  {
   "cell_type": "code",
   "execution_count": null,
   "id": "0cd58b54",
   "metadata": {},
   "outputs": [],
   "source": []
  },
  {
   "cell_type": "code",
   "execution_count": null,
   "id": "87bb5116",
   "metadata": {},
   "outputs": [],
   "source": []
  },
  {
   "cell_type": "code",
   "execution_count": null,
   "id": "d33289b2",
   "metadata": {},
   "outputs": [],
   "source": []
  }
 ],
 "metadata": {
  "kernelspec": {
   "display_name": "Python 3 (ipykernel)",
   "language": "python",
   "name": "python3"
  },
  "language_info": {
   "codemirror_mode": {
    "name": "ipython",
    "version": 3
   },
   "file_extension": ".py",
   "mimetype": "text/x-python",
   "name": "python",
   "nbconvert_exporter": "python",
   "pygments_lexer": "ipython3",
   "version": "3.10.12"
  }
 },
 "nbformat": 4,
 "nbformat_minor": 5
}
