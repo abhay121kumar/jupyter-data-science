{
 "cells": [
  {
   "cell_type": "code",
   "execution_count": 4,
   "id": "e29bd0b7",
   "metadata": {},
   "outputs": [
    {
     "data": {
      "text/plain": [
       "<sqlite3.Connection at 0x7f42fd5dc940>"
      ]
     },
     "execution_count": 4,
     "metadata": {},
     "output_type": "execute_result"
    }
   ],
   "source": [
    "import sqlite3\n",
    "\n",
    "db = sqlite3.connect('School.sqlite')\n",
    "db"
   ]
  },
  {
   "cell_type": "code",
   "execution_count": 5,
   "id": "c90b79ef",
   "metadata": {},
   "outputs": [
    {
     "data": {
      "text/plain": [
       "<sqlite3.Cursor at 0x7f42f473c8c0>"
      ]
     },
     "execution_count": 5,
     "metadata": {},
     "output_type": "execute_result"
    }
   ],
   "source": [
    "cur = db.cursor()\n",
    "cur"
   ]
  },
  {
   "cell_type": "code",
   "execution_count": 6,
   "id": "0211bcc9",
   "metadata": {},
   "outputs": [
    {
     "data": {
      "text/plain": [
       "<sqlite3.Cursor at 0x7f42f473c8c0>"
      ]
     },
     "execution_count": 6,
     "metadata": {},
     "output_type": "execute_result"
    }
   ],
   "source": [
    "cur.execute('select *from student')"
   ]
  },
  {
   "cell_type": "code",
   "execution_count": 7,
   "id": "4f30992b",
   "metadata": {},
   "outputs": [
    {
     "name": "stdout",
     "output_type": "stream",
     "text": [
      "(101, 'Aman', 30)\n",
      "(102, 'Amit', 20)\n",
      "(103, 'Mohit', 50)\n",
      "(104, 'Nikhil', 30)\n",
      "(105, 'Nidhi', 30)\n",
      "(106, 'Manisha', 30)\n",
      "(107, 'Ankush', 30)\n"
     ]
    }
   ],
   "source": [
    "for row in cur:\n",
    "    print(row)"
   ]
  },
  {
   "cell_type": "code",
   "execution_count": null,
   "id": "93ade1cf",
   "metadata": {},
   "outputs": [],
   "source": []
  },
  {
   "cell_type": "code",
   "execution_count": 8,
   "id": "1d35440e",
   "metadata": {},
   "outputs": [
    {
     "name": "stdout",
     "output_type": "stream",
     "text": [
      "(101, 'Aman', 30)\n"
     ]
    }
   ],
   "source": [
    "cur.execute('select * from student')\n",
    "print(cur.fetchone())"
   ]
  },
  {
   "cell_type": "code",
   "execution_count": 9,
   "id": "e5209759",
   "metadata": {},
   "outputs": [
    {
     "name": "stdout",
     "output_type": "stream",
     "text": [
      "(102, 'Amit', 20)\n"
     ]
    }
   ],
   "source": [
    "print(cur.fetchone())"
   ]
  },
  {
   "cell_type": "code",
   "execution_count": 10,
   "id": "adb1c55a",
   "metadata": {},
   "outputs": [
    {
     "name": "stdout",
     "output_type": "stream",
     "text": [
      "[(101, 'Aman', 30), (102, 'Amit', 20), (103, 'Mohit', 50)]\n"
     ]
    }
   ],
   "source": [
    "cur.execute('select *from student')\n",
    "print(cur.fetchmany(3))"
   ]
  },
  {
   "cell_type": "code",
   "execution_count": 11,
   "id": "dae225f2",
   "metadata": {},
   "outputs": [
    {
     "name": "stdout",
     "output_type": "stream",
     "text": [
      "[(101, 'Aman', 30)]\n"
     ]
    }
   ],
   "source": [
    "cur.execute('select *from student')\n",
    "print(cur.fetchmany())"
   ]
  },
  {
   "cell_type": "code",
   "execution_count": 12,
   "id": "b7566957",
   "metadata": {},
   "outputs": [
    {
     "name": "stdout",
     "output_type": "stream",
     "text": [
      "[(101, 'Aman', 30), (102, 'Amit', 20), (103, 'Mohit', 50), (104, 'Nikhil', 30), (105, 'Nidhi', 30), (106, 'Manisha', 30), (107, 'Ankush', 30)]\n"
     ]
    }
   ],
   "source": [
    "cur.execute('select *from student')\n",
    "print(cur.fetchall())"
   ]
  },
  {
   "cell_type": "code",
   "execution_count": 13,
   "id": "26029762",
   "metadata": {},
   "outputs": [
    {
     "data": {
      "text/plain": [
       "[(101, 'Aman', 30), (102, 'Amit', 20), (103, 'Mohit', 50)]"
      ]
     },
     "execution_count": 13,
     "metadata": {},
     "output_type": "execute_result"
    }
   ],
   "source": [
    "cur.execute('select *from student')\n",
    "ans = cur.fetchmany(3)\n",
    "ans"
   ]
  },
  {
   "cell_type": "code",
   "execution_count": 15,
   "id": "79f09548",
   "metadata": {},
   "outputs": [
    {
     "name": "stdout",
     "output_type": "stream",
     "text": [
      "[(104, 'Nikhil', 30), (105, 'Nidhi', 30), (106, 'Manisha', 30), (107, 'Ankush', 30)]\n"
     ]
    }
   ],
   "source": [
    "cur.execute('select *from student where RollNumber>103')\n",
    "print(cur.fetchall())"
   ]
  },
  {
   "cell_type": "code",
   "execution_count": 16,
   "id": "4689f0d6",
   "metadata": {},
   "outputs": [
    {
     "name": "stdout",
     "output_type": "stream",
     "text": [
      "[(101, 'Aman', 30), (102, 'Amit', 20), (107, 'Ankush', 30)]\n"
     ]
    }
   ],
   "source": [
    "cur.execute('select *from student where Name like \"A%\"')\n",
    "print(cur.fetchall())"
   ]
  },
  {
   "cell_type": "code",
   "execution_count": null,
   "id": "4bb8e778",
   "metadata": {},
   "outputs": [],
   "source": []
  },
  {
   "cell_type": "code",
   "execution_count": null,
   "id": "c2c2d175",
   "metadata": {},
   "outputs": [],
   "source": []
  }
 ],
 "metadata": {
  "kernelspec": {
   "display_name": "Python 3 (ipykernel)",
   "language": "python",
   "name": "python3"
  },
  "language_info": {
   "codemirror_mode": {
    "name": "ipython",
    "version": 3
   },
   "file_extension": ".py",
   "mimetype": "text/x-python",
   "name": "python",
   "nbconvert_exporter": "python",
   "pygments_lexer": "ipython3",
   "version": "3.10.12"
  }
 },
 "nbformat": 4,
 "nbformat_minor": 5
}
