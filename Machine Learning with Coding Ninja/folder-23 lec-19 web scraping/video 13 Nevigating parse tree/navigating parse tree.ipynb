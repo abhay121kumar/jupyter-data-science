{
 "cells": [
  {
   "cell_type": "code",
   "execution_count": 33,
   "id": "890a0825",
   "metadata": {},
   "outputs": [],
   "source": [
    "html = '<!DOCTYPE html><html><head><title>Learning Beautiful Soup</title></head>\\\n",
    "<body><h1> About Us </h1><p id=\"first_para\"> 1 Coding Ninjas Website 1</p><div class = \"first_div_class\">\\\n",
    "<p class=\"abc\" id=\"second para\">2 Coding Ninjas Website 2</p>\\\n",
    "<p class -\"abc\">3 Coding Ninjas Website 3</p><p>4 Coding Ninjas Website 4</p>\\\n",
    "<a href=\"https://www.codingninjas.in/\">Link to Coding Ninjas Website</a>\\\n",
    "<ul><li>This</li><li>is</li><li>an</li><li>unordered</li><li>list.</li></ul>\\\n",
    "</div><p id = \"template_p\">This is a template paragraph tag</p>\\\n",
    "<a href = \"https://www.facebook.com/codingninjas/\">\\\n",
    "This is the link of our Facebook Page</a></body></html>'\n"
   ]
  },
  {
   "cell_type": "code",
   "execution_count": 2,
   "id": "aeac803f",
   "metadata": {},
   "outputs": [],
   "source": [
    "html = '<!DOCTYPE html>\\\n",
    "<html>\\\n",
    "<head>\\\n",
    "<title> Testing Web Page</title>\\\n",
    "</head>\\\n",
    "<body>\\\n",
    "<h1> Web Scraping 1</h1>\\\n",
    "<p id=\"first_para\">\\\n",
    " lets start learning\\\n",
    " <b> web scraping 2</b>\\\n",
    "</p>\\\n",
    "<p class = \"abc\" id=\"secod_para\">\\\n",
    " Hello ! Good Mornign. Have a good day!\\\n",
    " <a href=\"https://www.codingninjas.com/studio/library/introduction-to-api-and-its-usage\"> Coding Ninja </a>\\\n",
    "</p>\\\n",
    "<p class = \"abc\">\\\n",
    " Coding Ninja website\\\n",
    " <a href=\"https://www.codingninjas.com/\"> Coding Ninja </a>\\\n",
    "</p>\\\n",
    "<!-- <p>\\\n",
    " Hello ! Good Mornign. Have a good day!\\\n",
    "</p> -->\\\n",
    "<!-- <p>\\\n",
    "<a href=\"https://www.codingninjas.com/studio/library/introduction-to-api-and-its-usage\"> Coding Ninja </a>\\\n",
    "</p> -->\\\n",
    "</body>\\\n",
    "</html>'\n",
    "\n"
   ]
  },
  {
   "cell_type": "code",
   "execution_count": 3,
   "id": "c7e60e8a",
   "metadata": {},
   "outputs": [],
   "source": [
    "from bs4 import BeautifulSoup"
   ]
  },
  {
   "cell_type": "code",
   "execution_count": 4,
   "id": "77df0499",
   "metadata": {},
   "outputs": [
    {
     "data": {
      "text/plain": [
       "<!DOCTYPE html>\n",
       "<html><head><title> Testing Web Page</title></head><body><h1> Web Scraping 1</h1><p id=\"first_para\"> lets start learning <b> web scraping 2</b></p><p class=\"abc\" id=\"secod_para\"> Hello ! Good Mornign. Have a good day! <a href=\"https://www.codingninjas.com/studio/library/introduction-to-api-and-its-usage\"> Coding Ninja </a></p><p class=\"abc\"> Coding Ninja website <a href=\"https://www.codingninjas.com/\"> Coding Ninja </a></p><!-- <p> Hello ! Good Mornign. Have a good day!</p> --><!-- <p><a href=\"https://www.codingninjas.com/studio/library/introduction-to-api-and-its-usage\"> Coding Ninja </a></p> --></body></html>"
      ]
     },
     "execution_count": 4,
     "metadata": {},
     "output_type": "execute_result"
    }
   ],
   "source": [
    "data = BeautifulSoup(html,'html.parser')\n",
    "data"
   ]
  },
  {
   "cell_type": "code",
   "execution_count": 45,
   "id": "0b6a48f7",
   "metadata": {},
   "outputs": [
    {
     "name": "stdout",
     "output_type": "stream",
     "text": [
      "<!DOCTYPE html>\n",
      "<html>\n",
      " <head>\n",
      "  <title>\n",
      "   Testing Web Page\n",
      "  </title>\n",
      " </head>\n",
      " <body>\n",
      "  <h1>\n",
      "   Web Scraping 1\n",
      "  </h1>\n",
      "  <p id=\"first_para\">\n",
      "   lets start learning\n",
      "   <b>\n",
      "    web scraping 2\n",
      "   </b>\n",
      "  </p>\n",
      "  <p class=\"abc\" id=\"secod_para\">\n",
      "   Hello ! Good Mornign. Have a good day!\n",
      "   <a href=\"https://www.codingninjas.com/studio/library/introduction-to-api-and-its-usage\">\n",
      "    Coding Ninja\n",
      "   </a>\n",
      "  </p>\n",
      "  <p class=\"abc\">\n",
      "   Coding Ninja website\n",
      "   <a href=\"https://www.codingninjas.com/\">\n",
      "    Coding Ninja\n",
      "   </a>\n",
      "  </p>\n",
      "  <!-- <p> Hello ! Good Mornign. Have a good day!</p> -->\n",
      "  <!-- <p><a href=\"https://www.codingninjas.com/studio/library/introduction-to-api-and-its-usage\"> Coding Ninja </a></p> -->\n",
      " </body>\n",
      "</html>\n",
      "\n"
     ]
    }
   ],
   "source": [
    "print(data.prettify())"
   ]
  },
  {
   "cell_type": "code",
   "execution_count": 46,
   "id": "b329d5ea",
   "metadata": {},
   "outputs": [
    {
     "name": "stdout",
     "output_type": "stream",
     "text": [
      "<p id=\"first_para\"> lets start learning <b> web scraping 2</b></p>\n",
      "<p class=\"abc\" id=\"secod_para\"> Hello ! Good Mornign. Have a good day! <a href=\"https://www.codingninjas.com/studio/library/introduction-to-api-and-its-usage\"> Coding Ninja </a></p>\n",
      "<p class=\"abc\"> Coding Ninja website <a href=\"https://www.codingninjas.com/\"> Coding Ninja </a></p>\n"
     ]
    }
   ],
   "source": [
    "li = data.find_all('p')\n",
    "\n",
    "for i in li:\n",
    "    print(i)"
   ]
  },
  {
   "cell_type": "code",
   "execution_count": 47,
   "id": "a45d8fa9",
   "metadata": {},
   "outputs": [
    {
     "data": {
      "text/plain": [
       "[<p id=\"first_para\"> lets start learning <b> web scraping 2</b></p>,\n",
       " <p class=\"abc\" id=\"secod_para\"> Hello ! Good Mornign. Have a good day! <a href=\"https://www.codingninjas.com/studio/library/introduction-to-api-and-its-usage\"> Coding Ninja </a></p>,\n",
       " <a href=\"https://www.codingninjas.com/studio/library/introduction-to-api-and-its-usage\"> Coding Ninja </a>,\n",
       " <p class=\"abc\"> Coding Ninja website <a href=\"https://www.codingninjas.com/\"> Coding Ninja </a></p>,\n",
       " <a href=\"https://www.codingninjas.com/\"> Coding Ninja </a>]"
      ]
     },
     "execution_count": 47,
     "metadata": {},
     "output_type": "execute_result"
    }
   ],
   "source": [
    "data.find_all(['p', 'a'])"
   ]
  },
  {
   "cell_type": "code",
   "execution_count": 48,
   "id": "11382dd6",
   "metadata": {},
   "outputs": [
    {
     "data": {
      "text/plain": [
       "[<html><head><title> Testing Web Page</title></head><body><h1> Web Scraping 1</h1><p id=\"first_para\"> lets start learning <b> web scraping 2</b></p><p class=\"abc\" id=\"secod_para\"> Hello ! Good Mornign. Have a good day! <a href=\"https://www.codingninjas.com/studio/library/introduction-to-api-and-its-usage\"> Coding Ninja </a></p><p class=\"abc\"> Coding Ninja website <a href=\"https://www.codingninjas.com/\"> Coding Ninja </a></p><!-- <p> Hello ! Good Mornign. Have a good day!</p> --><!-- <p><a href=\"https://www.codingninjas.com/studio/library/introduction-to-api-and-its-usage\"> Coding Ninja </a></p> --></body></html>,\n",
       " <head><title> Testing Web Page</title></head>,\n",
       " <title> Testing Web Page</title>,\n",
       " <body><h1> Web Scraping 1</h1><p id=\"first_para\"> lets start learning <b> web scraping 2</b></p><p class=\"abc\" id=\"secod_para\"> Hello ! Good Mornign. Have a good day! <a href=\"https://www.codingninjas.com/studio/library/introduction-to-api-and-its-usage\"> Coding Ninja </a></p><p class=\"abc\"> Coding Ninja website <a href=\"https://www.codingninjas.com/\"> Coding Ninja </a></p><!-- <p> Hello ! Good Mornign. Have a good day!</p> --><!-- <p><a href=\"https://www.codingninjas.com/studio/library/introduction-to-api-and-its-usage\"> Coding Ninja </a></p> --></body>,\n",
       " <h1> Web Scraping 1</h1>,\n",
       " <p id=\"first_para\"> lets start learning <b> web scraping 2</b></p>,\n",
       " <b> web scraping 2</b>,\n",
       " <p class=\"abc\" id=\"secod_para\"> Hello ! Good Mornign. Have a good day! <a href=\"https://www.codingninjas.com/studio/library/introduction-to-api-and-its-usage\"> Coding Ninja </a></p>,\n",
       " <a href=\"https://www.codingninjas.com/studio/library/introduction-to-api-and-its-usage\"> Coding Ninja </a>,\n",
       " <p class=\"abc\"> Coding Ninja website <a href=\"https://www.codingninjas.com/\"> Coding Ninja </a></p>,\n",
       " <a href=\"https://www.codingninjas.com/\"> Coding Ninja </a>]"
      ]
     },
     "execution_count": 48,
     "metadata": {},
     "output_type": "execute_result"
    }
   ],
   "source": [
    "data.find_all(True)"
   ]
  },
  {
   "cell_type": "code",
   "execution_count": 49,
   "id": "b5e344ca",
   "metadata": {},
   "outputs": [
    {
     "data": {
      "text/plain": [
       "[<p id=\"first_para\"> lets start learning <b> web scraping 2</b></p>]"
      ]
     },
     "execution_count": 49,
     "metadata": {},
     "output_type": "execute_result"
    }
   ],
   "source": [
    "data.find_all(id = 'first_para')"
   ]
  },
  {
   "cell_type": "code",
   "execution_count": 57,
   "id": "3ec5858e",
   "metadata": {},
   "outputs": [
    {
     "data": {
      "text/plain": [
       "[<p class=\"abc\" id=\"secod_para\"> Hello ! Good Mornign. Have a good day! <a href=\"https://www.codingninjas.com/studio/library/introduction-to-api-and-its-usage\"> Coding Ninja </a></p>,\n",
       " <p class=\"abc\"> Coding Ninja website <a href=\"https://www.codingninjas.com/\"> Coding Ninja </a></p>]"
      ]
     },
     "execution_count": 57,
     "metadata": {},
     "output_type": "execute_result"
    }
   ],
   "source": [
    "data.find_all(class_ = \"abc\")"
   ]
  },
  {
   "cell_type": "code",
   "execution_count": 51,
   "id": "00b47405",
   "metadata": {},
   "outputs": [
    {
     "data": {
      "text/plain": [
       "<head><title> Testing Web Page</title></head>"
      ]
     },
     "execution_count": 51,
     "metadata": {},
     "output_type": "execute_result"
    }
   ],
   "source": [
    "data.head"
   ]
  },
  {
   "cell_type": "code",
   "execution_count": 52,
   "id": "6ff06acc",
   "metadata": {},
   "outputs": [
    {
     "data": {
      "text/plain": [
       "<title> Testing Web Page</title>"
      ]
     },
     "execution_count": 52,
     "metadata": {},
     "output_type": "execute_result"
    }
   ],
   "source": [
    "data.head.title"
   ]
  },
  {
   "cell_type": "code",
   "execution_count": 53,
   "id": "a69adb47",
   "metadata": {},
   "outputs": [
    {
     "data": {
      "text/plain": [
       "<title> Testing Web Page</title>"
      ]
     },
     "execution_count": 53,
     "metadata": {},
     "output_type": "execute_result"
    }
   ],
   "source": [
    "data.title"
   ]
  },
  {
   "cell_type": "code",
   "execution_count": 54,
   "id": "d17ec34a",
   "metadata": {},
   "outputs": [
    {
     "data": {
      "text/plain": [
       "' Testing Web Page'"
      ]
     },
     "execution_count": 54,
     "metadata": {},
     "output_type": "execute_result"
    }
   ],
   "source": [
    "data.title.string"
   ]
  },
  {
   "cell_type": "code",
   "execution_count": 55,
   "id": "05baea4c",
   "metadata": {},
   "outputs": [
    {
     "name": "stdout",
     "output_type": "stream",
     "text": [
      "<p id=\"first_para\"> lets start learning <b> web scraping 2</b></p>\n",
      "<p class=\"abc\" id=\"secod_para\"> Hello ! Good Mornign. Have a good day! <a href=\"https://www.codingninjas.com/studio/library/introduction-to-api-and-its-usage\"> Coding Ninja </a></p>\n",
      "<p class=\"abc\"> Coding Ninja website <a href=\"https://www.codingninjas.com/\"> Coding Ninja </a></p>\n"
     ]
    }
   ],
   "source": [
    "li = data.find_all('p')\n",
    "\n",
    "for i in li:\n",
    "    print(i)"
   ]
  },
  {
   "cell_type": "code",
   "execution_count": 56,
   "id": "121be742",
   "metadata": {},
   "outputs": [
    {
     "name": "stdout",
     "output_type": "stream",
     "text": [
      "None\n",
      "None\n",
      "None\n"
     ]
    }
   ],
   "source": [
    "for i in li:\n",
    "    print(i.string)"
   ]
  },
  {
   "cell_type": "code",
   "execution_count": 58,
   "id": "b3d7ae4b",
   "metadata": {},
   "outputs": [
    {
     "name": "stdout",
     "output_type": "stream",
     "text": [
      "<generator object Tag._all_strings at 0x7f8cd2d98040>\n",
      "<generator object Tag._all_strings at 0x7f8cd2d98040>\n",
      "<generator object Tag._all_strings at 0x7f8cd2d98040>\n"
     ]
    }
   ],
   "source": [
    "for i in li:\n",
    "    print(i.strings)"
   ]
  },
  {
   "cell_type": "code",
   "execution_count": 59,
   "id": "b8bd254e",
   "metadata": {},
   "outputs": [
    {
     "name": "stdout",
     "output_type": "stream",
     "text": [
      "[' lets start learning ', ' web scraping 2']\n",
      "[' Hello ! Good Mornign. Have a good day! ', ' Coding Ninja ']\n",
      "[' Coding Ninja website ', ' Coding Ninja ']\n"
     ]
    }
   ],
   "source": [
    "for i in li:\n",
    "    print(list(i.strings))"
   ]
  },
  {
   "cell_type": "code",
   "execution_count": null,
   "id": "3aa997b5",
   "metadata": {},
   "outputs": [],
   "source": [
    "#list"
   ]
  },
  {
   "cell_type": "code",
   "execution_count": 62,
   "id": "3da6876e",
   "metadata": {},
   "outputs": [
    {
     "name": "stdout",
     "output_type": "stream",
     "text": [
      "2\n",
      "[<head><title> Testing Web Page</title></head>, <body><h1> Web Scraping 1</h1><p id=\"first_para\"> lets start learning <b> web scraping 2</b></p><p class=\"abc\" id=\"secod_para\"> Hello ! Good Mornign. Have a good day! <a href=\"https://www.codingninjas.com/studio/library/introduction-to-api-and-its-usage\"> Coding Ninja </a></p><p class=\"abc\"> Coding Ninja website <a href=\"https://www.codingninjas.com/\"> Coding Ninja </a></p><!-- <p> Hello ! Good Mornign. Have a good day!</p> --><!-- <p><a href=\"https://www.codingninjas.com/studio/library/introduction-to-api-and-its-usage\"> Coding Ninja </a></p> --></body>]\n"
     ]
    }
   ],
   "source": [
    "li = data.html.contents\n",
    "print(len(li))\n",
    "print(li)"
   ]
  },
  {
   "cell_type": "code",
   "execution_count": null,
   "id": "936a5d62",
   "metadata": {},
   "outputs": [],
   "source": [
    "#iterator"
   ]
  },
  {
   "cell_type": "code",
   "execution_count": 63,
   "id": "8ab3992d",
   "metadata": {},
   "outputs": [
    {
     "name": "stdout",
     "output_type": "stream",
     "text": [
      "<head><title> Testing Web Page</title></head>\n",
      "<body><h1> Web Scraping 1</h1><p id=\"first_para\"> lets start learning <b> web scraping 2</b></p><p class=\"abc\" id=\"secod_para\"> Hello ! Good Mornign. Have a good day! <a href=\"https://www.codingninjas.com/studio/library/introduction-to-api-and-its-usage\"> Coding Ninja </a></p><p class=\"abc\"> Coding Ninja website <a href=\"https://www.codingninjas.com/\"> Coding Ninja </a></p><!-- <p> Hello ! Good Mornign. Have a good day!</p> --><!-- <p><a href=\"https://www.codingninjas.com/studio/library/introduction-to-api-and-its-usage\"> Coding Ninja </a></p> --></body>\n"
     ]
    }
   ],
   "source": [
    "li_22 = data.html.children\n",
    "for i in li_22:\n",
    "    print(i)"
   ]
  },
  {
   "cell_type": "code",
   "execution_count": null,
   "id": "dedd3dc9",
   "metadata": {},
   "outputs": [],
   "source": []
  },
  {
   "cell_type": "code",
   "execution_count": 64,
   "id": "2246864c",
   "metadata": {},
   "outputs": [
    {
     "name": "stdout",
     "output_type": "stream",
     "text": [
      "20\n",
      "[<head><title> Testing Web Page</title></head>, <title> Testing Web Page</title>, ' Testing Web Page', <body><h1> Web Scraping 1</h1><p id=\"first_para\"> lets start learning <b> web scraping 2</b></p><p class=\"abc\" id=\"secod_para\"> Hello ! Good Mornign. Have a good day! <a href=\"https://www.codingninjas.com/studio/library/introduction-to-api-and-its-usage\"> Coding Ninja </a></p><p class=\"abc\"> Coding Ninja website <a href=\"https://www.codingninjas.com/\"> Coding Ninja </a></p><!-- <p> Hello ! Good Mornign. Have a good day!</p> --><!-- <p><a href=\"https://www.codingninjas.com/studio/library/introduction-to-api-and-its-usage\"> Coding Ninja </a></p> --></body>, <h1> Web Scraping 1</h1>, ' Web Scraping 1', <p id=\"first_para\"> lets start learning <b> web scraping 2</b></p>, ' lets start learning ', <b> web scraping 2</b>, ' web scraping 2', <p class=\"abc\" id=\"secod_para\"> Hello ! Good Mornign. Have a good day! <a href=\"https://www.codingninjas.com/studio/library/introduction-to-api-and-its-usage\"> Coding Ninja </a></p>, ' Hello ! Good Mornign. Have a good day! ', <a href=\"https://www.codingninjas.com/studio/library/introduction-to-api-and-its-usage\"> Coding Ninja </a>, ' Coding Ninja ', <p class=\"abc\"> Coding Ninja website <a href=\"https://www.codingninjas.com/\"> Coding Ninja </a></p>, ' Coding Ninja website ', <a href=\"https://www.codingninjas.com/\"> Coding Ninja </a>, ' Coding Ninja ', ' <p> Hello ! Good Mornign. Have a good day!</p> ', ' <p><a href=\"https://www.codingninjas.com/studio/library/introduction-to-api-and-its-usage\"> Coding Ninja </a></p> ']\n"
     ]
    }
   ],
   "source": [
    "desc = list(data.html.descendants)\n",
    "print(len(desc))\n",
    "print(desc)"
   ]
  },
  {
   "cell_type": "code",
   "execution_count": null,
   "id": "649dfd6e",
   "metadata": {},
   "outputs": [],
   "source": []
  },
  {
   "cell_type": "code",
   "execution_count": null,
   "id": "f5f0f48b",
   "metadata": {},
   "outputs": [],
   "source": []
  },
  {
   "cell_type": "code",
   "execution_count": null,
   "id": "e4170baa",
   "metadata": {},
   "outputs": [],
   "source": []
  },
  {
   "cell_type": "markdown",
   "id": "1e4043ca",
   "metadata": {},
   "source": [
    "# Going up"
   ]
  },
  {
   "cell_type": "code",
   "execution_count": 5,
   "id": "8eba3fd6",
   "metadata": {},
   "outputs": [
    {
     "name": "stdout",
     "output_type": "stream",
     "text": [
      "2\n",
      "['html', <html><head><title> Testing Web Page</title></head><body><h1> Web Scraping 1</h1><p id=\"first_para\"> lets start learning <b> web scraping 2</b></p><p class=\"abc\" id=\"secod_para\"> Hello ! Good Mornign. Have a good day! <a href=\"https://www.codingninjas.com/studio/library/introduction-to-api-and-its-usage\"> Coding Ninja </a></p><p class=\"abc\"> Coding Ninja website <a href=\"https://www.codingninjas.com/\"> Coding Ninja </a></p><!-- <p> Hello ! Good Mornign. Have a good day!</p> --><!-- <p><a href=\"https://www.codingninjas.com/studio/library/introduction-to-api-and-its-usage\"> Coding Ninja </a></p> --></body></html>]\n"
     ]
    }
   ],
   "source": [
    "par = list(data.html.parent)\n",
    "print(len(par))\n",
    "print(par)"
   ]
  },
  {
   "cell_type": "code",
   "execution_count": 6,
   "id": "2c1ff268",
   "metadata": {},
   "outputs": [
    {
     "name": "stdout",
     "output_type": "stream",
     "text": [
      "6\n",
      "[<h1> Web Scraping 1</h1>, <p id=\"first_para\"> lets start learning <b> web scraping 2</b></p>, <p class=\"abc\" id=\"secod_para\"> Hello ! Good Mornign. Have a good day! <a href=\"https://www.codingninjas.com/studio/library/introduction-to-api-and-its-usage\"> Coding Ninja </a></p>, <p class=\"abc\"> Coding Ninja website <a href=\"https://www.codingninjas.com/\"> Coding Ninja </a></p>, ' <p> Hello ! Good Mornign. Have a good day!</p> ', ' <p><a href=\"https://www.codingninjas.com/studio/library/introduction-to-api-and-its-usage\"> Coding Ninja </a></p> ']\n"
     ]
    }
   ],
   "source": [
    "par = list(data.p.parent)\n",
    "print(len(par))\n",
    "print(par)"
   ]
  },
  {
   "cell_type": "code",
   "execution_count": null,
   "id": "bce5fde4",
   "metadata": {},
   "outputs": [],
   "source": []
  },
  {
   "cell_type": "code",
   "execution_count": 7,
   "id": "9b278303",
   "metadata": {},
   "outputs": [],
   "source": [
    "#parents"
   ]
  },
  {
   "cell_type": "code",
   "execution_count": 8,
   "id": "114c15cd",
   "metadata": {},
   "outputs": [
    {
     "name": "stdout",
     "output_type": "stream",
     "text": [
      "1\n",
      "[<!DOCTYPE html>\n",
      "<html><head><title> Testing Web Page</title></head><body><h1> Web Scraping 1</h1><p id=\"first_para\"> lets start learning <b> web scraping 2</b></p><p class=\"abc\" id=\"secod_para\"> Hello ! Good Mornign. Have a good day! <a href=\"https://www.codingninjas.com/studio/library/introduction-to-api-and-its-usage\"> Coding Ninja </a></p><p class=\"abc\"> Coding Ninja website <a href=\"https://www.codingninjas.com/\"> Coding Ninja </a></p><!-- <p> Hello ! Good Mornign. Have a good day!</p> --><!-- <p><a href=\"https://www.codingninjas.com/studio/library/introduction-to-api-and-its-usage\"> Coding Ninja </a></p> --></body></html>]\n"
     ]
    }
   ],
   "source": [
    "par = list(data.html.parents)\n",
    "print(len(par))\n",
    "print(par)"
   ]
  },
  {
   "cell_type": "code",
   "execution_count": 9,
   "id": "c3ed8dd3",
   "metadata": {},
   "outputs": [
    {
     "name": "stdout",
     "output_type": "stream",
     "text": [
      "3\n",
      "[<body><h1> Web Scraping 1</h1><p id=\"first_para\"> lets start learning <b> web scraping 2</b></p><p class=\"abc\" id=\"secod_para\"> Hello ! Good Mornign. Have a good day! <a href=\"https://www.codingninjas.com/studio/library/introduction-to-api-and-its-usage\"> Coding Ninja </a></p><p class=\"abc\"> Coding Ninja website <a href=\"https://www.codingninjas.com/\"> Coding Ninja </a></p><!-- <p> Hello ! Good Mornign. Have a good day!</p> --><!-- <p><a href=\"https://www.codingninjas.com/studio/library/introduction-to-api-and-its-usage\"> Coding Ninja </a></p> --></body>, <html><head><title> Testing Web Page</title></head><body><h1> Web Scraping 1</h1><p id=\"first_para\"> lets start learning <b> web scraping 2</b></p><p class=\"abc\" id=\"secod_para\"> Hello ! Good Mornign. Have a good day! <a href=\"https://www.codingninjas.com/studio/library/introduction-to-api-and-its-usage\"> Coding Ninja </a></p><p class=\"abc\"> Coding Ninja website <a href=\"https://www.codingninjas.com/\"> Coding Ninja </a></p><!-- <p> Hello ! Good Mornign. Have a good day!</p> --><!-- <p><a href=\"https://www.codingninjas.com/studio/library/introduction-to-api-and-its-usage\"> Coding Ninja </a></p> --></body></html>, <!DOCTYPE html>\n",
      "<html><head><title> Testing Web Page</title></head><body><h1> Web Scraping 1</h1><p id=\"first_para\"> lets start learning <b> web scraping 2</b></p><p class=\"abc\" id=\"secod_para\"> Hello ! Good Mornign. Have a good day! <a href=\"https://www.codingninjas.com/studio/library/introduction-to-api-and-its-usage\"> Coding Ninja </a></p><p class=\"abc\"> Coding Ninja website <a href=\"https://www.codingninjas.com/\"> Coding Ninja </a></p><!-- <p> Hello ! Good Mornign. Have a good day!</p> --><!-- <p><a href=\"https://www.codingninjas.com/studio/library/introduction-to-api-and-its-usage\"> Coding Ninja </a></p> --></body></html>]\n"
     ]
    }
   ],
   "source": [
    "par = list(data.p.parents)\n",
    "print(len(par))\n",
    "print(par)"
   ]
  },
  {
   "cell_type": "code",
   "execution_count": null,
   "id": "73d9a5d9",
   "metadata": {},
   "outputs": [],
   "source": []
  },
  {
   "cell_type": "markdown",
   "id": "c42c4564",
   "metadata": {},
   "source": [
    "# Going sideways"
   ]
  },
  {
   "cell_type": "code",
   "execution_count": 10,
   "id": "94c000f1",
   "metadata": {},
   "outputs": [
    {
     "ename": "TypeError",
     "evalue": "'NoneType' object is not iterable",
     "output_type": "error",
     "traceback": [
      "\u001b[0;31m---------------------------------------------------------------------------\u001b[0m",
      "\u001b[0;31mTypeError\u001b[0m                                 Traceback (most recent call last)",
      "Cell \u001b[0;32mIn[10], line 1\u001b[0m\n\u001b[0;32m----> 1\u001b[0m sidewayNext \u001b[38;5;241m=\u001b[39m \u001b[38;5;28;43mlist\u001b[39;49m\u001b[43m(\u001b[49m\u001b[43mdata\u001b[49m\u001b[38;5;241;43m.\u001b[39;49m\u001b[43mhtml\u001b[49m\u001b[38;5;241;43m.\u001b[39;49m\u001b[43mnext_sibling\u001b[49m\u001b[43m)\u001b[49m\n\u001b[1;32m      2\u001b[0m \u001b[38;5;28mprint\u001b[39m(\u001b[38;5;28mlen\u001b[39m(sidewayNext))\n\u001b[1;32m      3\u001b[0m \u001b[38;5;28mprint\u001b[39m(sidewayNext)\n",
      "\u001b[0;31mTypeError\u001b[0m: 'NoneType' object is not iterable"
     ]
    }
   ],
   "source": [
    "sidewayNext = list(data.html.next_sibling)\n",
    "print(len(sidewayNext))\n",
    "print(sidewayNext)"
   ]
  },
  {
   "cell_type": "code",
   "execution_count": 11,
   "id": "d3913335",
   "metadata": {},
   "outputs": [
    {
     "name": "stdout",
     "output_type": "stream",
     "text": [
      "None\n"
     ]
    }
   ],
   "source": [
    "print(data.html.next_sibling)"
   ]
  },
  {
   "cell_type": "code",
   "execution_count": null,
   "id": "5779d13e",
   "metadata": {},
   "outputs": [],
   "source": []
  }
 ],
 "metadata": {
  "kernelspec": {
   "display_name": "Python 3 (ipykernel)",
   "language": "python",
   "name": "python3"
  },
  "language_info": {
   "codemirror_mode": {
    "name": "ipython",
    "version": 3
   },
   "file_extension": ".py",
   "mimetype": "text/x-python",
   "name": "python",
   "nbconvert_exporter": "python",
   "pygments_lexer": "ipython3",
   "version": "3.10.12"
  }
 },
 "nbformat": 4,
 "nbformat_minor": 5
}
