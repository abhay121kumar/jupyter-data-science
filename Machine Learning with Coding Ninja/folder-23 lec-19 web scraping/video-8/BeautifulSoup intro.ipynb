{
 "cells": [
  {
   "cell_type": "code",
   "execution_count": null,
   "id": "3e0ccb4d",
   "metadata": {},
   "outputs": [],
   "source": []
  },
  {
   "cell_type": "code",
   "execution_count": 38,
   "id": "5cc68756",
   "metadata": {},
   "outputs": [],
   "source": [
    "html = '<!DOCTYPE html>\\\n",
    "<html>\\\n",
    "<head>\\\n",
    "<title> Testing Web Page</title>\\\n",
    "</head>\\\n",
    "<body>\\\n",
    "<h1> Web Scraping</h1>\\\n",
    "<p class = \"can be shared in multiple p tag\">\\\n",
    " Hello ! Good Mornign. Have a good day!\\\n",
    "</p>\\\n",
    "<p class = \"can be shared in multiple p tag\">\\\n",
    " Hello !  bhai\\\n",
    "</p>\\\n",
    "<!-- <p>\\\n",
    " Hello ! Good Mornign. Have a good day!\\\n",
    "</p> -->\\\n",
    "<p id = \"uniqe\">\\\n",
    "<a href=\"https://www.codingninjas.com/studio/library/introduction-to-api-and-its-usage\"> Coding Ninja </a>\\\n",
    "</p>\\\n",
    "<!-- <p>\\\n",
    "<a href=\"https://www.codingninjas.com/studio/library/introduction-to-api-and-its-usage\"> Coding Ninja </a>\\\n",
    "</p> -->\\\n",
    "</body>\\\n",
    "</html>'"
   ]
  },
  {
   "cell_type": "code",
   "execution_count": 11,
   "id": "cfac1249",
   "metadata": {},
   "outputs": [],
   "source": [
    "from bs4 import BeautifulSoup"
   ]
  },
  {
   "cell_type": "code",
   "execution_count": 39,
   "id": "81b0ec84",
   "metadata": {},
   "outputs": [
    {
     "name": "stdout",
     "output_type": "stream",
     "text": [
      "<!DOCTYPE html>\n",
      "<html><head><title> Testing Web Page</title></head><body><h1> Web Scraping</h1><p class=\"can be shared in multiple p tag\"> Hello ! Good Mornign. Have a good day!</p><p class=\"can be shared in multiple p tag\"> Hello !  bhai</p><!-- <p> Hello ! Good Mornign. Have a good day!</p> --><p id=\"uniqe\"><a href=\"https://www.codingninjas.com/studio/library/introduction-to-api-and-its-usage\"> Coding Ninja </a></p><!-- <p><a href=\"https://www.codingninjas.com/studio/library/introduction-to-api-and-its-usage\"> Coding Ninja </a></p> --></body></html>\n"
     ]
    }
   ],
   "source": [
    "data = BeautifulSoup(html, 'html.parser')\n",
    "print(data)"
   ]
  },
  {
   "cell_type": "code",
   "execution_count": 18,
   "id": "d448400b",
   "metadata": {},
   "outputs": [
    {
     "name": "stdout",
     "output_type": "stream",
     "text": [
      "<class 'bs4.BeautifulSoup'>\n"
     ]
    }
   ],
   "source": [
    "print(type(data))"
   ]
  },
  {
   "cell_type": "code",
   "execution_count": null,
   "id": "6874404e",
   "metadata": {},
   "outputs": [],
   "source": []
  },
  {
   "cell_type": "code",
   "execution_count": 17,
   "id": "41b237b0",
   "metadata": {},
   "outputs": [
    {
     "name": "stdout",
     "output_type": "stream",
     "text": [
      "<!DOCTYPE html>\n",
      "<html>\n",
      " <head>\n",
      "  <title>\n",
      "   Testing Web Page\n",
      "  </title>\n",
      " </head>\n",
      " <body>\n",
      "  <h1>\n",
      "   Web Scraping\n",
      "  </h1>\n",
      "  <p class=\"can be shared in multiple p tag\">\n",
      "   Hello ! Good Mornign. Have a good day!\n",
      "  </p>\n",
      "  <p class=\"can be shared in multiple p tag\">\n",
      "   Hello !  bhai\n",
      "  </p>\n",
      "  <!-- <p> Hello ! Good Mornign. Have a good day!</p> -->\n",
      "  <p id=\"uniqe\">\n",
      "   <a href=\"https://www.codingninjas.com/studio/library/introduction-to-api-and-its-usage\">\n",
      "    Coding Ninja\n",
      "   </a>\n",
      "  </p>\n",
      "  <!-- <p><a href=\"https://www.codingninjas.com/studio/library/introduction-to-api-and-its-usage\"> Coding Ninja </a></p> -->\n",
      " </body>\n",
      "</html>\n",
      "\n"
     ]
    }
   ],
   "source": [
    "print(data.prettify())"
   ]
  },
  {
   "cell_type": "code",
   "execution_count": 19,
   "id": "dba319e1",
   "metadata": {},
   "outputs": [
    {
     "data": {
      "text/plain": [
       "<title> Testing Web Page</title>"
      ]
     },
     "execution_count": 19,
     "metadata": {},
     "output_type": "execute_result"
    }
   ],
   "source": [
    "data.title"
   ]
  },
  {
   "cell_type": "code",
   "execution_count": 20,
   "id": "e7a64c18",
   "metadata": {},
   "outputs": [
    {
     "data": {
      "text/plain": [
       "<head><title> Testing Web Page</title></head>"
      ]
     },
     "execution_count": 20,
     "metadata": {},
     "output_type": "execute_result"
    }
   ],
   "source": [
    "data.head"
   ]
  },
  {
   "cell_type": "code",
   "execution_count": 21,
   "id": "698c49c4",
   "metadata": {},
   "outputs": [
    {
     "data": {
      "text/plain": [
       "<h1> Web Scraping</h1>"
      ]
     },
     "execution_count": 21,
     "metadata": {},
     "output_type": "execute_result"
    }
   ],
   "source": [
    "data.h1"
   ]
  },
  {
   "cell_type": "code",
   "execution_count": 22,
   "id": "f03ed495",
   "metadata": {},
   "outputs": [
    {
     "data": {
      "text/plain": [
       "<p class=\"can be shared in multiple p tag\"> Hello ! Good Mornign. Have a good day!</p>"
      ]
     },
     "execution_count": 22,
     "metadata": {},
     "output_type": "execute_result"
    }
   ],
   "source": [
    "data.p"
   ]
  },
  {
   "cell_type": "code",
   "execution_count": 23,
   "id": "149b709c",
   "metadata": {},
   "outputs": [],
   "source": [
    "data.h2"
   ]
  },
  {
   "cell_type": "code",
   "execution_count": 25,
   "id": "51e00eb0",
   "metadata": {},
   "outputs": [],
   "source": [
    "# no error means and no result means data is not present \n",
    "# that you are requsting for"
   ]
  },
  {
   "cell_type": "code",
   "execution_count": 28,
   "id": "e5aca29d",
   "metadata": {},
   "outputs": [
    {
     "name": "stdout",
     "output_type": "stream",
     "text": [
      "<title> Testing Web Page</title>\n",
      "title\n",
      " Testing Web Page\n"
     ]
    }
   ],
   "source": [
    "print(data.title)\n",
    "print(data.title.name)\n",
    "print(data.title.string)"
   ]
  },
  {
   "cell_type": "code",
   "execution_count": 29,
   "id": "2da20264",
   "metadata": {},
   "outputs": [
    {
     "name": "stdout",
     "output_type": "stream",
     "text": [
      "<h1> Web Scraping</h1>\n",
      "h1\n",
      " Web Scraping\n"
     ]
    }
   ],
   "source": [
    "print(data.h1)\n",
    "print(data.h1.name)\n",
    "print(data.h1.string)"
   ]
  },
  {
   "cell_type": "code",
   "execution_count": 30,
   "id": "c8df4ab6",
   "metadata": {},
   "outputs": [
    {
     "name": "stdout",
     "output_type": "stream",
     "text": [
      "{}\n"
     ]
    }
   ],
   "source": [
    "print(data.title.attrs)"
   ]
  },
  {
   "cell_type": "code",
   "execution_count": 40,
   "id": "1d2cc70f",
   "metadata": {},
   "outputs": [
    {
     "name": "stdout",
     "output_type": "stream",
     "text": [
      "{'class': ['can', 'be', 'shared', 'in', 'multiple', 'p', 'tag']}\n"
     ]
    }
   ],
   "source": [
    "print(data.p.attrs)"
   ]
  },
  {
   "cell_type": "code",
   "execution_count": 42,
   "id": "f5a9fcb4",
   "metadata": {},
   "outputs": [
    {
     "name": "stdout",
     "output_type": "stream",
     "text": [
      "['can', 'be', 'shared', 'in', 'multiple', 'p', 'tag']\n"
     ]
    }
   ],
   "source": [
    "print(data.p.get('class'))"
   ]
  },
  {
   "cell_type": "code",
   "execution_count": null,
   "id": "272e8802",
   "metadata": {},
   "outputs": [],
   "source": []
  },
  {
   "cell_type": "code",
   "execution_count": 32,
   "id": "7e867664",
   "metadata": {},
   "outputs": [
    {
     "ename": "KeyError",
     "evalue": "'id'",
     "output_type": "error",
     "traceback": [
      "\u001b[0;31m---------------------------------------------------------------------------\u001b[0m",
      "\u001b[0;31mKeyError\u001b[0m                                  Traceback (most recent call last)",
      "Cell \u001b[0;32mIn[32], line 1\u001b[0m\n\u001b[0;32m----> 1\u001b[0m \u001b[43mdata\u001b[49m\u001b[38;5;241;43m.\u001b[39;49m\u001b[43mp\u001b[49m\u001b[43m[\u001b[49m\u001b[38;5;124;43m'\u001b[39;49m\u001b[38;5;124;43mid\u001b[39;49m\u001b[38;5;124;43m'\u001b[39;49m\u001b[43m]\u001b[49m\n",
      "File \u001b[0;32m~/.local/lib/python3.10/site-packages/bs4/element.py:1573\u001b[0m, in \u001b[0;36mTag.__getitem__\u001b[0;34m(self, key)\u001b[0m\n\u001b[1;32m   1570\u001b[0m \u001b[38;5;28;01mdef\u001b[39;00m \u001b[38;5;21m__getitem__\u001b[39m(\u001b[38;5;28mself\u001b[39m, key):\n\u001b[1;32m   1571\u001b[0m \u001b[38;5;250m    \u001b[39m\u001b[38;5;124;03m\"\"\"tag[key] returns the value of the 'key' attribute for the Tag,\u001b[39;00m\n\u001b[1;32m   1572\u001b[0m \u001b[38;5;124;03m    and throws an exception if it's not there.\"\"\"\u001b[39;00m\n\u001b[0;32m-> 1573\u001b[0m     \u001b[38;5;28;01mreturn\u001b[39;00m \u001b[38;5;28;43mself\u001b[39;49m\u001b[38;5;241;43m.\u001b[39;49m\u001b[43mattrs\u001b[49m\u001b[43m[\u001b[49m\u001b[43mkey\u001b[49m\u001b[43m]\u001b[49m\n",
      "\u001b[0;31mKeyError\u001b[0m: 'id'"
     ]
    }
   ],
   "source": [
    "data.p['id'] # error because in starting there is no id element"
   ]
  },
  {
   "cell_type": "code",
   "execution_count": 43,
   "id": "5829a88b",
   "metadata": {},
   "outputs": [],
   "source": [
    "html = '<!DOCTYPE html>\\\n",
    "<html>\\\n",
    "<head>\\\n",
    "<title> Testing Web Page</title>\\\n",
    "</head>\\\n",
    "<body>\\\n",
    "<h1> Web Scraping</h1>\\\n",
    "<p id = \"uniqe\">\\\n",
    "<a href=\"https://www.codingninjas.com/studio/library/introduction-to-api-and-its-usage\"> Coding Ninja </a>\\\n",
    "</p>\\\n",
    "<p class = \"can be shared in multiple p tag\">\\\n",
    " Hello ! Good Mornign. Have a good day!\\\n",
    "</p>\\\n",
    "<p class = \"can be shared in multiple p tag\">\\\n",
    " Hello !  bhai\\\n",
    "</p>\\\n",
    "<!-- <p>\\\n",
    " Hello ! Good Mornign. Have a good day!\\\n",
    "</p> -->\\\n",
    "<!-- <p>\\\n",
    "<a href=\"https://www.codingninjas.com/studio/library/introduction-to-api-and-its-usage\"> Coding Ninja </a>\\\n",
    "</p> -->\\\n",
    "</body>\\\n",
    "</html>'"
   ]
  },
  {
   "cell_type": "code",
   "execution_count": 44,
   "id": "ca91430e",
   "metadata": {},
   "outputs": [
    {
     "name": "stdout",
     "output_type": "stream",
     "text": [
      "<!DOCTYPE html>\n",
      "<html><head><title> Testing Web Page</title></head><body><h1> Web Scraping</h1><p id=\"uniqe\"><a href=\"https://www.codingninjas.com/studio/library/introduction-to-api-and-its-usage\"> Coding Ninja </a></p><p class=\"can be shared in multiple p tag\"> Hello ! Good Mornign. Have a good day!</p><p class=\"can be shared in multiple p tag\"> Hello !  bhai</p><!-- <p> Hello ! Good Mornign. Have a good day!</p> --><!-- <p><a href=\"https://www.codingninjas.com/studio/library/introduction-to-api-and-its-usage\"> Coding Ninja </a></p> --></body></html>\n"
     ]
    }
   ],
   "source": [
    "data = BeautifulSoup(html, 'html.parser')\n",
    "print(data)"
   ]
  },
  {
   "cell_type": "code",
   "execution_count": 36,
   "id": "382ebba7",
   "metadata": {},
   "outputs": [
    {
     "name": "stdout",
     "output_type": "stream",
     "text": [
      "{'id': 'uniqe'}\n"
     ]
    }
   ],
   "source": [
    "print(data.p.attrs) # no error becuase we modify the body\n",
    "# and put first element as id not class"
   ]
  },
  {
   "cell_type": "code",
   "execution_count": 45,
   "id": "f52471e6",
   "metadata": {},
   "outputs": [
    {
     "name": "stdout",
     "output_type": "stream",
     "text": [
      "uniqe\n"
     ]
    }
   ],
   "source": [
    "print(data.p.get('id'))"
   ]
  },
  {
   "cell_type": "code",
   "execution_count": 46,
   "id": "35d280c0",
   "metadata": {},
   "outputs": [
    {
     "data": {
      "text/plain": [
       "' Testing Web Page Web Scraping Coding Ninja  Hello ! Good Mornign. Have a good day! Hello !  bhai'"
      ]
     },
     "execution_count": 46,
     "metadata": {},
     "output_type": "execute_result"
    }
   ],
   "source": [
    "data.get_text()"
   ]
  },
  {
   "cell_type": "code",
   "execution_count": null,
   "id": "abba0208",
   "metadata": {},
   "outputs": [],
   "source": []
  },
  {
   "cell_type": "code",
   "execution_count": 47,
   "id": "9edc2d32",
   "metadata": {},
   "outputs": [
    {
     "data": {
      "text/plain": [
       "<p id=\"uniqe\"><a href=\"https://www.codingninjas.com/studio/library/introduction-to-api-and-its-usage\"> Coding Ninja </a></p>"
      ]
     },
     "execution_count": 47,
     "metadata": {},
     "output_type": "execute_result"
    }
   ],
   "source": [
    "data.p"
   ]
  },
  {
   "cell_type": "code",
   "execution_count": 48,
   "id": "629479e1",
   "metadata": {},
   "outputs": [
    {
     "data": {
      "text/plain": [
       "<p id=\"uniqe\"><a href=\"https://www.codingninjas.com/studio/library/introduction-to-api-and-its-usage\"> Coding Ninja </a></p>"
      ]
     },
     "execution_count": 48,
     "metadata": {},
     "output_type": "execute_result"
    }
   ],
   "source": [
    "data.find('p')"
   ]
  },
  {
   "cell_type": "code",
   "execution_count": 49,
   "id": "a7d87184",
   "metadata": {},
   "outputs": [
    {
     "data": {
      "text/plain": [
       "<h1> Web Scraping</h1>"
      ]
     },
     "execution_count": 49,
     "metadata": {},
     "output_type": "execute_result"
    }
   ],
   "source": [
    "data.find('h1')"
   ]
  },
  {
   "cell_type": "code",
   "execution_count": 50,
   "id": "559d348b",
   "metadata": {},
   "outputs": [
    {
     "data": {
      "text/plain": [
       "[<p id=\"uniqe\"><a href=\"https://www.codingninjas.com/studio/library/introduction-to-api-and-its-usage\"> Coding Ninja </a></p>,\n",
       " <p class=\"can be shared in multiple p tag\"> Hello ! Good Mornign. Have a good day!</p>,\n",
       " <p class=\"can be shared in multiple p tag\"> Hello !  bhai</p>]"
      ]
     },
     "execution_count": 50,
     "metadata": {},
     "output_type": "execute_result"
    }
   ],
   "source": [
    "data.find_all('p')"
   ]
  },
  {
   "cell_type": "code",
   "execution_count": 51,
   "id": "2391e33b",
   "metadata": {},
   "outputs": [
    {
     "name": "stdout",
     "output_type": "stream",
     "text": [
      "<p id=\"uniqe\"><a href=\"https://www.codingninjas.com/studio/library/introduction-to-api-and-its-usage\"> Coding Ninja </a></p>\n",
      "<p class=\"can be shared in multiple p tag\"> Hello ! Good Mornign. Have a good day!</p>\n",
      "<p class=\"can be shared in multiple p tag\"> Hello !  bhai</p>\n"
     ]
    }
   ],
   "source": [
    "li = data.find_all('p')\n",
    "\n",
    "for i in li:\n",
    "    print(i)"
   ]
  },
  {
   "cell_type": "code",
   "execution_count": null,
   "id": "7fb9eaab",
   "metadata": {},
   "outputs": [],
   "source": []
  },
  {
   "cell_type": "code",
   "execution_count": null,
   "id": "a430d454",
   "metadata": {},
   "outputs": [],
   "source": []
  }
 ],
 "metadata": {
  "kernelspec": {
   "display_name": "Python 3 (ipykernel)",
   "language": "python",
   "name": "python3"
  },
  "language_info": {
   "codemirror_mode": {
    "name": "ipython",
    "version": 3
   },
   "file_extension": ".py",
   "mimetype": "text/x-python",
   "name": "python",
   "nbconvert_exporter": "python",
   "pygments_lexer": "ipython3",
   "version": "3.10.12"
  }
 },
 "nbformat": 4,
 "nbformat_minor": 5
}
