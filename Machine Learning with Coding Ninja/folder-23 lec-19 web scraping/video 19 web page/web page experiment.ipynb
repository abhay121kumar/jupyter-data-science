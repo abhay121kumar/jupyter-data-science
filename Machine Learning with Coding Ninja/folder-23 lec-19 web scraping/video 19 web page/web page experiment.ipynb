{
 "cells": [
  {
   "cell_type": "code",
   "execution_count": 3,
   "id": "c9116f46",
   "metadata": {},
   "outputs": [],
   "source": [
    "from bs4 import BeautifulSoup\n",
    "import requests"
   ]
  },
  {
   "cell_type": "code",
   "execution_count": null,
   "id": "6efdfd4a",
   "metadata": {},
   "outputs": [],
   "source": []
  },
  {
   "cell_type": "code",
   "execution_count": 5,
   "id": "32f660c0",
   "metadata": {},
   "outputs": [
    {
     "data": {
      "text/plain": [
       "<Response [200]>"
      ]
     },
     "execution_count": 5,
     "metadata": {},
     "output_type": "execute_result"
    }
   ],
   "source": [
    "response = requests.get('http://info.cern.ch/hypertext/WWW/TheProject.html')\n",
    "response"
   ]
  },
  {
   "cell_type": "code",
   "execution_count": 8,
   "id": "83cdc330",
   "metadata": {},
   "outputs": [
    {
     "name": "stdout",
     "output_type": "stream",
     "text": [
      "{'Date': 'Fri, 19 Jan 2024 00:43:32 GMT', 'Server': 'Apache', 'Last-Modified': 'Thu, 03 Dec 1992 08:37:20 GMT', 'ETag': '\"8a9-291e721905000\"', 'Accept-Ranges': 'bytes', 'Content-Length': '2217', 'Connection': 'close', 'Content-Type': 'text/html'}\n"
     ]
    }
   ],
   "source": [
    "print(response.headers)"
   ]
  },
  {
   "cell_type": "code",
   "execution_count": 9,
   "id": "e56ec93a",
   "metadata": {},
   "outputs": [
    {
     "name": "stdout",
     "output_type": "stream",
     "text": [
      "<HEADER>\n",
      "<TITLE>The World Wide Web project</TITLE>\n",
      "<NEXTID N=\"55\">\n",
      "</HEADER>\n",
      "<BODY>\n",
      "<H1>World Wide Web</H1>The WorldWideWeb (W3) is a wide-area<A\n",
      "NAME=0 HREF=\"WhatIs.html\">\n",
      "hypermedia</A> information retrieval\n",
      "initiative aiming to give universal\n",
      "access to a large universe of documents.<P>\n",
      "Everything there is online about\n",
      "W3 is linked directly or indirectly\n",
      "to this document, including an <A\n",
      "NAME=24 HREF=\"Summary.html\">executive\n",
      "summary</A> of the project, <A\n",
      "NAME=29 HREF=\"Administration/Mailing/Overview.html\">Mailing lists</A>\n",
      ", <A\n",
      "NAME=30 HREF=\"Policy.html\">Policy</A> , November's  <A\n",
      "NAME=34 HREF=\"News/9211.html\">W3  news</A> ,\n",
      "<A\n",
      "NAME=41 HREF=\"FAQ/List.html\">Frequently Asked Questions</A> .\n",
      "<DL>\n",
      "<DT><A\n",
      "NAME=44 HREF=\"../DataSources/Top.html\">What's out there?</A>\n",
      "<DD> Pointers to the\n",
      "world's online information,<A\n",
      "NAME=45 HREF=\"../DataSources/bySubject/Overview.html\"> subjects</A>\n",
      ", <A\n",
      "NAME=z54 HREF=\"../DataSources/WWW/Servers.html\">W3 servers</A>, etc.\n",
      "<DT><A\n",
      "NAME=46 HREF=\"Help.html\">Help</A>\n",
      "<DD> on the browser you are using\n",
      "<DT><A\n",
      "NAME=13 HREF=\"Status.html\">Software Products</A>\n",
      "<DD> A list of W3 project\n",
      "components and their current state.\n",
      "(e.g. <A\n",
      "NAME=27 HREF=\"LineMode/Browser.html\">Line Mode</A> ,X11 <A\n",
      "NAME=35 HREF=\"Status.html#35\">Viola</A> ,  <A\n",
      "NAME=26 HREF=\"NeXT/WorldWideWeb.html\">NeXTStep</A>\n",
      ", <A\n",
      "NAME=25 HREF=\"Daemon/Overview.html\">Servers</A> , <A\n",
      "NAME=51 HREF=\"Tools/Overview.html\">Tools</A> ,<A\n",
      "NAME=53 HREF=\"MailRobot/Overview.html\"> Mail robot</A> ,<A\n",
      "NAME=52 HREF=\"Status.html#57\">\n",
      "Library</A> )\n",
      "<DT><A\n",
      "NAME=47 HREF=\"Technical.html\">Technical</A>\n",
      "<DD> Details of protocols, formats,\n",
      "program internals etc\n",
      "<DT><A\n",
      "NAME=40 HREF=\"Bibliography.html\">Bibliography</A>\n",
      "<DD> Paper documentation\n",
      "on  W3 and references.\n",
      "<DT><A\n",
      "NAME=14 HREF=\"People.html\">People</A>\n",
      "<DD> A list of some people involved\n",
      "in the project.\n",
      "<DT><A\n",
      "NAME=15 HREF=\"History.html\">History</A>\n",
      "<DD> A summary of the history\n",
      "of the project.\n",
      "<DT><A\n",
      "NAME=37 HREF=\"Helping.html\">How can I help</A> ?\n",
      "<DD> If you would like\n",
      "to support the web..\n",
      "<DT><A\n",
      "NAME=48 HREF=\"../README.html\">Getting code</A>\n",
      "<DD> Getting the code by<A\n",
      "NAME=49 HREF=\"LineMode/Defaults/Distribution.html\">\n",
      "anonymous FTP</A> , etc.</A>\n",
      "</DL>\n",
      "</BODY>\n",
      "\n"
     ]
    }
   ],
   "source": [
    "print(response.text)"
   ]
  },
  {
   "cell_type": "code",
   "execution_count": 13,
   "id": "c6423ae8",
   "metadata": {},
   "outputs": [
    {
     "name": "stdout",
     "output_type": "stream",
     "text": [
      "<header>\n",
      " <title>\n",
      "  The World Wide Web project\n",
      " </title>\n",
      " <nextid n=\"55\"/>\n",
      "</header>\n",
      "<body>\n",
      " <h1>\n",
      "  World Wide Web\n",
      " </h1>\n",
      " The WorldWideWeb (W3) is a wide-area\n",
      " <a href=\"WhatIs.html\" name=\"0\">\n",
      "  hypermedia\n",
      " </a>\n",
      " information retrieval\n",
      "initiative aiming to give universal\n",
      "access to a large universe of documents.\n",
      " <p>\n",
      "  Everything there is online about\n",
      "W3 is linked directly or indirectly\n",
      "to this document, including an\n",
      "  <a href=\"Summary.html\" name=\"24\">\n",
      "   executive\n",
      "summary\n",
      "  </a>\n",
      "  of the project,\n",
      "  <a href=\"Administration/Mailing/Overview.html\" name=\"29\">\n",
      "   Mailing lists\n",
      "  </a>\n",
      "  ,\n",
      "  <a href=\"Policy.html\" name=\"30\">\n",
      "   Policy\n",
      "  </a>\n",
      "  , November's\n",
      "  <a href=\"News/9211.html\" name=\"34\">\n",
      "   W3  news\n",
      "  </a>\n",
      "  ,\n",
      "  <a href=\"FAQ/List.html\" name=\"41\">\n",
      "   Frequently Asked Questions\n",
      "  </a>\n",
      "  .\n",
      "  <dl>\n",
      "   <dt>\n",
      "    <a href=\"../DataSources/Top.html\" name=\"44\">\n",
      "     What's out there?\n",
      "    </a>\n",
      "    <dd>\n",
      "     Pointers to the\n",
      "world's online information,\n",
      "     <a href=\"../DataSources/bySubject/Overview.html\" name=\"45\">\n",
      "      subjects\n",
      "     </a>\n",
      "     ,\n",
      "     <a href=\"../DataSources/WWW/Servers.html\" name=\"z54\">\n",
      "      W3 servers\n",
      "     </a>\n",
      "     , etc.\n",
      "     <dt>\n",
      "      <a href=\"Help.html\" name=\"46\">\n",
      "       Help\n",
      "      </a>\n",
      "      <dd>\n",
      "       on the browser you are using\n",
      "       <dt>\n",
      "        <a href=\"Status.html\" name=\"13\">\n",
      "         Software Products\n",
      "        </a>\n",
      "        <dd>\n",
      "         A list of W3 project\n",
      "components and their current state.\n",
      "(e.g.\n",
      "         <a href=\"LineMode/Browser.html\" name=\"27\">\n",
      "          Line Mode\n",
      "         </a>\n",
      "         ,X11\n",
      "         <a href=\"Status.html#35\" name=\"35\">\n",
      "          Viola\n",
      "         </a>\n",
      "         ,\n",
      "         <a href=\"NeXT/WorldWideWeb.html\" name=\"26\">\n",
      "          NeXTStep\n",
      "         </a>\n",
      "         ,\n",
      "         <a href=\"Daemon/Overview.html\" name=\"25\">\n",
      "          Servers\n",
      "         </a>\n",
      "         ,\n",
      "         <a href=\"Tools/Overview.html\" name=\"51\">\n",
      "          Tools\n",
      "         </a>\n",
      "         ,\n",
      "         <a href=\"MailRobot/Overview.html\" name=\"53\">\n",
      "          Mail robot\n",
      "         </a>\n",
      "         ,\n",
      "         <a href=\"Status.html#57\" name=\"52\">\n",
      "          Library\n",
      "         </a>\n",
      "         )\n",
      "         <dt>\n",
      "          <a href=\"Technical.html\" name=\"47\">\n",
      "           Technical\n",
      "          </a>\n",
      "          <dd>\n",
      "           Details of protocols, formats,\n",
      "program internals etc\n",
      "           <dt>\n",
      "            <a href=\"Bibliography.html\" name=\"40\">\n",
      "             Bibliography\n",
      "            </a>\n",
      "            <dd>\n",
      "             Paper documentation\n",
      "on  W3 and references.\n",
      "             <dt>\n",
      "              <a href=\"People.html\" name=\"14\">\n",
      "               People\n",
      "              </a>\n",
      "              <dd>\n",
      "               A list of some people involved\n",
      "in the project.\n",
      "               <dt>\n",
      "                <a href=\"History.html\" name=\"15\">\n",
      "                 History\n",
      "                </a>\n",
      "                <dd>\n",
      "                 A summary of the history\n",
      "of the project.\n",
      "                 <dt>\n",
      "                  <a href=\"Helping.html\" name=\"37\">\n",
      "                   How can I help\n",
      "                  </a>\n",
      "                  ?\n",
      "                  <dd>\n",
      "                   If you would like\n",
      "to support the web..\n",
      "                   <dt>\n",
      "                    <a href=\"../README.html\" name=\"48\">\n",
      "                     Getting code\n",
      "                    </a>\n",
      "                    <dd>\n",
      "                     Getting the code by\n",
      "                     <a href=\"LineMode/Defaults/Distribution.html\" name=\"49\">\n",
      "                      anonymous FTP\n",
      "                     </a>\n",
      "                     , etc.\n",
      "                    </dd>\n",
      "                   </dt>\n",
      "                  </dd>\n",
      "                 </dt>\n",
      "                </dd>\n",
      "               </dt>\n",
      "              </dd>\n",
      "             </dt>\n",
      "            </dd>\n",
      "           </dt>\n",
      "          </dd>\n",
      "         </dt>\n",
      "        </dd>\n",
      "       </dt>\n",
      "      </dd>\n",
      "     </dt>\n",
      "    </dd>\n",
      "   </dt>\n",
      "  </dl>\n",
      " </p>\n",
      "</body>\n",
      "\n"
     ]
    }
   ],
   "source": [
    "html_data = response.text\n",
    "data = BeautifulSoup(html_data,'html.parser')\n",
    "print(data.prettify())"
   ]
  },
  {
   "cell_type": "code",
   "execution_count": 14,
   "id": "267de7d9",
   "metadata": {},
   "outputs": [
    {
     "data": {
      "text/plain": [
       "<h1>World Wide Web</h1>"
      ]
     },
     "execution_count": 14,
     "metadata": {},
     "output_type": "execute_result"
    }
   ],
   "source": [
    "data.h1"
   ]
  },
  {
   "cell_type": "code",
   "execution_count": 15,
   "id": "3588540b",
   "metadata": {},
   "outputs": [
    {
     "data": {
      "text/plain": [
       "'World Wide Web'"
      ]
     },
     "execution_count": 15,
     "metadata": {},
     "output_type": "execute_result"
    }
   ],
   "source": [
    "data.h1.string"
   ]
  },
  {
   "cell_type": "code",
   "execution_count": 16,
   "id": "4279d222",
   "metadata": {},
   "outputs": [
    {
     "data": {
      "text/plain": [
       "<title>The World Wide Web project</title>"
      ]
     },
     "execution_count": 16,
     "metadata": {},
     "output_type": "execute_result"
    }
   ],
   "source": [
    "data.title"
   ]
  },
  {
   "cell_type": "code",
   "execution_count": 17,
   "id": "62f59feb",
   "metadata": {},
   "outputs": [
    {
     "data": {
      "text/plain": [
       "'The World Wide Web project'"
      ]
     },
     "execution_count": 17,
     "metadata": {},
     "output_type": "execute_result"
    }
   ],
   "source": [
    "data.title.string"
   ]
  },
  {
   "cell_type": "code",
   "execution_count": 19,
   "id": "f53ce072",
   "metadata": {},
   "outputs": [
    {
     "name": "stdout",
     "output_type": "stream",
     "text": [
      "\n",
      "The World Wide Web project\n",
      "\n",
      "\n",
      "\n",
      "World Wide WebThe WorldWideWeb (W3) is a wide-area\n",
      "hypermedia information retrieval\n",
      "initiative aiming to give universal\n",
      "access to a large universe of documents.\n",
      "Everything there is online about\n",
      "W3 is linked directly or indirectly\n",
      "to this document, including an executive\n",
      "summary of the project, Mailing lists\n",
      ", Policy , November's  W3  news ,\n",
      "Frequently Asked Questions .\n",
      "\n",
      "What's out there?\n",
      " Pointers to the\n",
      "world's online information, subjects\n",
      ", W3 servers, etc.\n",
      "Help\n",
      " on the browser you are using\n",
      "Software Products\n",
      " A list of W3 project\n",
      "components and their current state.\n",
      "(e.g. Line Mode ,X11 Viola ,  NeXTStep\n",
      ", Servers , Tools , Mail robot ,\n",
      "Library )\n",
      "Technical\n",
      " Details of protocols, formats,\n",
      "program internals etc\n",
      "Bibliography\n",
      " Paper documentation\n",
      "on  W3 and references.\n",
      "People\n",
      " A list of some people involved\n",
      "in the project.\n",
      "History\n",
      " A summary of the history\n",
      "of the project.\n",
      "How can I help ?\n",
      " If you would like\n",
      "to support the web..\n",
      "Getting code\n",
      " Getting the code by\n",
      "anonymous FTP , etc.\n",
      "\n",
      "\n",
      "\n"
     ]
    }
   ],
   "source": [
    "print(data.get_text())"
   ]
  },
  {
   "cell_type": "code",
   "execution_count": 20,
   "id": "af4af660",
   "metadata": {},
   "outputs": [
    {
     "data": {
      "text/plain": [
       "<a href=\"WhatIs.html\" name=\"0\">\n",
       "hypermedia</a>"
      ]
     },
     "execution_count": 20,
     "metadata": {},
     "output_type": "execute_result"
    }
   ],
   "source": [
    "data.a"
   ]
  },
  {
   "cell_type": "code",
   "execution_count": 21,
   "id": "109a3b93",
   "metadata": {},
   "outputs": [
    {
     "data": {
      "text/plain": [
       "'WhatIs.html'"
      ]
     },
     "execution_count": 21,
     "metadata": {},
     "output_type": "execute_result"
    }
   ],
   "source": [
    "data.a['href']"
   ]
  },
  {
   "cell_type": "code",
   "execution_count": 22,
   "id": "d616a3cf",
   "metadata": {},
   "outputs": [
    {
     "name": "stdout",
     "output_type": "stream",
     "text": [
      "<a href=\"WhatIs.html\" name=\"0\">\n",
      "hypermedia</a>\n",
      "<a href=\"Summary.html\" name=\"24\">executive\n",
      "summary</a>\n",
      "<a href=\"Administration/Mailing/Overview.html\" name=\"29\">Mailing lists</a>\n",
      "<a href=\"Policy.html\" name=\"30\">Policy</a>\n",
      "<a href=\"News/9211.html\" name=\"34\">W3  news</a>\n",
      "<a href=\"FAQ/List.html\" name=\"41\">Frequently Asked Questions</a>\n",
      "<a href=\"../DataSources/Top.html\" name=\"44\">What's out there?</a>\n",
      "<a href=\"../DataSources/bySubject/Overview.html\" name=\"45\"> subjects</a>\n",
      "<a href=\"../DataSources/WWW/Servers.html\" name=\"z54\">W3 servers</a>\n",
      "<a href=\"Help.html\" name=\"46\">Help</a>\n",
      "<a href=\"Status.html\" name=\"13\">Software Products</a>\n",
      "<a href=\"LineMode/Browser.html\" name=\"27\">Line Mode</a>\n",
      "<a href=\"Status.html#35\" name=\"35\">Viola</a>\n",
      "<a href=\"NeXT/WorldWideWeb.html\" name=\"26\">NeXTStep</a>\n",
      "<a href=\"Daemon/Overview.html\" name=\"25\">Servers</a>\n",
      "<a href=\"Tools/Overview.html\" name=\"51\">Tools</a>\n",
      "<a href=\"MailRobot/Overview.html\" name=\"53\"> Mail robot</a>\n",
      "<a href=\"Status.html#57\" name=\"52\">\n",
      "Library</a>\n",
      "<a href=\"Technical.html\" name=\"47\">Technical</a>\n",
      "<a href=\"Bibliography.html\" name=\"40\">Bibliography</a>\n",
      "<a href=\"People.html\" name=\"14\">People</a>\n",
      "<a href=\"History.html\" name=\"15\">History</a>\n",
      "<a href=\"Helping.html\" name=\"37\">How can I help</a>\n",
      "<a href=\"../README.html\" name=\"48\">Getting code</a>\n",
      "<a href=\"LineMode/Defaults/Distribution.html\" name=\"49\">\n",
      "anonymous FTP</a>\n"
     ]
    }
   ],
   "source": [
    "li = data.find_all('a')\n",
    "\n",
    "for i in li:\n",
    "    print(i)"
   ]
  },
  {
   "cell_type": "code",
   "execution_count": 24,
   "id": "183cce61",
   "metadata": {},
   "outputs": [
    {
     "name": "stdout",
     "output_type": "stream",
     "text": [
      "\n",
      "hypermedia\n",
      "executive\n",
      "summary\n",
      "Mailing lists\n",
      "Policy\n",
      "W3  news\n",
      "Frequently Asked Questions\n",
      "What's out there?\n",
      " subjects\n",
      "W3 servers\n",
      "Help\n",
      "Software Products\n",
      "Line Mode\n",
      "Viola\n",
      "NeXTStep\n",
      "Servers\n",
      "Tools\n",
      " Mail robot\n",
      "\n",
      "Library\n",
      "Technical\n",
      "Bibliography\n",
      "People\n",
      "History\n",
      "How can I help\n",
      "Getting code\n",
      "\n",
      "anonymous FTP\n"
     ]
    }
   ],
   "source": [
    "\n",
    "for i in li:\n",
    "    print(i.string)"
   ]
  },
  {
   "cell_type": "code",
   "execution_count": 25,
   "id": "1947c1ea",
   "metadata": {},
   "outputs": [
    {
     "data": {
      "text/plain": [
       "<dl>\n",
       "<dt><a href=\"../DataSources/Top.html\" name=\"44\">What's out there?</a>\n",
       "<dd> Pointers to the\n",
       "world's online information,<a href=\"../DataSources/bySubject/Overview.html\" name=\"45\"> subjects</a>\n",
       ", <a href=\"../DataSources/WWW/Servers.html\" name=\"z54\">W3 servers</a>, etc.\n",
       "<dt><a href=\"Help.html\" name=\"46\">Help</a>\n",
       "<dd> on the browser you are using\n",
       "<dt><a href=\"Status.html\" name=\"13\">Software Products</a>\n",
       "<dd> A list of W3 project\n",
       "components and their current state.\n",
       "(e.g. <a href=\"LineMode/Browser.html\" name=\"27\">Line Mode</a> ,X11 <a href=\"Status.html#35\" name=\"35\">Viola</a> ,  <a href=\"NeXT/WorldWideWeb.html\" name=\"26\">NeXTStep</a>\n",
       ", <a href=\"Daemon/Overview.html\" name=\"25\">Servers</a> , <a href=\"Tools/Overview.html\" name=\"51\">Tools</a> ,<a href=\"MailRobot/Overview.html\" name=\"53\"> Mail robot</a> ,<a href=\"Status.html#57\" name=\"52\">\n",
       "Library</a> )\n",
       "<dt><a href=\"Technical.html\" name=\"47\">Technical</a>\n",
       "<dd> Details of protocols, formats,\n",
       "program internals etc\n",
       "<dt><a href=\"Bibliography.html\" name=\"40\">Bibliography</a>\n",
       "<dd> Paper documentation\n",
       "on  W3 and references.\n",
       "<dt><a href=\"People.html\" name=\"14\">People</a>\n",
       "<dd> A list of some people involved\n",
       "in the project.\n",
       "<dt><a href=\"History.html\" name=\"15\">History</a>\n",
       "<dd> A summary of the history\n",
       "of the project.\n",
       "<dt><a href=\"Helping.html\" name=\"37\">How can I help</a> ?\n",
       "<dd> If you would like\n",
       "to support the web..\n",
       "<dt><a href=\"../README.html\" name=\"48\">Getting code</a>\n",
       "<dd> Getting the code by<a href=\"LineMode/Defaults/Distribution.html\" name=\"49\">\n",
       "anonymous FTP</a> , etc.\n",
       "</dd></dt></dd></dt></dd></dt></dd></dt></dd></dt></dd></dt></dd></dt></dd></dt></dd></dt></dl>"
      ]
     },
     "execution_count": 25,
     "metadata": {},
     "output_type": "execute_result"
    }
   ],
   "source": [
    "data.dl"
   ]
  },
  {
   "cell_type": "code",
   "execution_count": 26,
   "id": "c187457d",
   "metadata": {},
   "outputs": [
    {
     "name": "stdout",
     "output_type": "stream",
     "text": [
      "19\n"
     ]
    }
   ],
   "source": [
    "li_2 = data.dl.find_all('a')\n",
    "print(len(li_2))"
   ]
  },
  {
   "cell_type": "code",
   "execution_count": 27,
   "id": "8fb313bc",
   "metadata": {},
   "outputs": [
    {
     "name": "stdout",
     "output_type": "stream",
     "text": [
      "<a href=\"../DataSources/Top.html\" name=\"44\">What's out there?</a>\n",
      "<a href=\"../DataSources/bySubject/Overview.html\" name=\"45\"> subjects</a>\n",
      "<a href=\"../DataSources/WWW/Servers.html\" name=\"z54\">W3 servers</a>\n",
      "<a href=\"Help.html\" name=\"46\">Help</a>\n",
      "<a href=\"Status.html\" name=\"13\">Software Products</a>\n",
      "<a href=\"LineMode/Browser.html\" name=\"27\">Line Mode</a>\n",
      "<a href=\"Status.html#35\" name=\"35\">Viola</a>\n",
      "<a href=\"NeXT/WorldWideWeb.html\" name=\"26\">NeXTStep</a>\n",
      "<a href=\"Daemon/Overview.html\" name=\"25\">Servers</a>\n",
      "<a href=\"Tools/Overview.html\" name=\"51\">Tools</a>\n",
      "<a href=\"MailRobot/Overview.html\" name=\"53\"> Mail robot</a>\n",
      "<a href=\"Status.html#57\" name=\"52\">\n",
      "Library</a>\n",
      "<a href=\"Technical.html\" name=\"47\">Technical</a>\n",
      "<a href=\"Bibliography.html\" name=\"40\">Bibliography</a>\n",
      "<a href=\"People.html\" name=\"14\">People</a>\n",
      "<a href=\"History.html\" name=\"15\">History</a>\n",
      "<a href=\"Helping.html\" name=\"37\">How can I help</a>\n",
      "<a href=\"../README.html\" name=\"48\">Getting code</a>\n",
      "<a href=\"LineMode/Defaults/Distribution.html\" name=\"49\">\n",
      "anonymous FTP</a>\n"
     ]
    }
   ],
   "source": [
    "for i in li_2:\n",
    "    print(i)"
   ]
  },
  {
   "cell_type": "code",
   "execution_count": 29,
   "id": "21187a32",
   "metadata": {},
   "outputs": [
    {
     "name": "stdout",
     "output_type": "stream",
     "text": [
      "9\n"
     ]
    }
   ],
   "source": [
    "li_3 = data.dl.find_all('dt')\n",
    "print(len(li_3))"
   ]
  },
  {
   "cell_type": "code",
   "execution_count": 30,
   "id": "52301ad3",
   "metadata": {},
   "outputs": [
    {
     "name": "stdout",
     "output_type": "stream",
     "text": [
      "<dt><a href=\"../DataSources/Top.html\" name=\"44\">What's out there?</a>\n",
      "<dd> Pointers to the\n",
      "world's online information,<a href=\"../DataSources/bySubject/Overview.html\" name=\"45\"> subjects</a>\n",
      ", <a href=\"../DataSources/WWW/Servers.html\" name=\"z54\">W3 servers</a>, etc.\n",
      "<dt><a href=\"Help.html\" name=\"46\">Help</a>\n",
      "<dd> on the browser you are using\n",
      "<dt><a href=\"Status.html\" name=\"13\">Software Products</a>\n",
      "<dd> A list of W3 project\n",
      "components and their current state.\n",
      "(e.g. <a href=\"LineMode/Browser.html\" name=\"27\">Line Mode</a> ,X11 <a href=\"Status.html#35\" name=\"35\">Viola</a> ,  <a href=\"NeXT/WorldWideWeb.html\" name=\"26\">NeXTStep</a>\n",
      ", <a href=\"Daemon/Overview.html\" name=\"25\">Servers</a> , <a href=\"Tools/Overview.html\" name=\"51\">Tools</a> ,<a href=\"MailRobot/Overview.html\" name=\"53\"> Mail robot</a> ,<a href=\"Status.html#57\" name=\"52\">\n",
      "Library</a> )\n",
      "<dt><a href=\"Technical.html\" name=\"47\">Technical</a>\n",
      "<dd> Details of protocols, formats,\n",
      "program internals etc\n",
      "<dt><a href=\"Bibliography.html\" name=\"40\">Bibliography</a>\n",
      "<dd> Paper documentation\n",
      "on  W3 and references.\n",
      "<dt><a href=\"People.html\" name=\"14\">People</a>\n",
      "<dd> A list of some people involved\n",
      "in the project.\n",
      "<dt><a href=\"History.html\" name=\"15\">History</a>\n",
      "<dd> A summary of the history\n",
      "of the project.\n",
      "<dt><a href=\"Helping.html\" name=\"37\">How can I help</a> ?\n",
      "<dd> If you would like\n",
      "to support the web..\n",
      "<dt><a href=\"../README.html\" name=\"48\">Getting code</a>\n",
      "<dd> Getting the code by<a href=\"LineMode/Defaults/Distribution.html\" name=\"49\">\n",
      "anonymous FTP</a> , etc.\n",
      "</dd></dt></dd></dt></dd></dt></dd></dt></dd></dt></dd></dt></dd></dt></dd></dt></dd></dt>\n",
      "<dt><a href=\"Help.html\" name=\"46\">Help</a>\n",
      "<dd> on the browser you are using\n",
      "<dt><a href=\"Status.html\" name=\"13\">Software Products</a>\n",
      "<dd> A list of W3 project\n",
      "components and their current state.\n",
      "(e.g. <a href=\"LineMode/Browser.html\" name=\"27\">Line Mode</a> ,X11 <a href=\"Status.html#35\" name=\"35\">Viola</a> ,  <a href=\"NeXT/WorldWideWeb.html\" name=\"26\">NeXTStep</a>\n",
      ", <a href=\"Daemon/Overview.html\" name=\"25\">Servers</a> , <a href=\"Tools/Overview.html\" name=\"51\">Tools</a> ,<a href=\"MailRobot/Overview.html\" name=\"53\"> Mail robot</a> ,<a href=\"Status.html#57\" name=\"52\">\n",
      "Library</a> )\n",
      "<dt><a href=\"Technical.html\" name=\"47\">Technical</a>\n",
      "<dd> Details of protocols, formats,\n",
      "program internals etc\n",
      "<dt><a href=\"Bibliography.html\" name=\"40\">Bibliography</a>\n",
      "<dd> Paper documentation\n",
      "on  W3 and references.\n",
      "<dt><a href=\"People.html\" name=\"14\">People</a>\n",
      "<dd> A list of some people involved\n",
      "in the project.\n",
      "<dt><a href=\"History.html\" name=\"15\">History</a>\n",
      "<dd> A summary of the history\n",
      "of the project.\n",
      "<dt><a href=\"Helping.html\" name=\"37\">How can I help</a> ?\n",
      "<dd> If you would like\n",
      "to support the web..\n",
      "<dt><a href=\"../README.html\" name=\"48\">Getting code</a>\n",
      "<dd> Getting the code by<a href=\"LineMode/Defaults/Distribution.html\" name=\"49\">\n",
      "anonymous FTP</a> , etc.\n",
      "</dd></dt></dd></dt></dd></dt></dd></dt></dd></dt></dd></dt></dd></dt></dd></dt>\n",
      "<dt><a href=\"Status.html\" name=\"13\">Software Products</a>\n",
      "<dd> A list of W3 project\n",
      "components and their current state.\n",
      "(e.g. <a href=\"LineMode/Browser.html\" name=\"27\">Line Mode</a> ,X11 <a href=\"Status.html#35\" name=\"35\">Viola</a> ,  <a href=\"NeXT/WorldWideWeb.html\" name=\"26\">NeXTStep</a>\n",
      ", <a href=\"Daemon/Overview.html\" name=\"25\">Servers</a> , <a href=\"Tools/Overview.html\" name=\"51\">Tools</a> ,<a href=\"MailRobot/Overview.html\" name=\"53\"> Mail robot</a> ,<a href=\"Status.html#57\" name=\"52\">\n",
      "Library</a> )\n",
      "<dt><a href=\"Technical.html\" name=\"47\">Technical</a>\n",
      "<dd> Details of protocols, formats,\n",
      "program internals etc\n",
      "<dt><a href=\"Bibliography.html\" name=\"40\">Bibliography</a>\n",
      "<dd> Paper documentation\n",
      "on  W3 and references.\n",
      "<dt><a href=\"People.html\" name=\"14\">People</a>\n",
      "<dd> A list of some people involved\n",
      "in the project.\n",
      "<dt><a href=\"History.html\" name=\"15\">History</a>\n",
      "<dd> A summary of the history\n",
      "of the project.\n",
      "<dt><a href=\"Helping.html\" name=\"37\">How can I help</a> ?\n",
      "<dd> If you would like\n",
      "to support the web..\n",
      "<dt><a href=\"../README.html\" name=\"48\">Getting code</a>\n",
      "<dd> Getting the code by<a href=\"LineMode/Defaults/Distribution.html\" name=\"49\">\n",
      "anonymous FTP</a> , etc.\n",
      "</dd></dt></dd></dt></dd></dt></dd></dt></dd></dt></dd></dt></dd></dt>\n",
      "<dt><a href=\"Technical.html\" name=\"47\">Technical</a>\n",
      "<dd> Details of protocols, formats,\n",
      "program internals etc\n",
      "<dt><a href=\"Bibliography.html\" name=\"40\">Bibliography</a>\n",
      "<dd> Paper documentation\n",
      "on  W3 and references.\n",
      "<dt><a href=\"People.html\" name=\"14\">People</a>\n",
      "<dd> A list of some people involved\n",
      "in the project.\n",
      "<dt><a href=\"History.html\" name=\"15\">History</a>\n",
      "<dd> A summary of the history\n",
      "of the project.\n",
      "<dt><a href=\"Helping.html\" name=\"37\">How can I help</a> ?\n",
      "<dd> If you would like\n",
      "to support the web..\n",
      "<dt><a href=\"../README.html\" name=\"48\">Getting code</a>\n",
      "<dd> Getting the code by<a href=\"LineMode/Defaults/Distribution.html\" name=\"49\">\n",
      "anonymous FTP</a> , etc.\n",
      "</dd></dt></dd></dt></dd></dt></dd></dt></dd></dt></dd></dt>\n",
      "<dt><a href=\"Bibliography.html\" name=\"40\">Bibliography</a>\n",
      "<dd> Paper documentation\n",
      "on  W3 and references.\n",
      "<dt><a href=\"People.html\" name=\"14\">People</a>\n",
      "<dd> A list of some people involved\n",
      "in the project.\n",
      "<dt><a href=\"History.html\" name=\"15\">History</a>\n",
      "<dd> A summary of the history\n",
      "of the project.\n",
      "<dt><a href=\"Helping.html\" name=\"37\">How can I help</a> ?\n",
      "<dd> If you would like\n",
      "to support the web..\n",
      "<dt><a href=\"../README.html\" name=\"48\">Getting code</a>\n",
      "<dd> Getting the code by<a href=\"LineMode/Defaults/Distribution.html\" name=\"49\">\n",
      "anonymous FTP</a> , etc.\n",
      "</dd></dt></dd></dt></dd></dt></dd></dt></dd></dt>\n",
      "<dt><a href=\"People.html\" name=\"14\">People</a>\n",
      "<dd> A list of some people involved\n",
      "in the project.\n",
      "<dt><a href=\"History.html\" name=\"15\">History</a>\n",
      "<dd> A summary of the history\n",
      "of the project.\n",
      "<dt><a href=\"Helping.html\" name=\"37\">How can I help</a> ?\n",
      "<dd> If you would like\n",
      "to support the web..\n",
      "<dt><a href=\"../README.html\" name=\"48\">Getting code</a>\n",
      "<dd> Getting the code by<a href=\"LineMode/Defaults/Distribution.html\" name=\"49\">\n",
      "anonymous FTP</a> , etc.\n",
      "</dd></dt></dd></dt></dd></dt></dd></dt>\n",
      "<dt><a href=\"History.html\" name=\"15\">History</a>\n",
      "<dd> A summary of the history\n",
      "of the project.\n",
      "<dt><a href=\"Helping.html\" name=\"37\">How can I help</a> ?\n",
      "<dd> If you would like\n",
      "to support the web..\n",
      "<dt><a href=\"../README.html\" name=\"48\">Getting code</a>\n",
      "<dd> Getting the code by<a href=\"LineMode/Defaults/Distribution.html\" name=\"49\">\n",
      "anonymous FTP</a> , etc.\n",
      "</dd></dt></dd></dt></dd></dt>\n",
      "<dt><a href=\"Helping.html\" name=\"37\">How can I help</a> ?\n",
      "<dd> If you would like\n",
      "to support the web..\n",
      "<dt><a href=\"../README.html\" name=\"48\">Getting code</a>\n",
      "<dd> Getting the code by<a href=\"LineMode/Defaults/Distribution.html\" name=\"49\">\n",
      "anonymous FTP</a> , etc.\n",
      "</dd></dt></dd></dt>\n",
      "<dt><a href=\"../README.html\" name=\"48\">Getting code</a>\n",
      "<dd> Getting the code by<a href=\"LineMode/Defaults/Distribution.html\" name=\"49\">\n",
      "anonymous FTP</a> , etc.\n",
      "</dd></dt>\n"
     ]
    }
   ],
   "source": [
    "for i in li_3:\n",
    "    print(i)"
   ]
  },
  {
   "cell_type": "code",
   "execution_count": 31,
   "id": "d3be1de9",
   "metadata": {},
   "outputs": [
    {
     "name": "stdout",
     "output_type": "stream",
     "text": [
      "<a href=\"../DataSources/Top.html\" name=\"44\">What's out there?</a>\n",
      "<a href=\"Help.html\" name=\"46\">Help</a>\n",
      "<a href=\"Status.html\" name=\"13\">Software Products</a>\n",
      "<a href=\"Technical.html\" name=\"47\">Technical</a>\n",
      "<a href=\"Bibliography.html\" name=\"40\">Bibliography</a>\n",
      "<a href=\"People.html\" name=\"14\">People</a>\n",
      "<a href=\"History.html\" name=\"15\">History</a>\n",
      "<a href=\"Helping.html\" name=\"37\">How can I help</a>\n",
      "<a href=\"../README.html\" name=\"48\">Getting code</a>\n"
     ]
    }
   ],
   "source": [
    "for i in li_3:\n",
    "    print(i.a)"
   ]
  },
  {
   "cell_type": "code",
   "execution_count": 33,
   "id": "f5e0d22f",
   "metadata": {},
   "outputs": [
    {
     "name": "stdout",
     "output_type": "stream",
     "text": [
      "../DataSources/Top.html\n",
      "Help.html\n",
      "Status.html\n",
      "Technical.html\n",
      "Bibliography.html\n",
      "People.html\n",
      "History.html\n",
      "Helping.html\n",
      "../README.html\n"
     ]
    }
   ],
   "source": [
    "for i in li_3:\n",
    "    print(i.a['href'])"
   ]
  },
  {
   "cell_type": "code",
   "execution_count": 34,
   "id": "cbd04a45",
   "metadata": {},
   "outputs": [
    {
     "name": "stdout",
     "output_type": "stream",
     "text": [
      "What's out there?\n",
      "Help\n",
      "Software Products\n",
      "Technical\n",
      "Bibliography\n",
      "People\n",
      "History\n",
      "How can I help\n",
      "Getting code\n"
     ]
    }
   ],
   "source": [
    "for i in li_3:\n",
    "    print(i.a.string)"
   ]
  },
  {
   "cell_type": "code",
   "execution_count": null,
   "id": "3b250259",
   "metadata": {},
   "outputs": [],
   "source": []
  },
  {
   "cell_type": "code",
   "execution_count": null,
   "id": "de6a87f9",
   "metadata": {},
   "outputs": [],
   "source": []
  },
  {
   "cell_type": "code",
   "execution_count": null,
   "id": "7f3f4459",
   "metadata": {},
   "outputs": [],
   "source": []
  },
  {
   "cell_type": "code",
   "execution_count": null,
   "id": "760769e6",
   "metadata": {},
   "outputs": [],
   "source": []
  },
  {
   "cell_type": "code",
   "execution_count": null,
   "id": "9c0f99f0",
   "metadata": {},
   "outputs": [],
   "source": []
  }
 ],
 "metadata": {
  "kernelspec": {
   "display_name": "Python 3 (ipykernel)",
   "language": "python",
   "name": "python3"
  },
  "language_info": {
   "codemirror_mode": {
    "name": "ipython",
    "version": 3
   },
   "file_extension": ".py",
   "mimetype": "text/x-python",
   "name": "python",
   "nbconvert_exporter": "python",
   "pygments_lexer": "ipython3",
   "version": "3.10.12"
  }
 },
 "nbformat": 4,
 "nbformat_minor": 5
}
