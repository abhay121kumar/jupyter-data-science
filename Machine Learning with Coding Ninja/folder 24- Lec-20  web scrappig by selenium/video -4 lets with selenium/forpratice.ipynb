{
 "cells": [
  {
   "cell_type": "code",
   "execution_count": 1,
   "id": "49fe31b6",
   "metadata": {},
   "outputs": [],
   "source": [
    "from selenium import webdriver"
   ]
  },
  {
   "cell_type": "code",
   "execution_count": 6,
   "id": "0627d08a",
   "metadata": {},
   "outputs": [
    {
     "ename": "TypeError",
     "evalue": "WebDriver.__init__() got an unexpected keyword argument 'execuatable_path'",
     "output_type": "error",
     "traceback": [
      "\u001b[0;31m---------------------------------------------------------------------------\u001b[0m",
      "\u001b[0;31mTypeError\u001b[0m                                 Traceback (most recent call last)",
      "Cell \u001b[0;32mIn[6], line 1\u001b[0m\n\u001b[0;32m----> 1\u001b[0m driver \u001b[38;5;241m=\u001b[39m \u001b[43mwebdriver\u001b[49m\u001b[38;5;241;43m.\u001b[39;49m\u001b[43mChrome\u001b[49m\u001b[43m(\u001b[49m\u001b[43mexecuatable_path\u001b[49m\u001b[43m \u001b[49m\u001b[38;5;241;43m=\u001b[39;49m\u001b[38;5;124;43m'\u001b[39;49m\u001b[38;5;124;43m/home/elonmusk/Downloads/software/chromedriver_linux64\u001b[39;49m\u001b[38;5;124;43m'\u001b[39;49m\u001b[43m)\u001b[49m\n",
      "\u001b[0;31mTypeError\u001b[0m: WebDriver.__init__() got an unexpected keyword argument 'execuatable_path'"
     ]
    }
   ],
   "source": [
    "driver = webdriver.Chrome(execuatable_path ='/home/elonmusk/Downloads/software/chromedriver_linux64')"
   ]
  },
  {
   "cell_type": "code",
   "execution_count": null,
   "id": "0720d706",
   "metadata": {},
   "outputs": [],
   "source": []
  },
  {
   "cell_type": "code",
   "execution_count": 1,
   "id": "41626087",
   "metadata": {},
   "outputs": [
    {
     "ename": "NameError",
     "evalue": "name 'df' is not defined",
     "output_type": "error",
     "traceback": [
      "\u001b[0;31m---------------------------------------------------------------------------\u001b[0m",
      "\u001b[0;31mNameError\u001b[0m                                 Traceback (most recent call last)",
      "Cell \u001b[0;32mIn[1], line 28\u001b[0m\n\u001b[1;32m     18\u001b[0m     \u001b[38;5;28;01mreturn\u001b[39;00m missing_values\n\u001b[1;32m     20\u001b[0m \u001b[38;5;66;03m# Example usage:\u001b[39;00m\n\u001b[1;32m     21\u001b[0m \u001b[38;5;66;03m# Load your dataset using pandas\u001b[39;00m\n\u001b[1;32m     22\u001b[0m \u001b[38;5;66;03m# Replace 'your_dataset.csv' with the path to your dataset file\u001b[39;00m\n\u001b[0;32m   (...)\u001b[0m\n\u001b[1;32m     26\u001b[0m \u001b[38;5;66;03m# Assuming 'df' is your dataset\u001b[39;00m\n\u001b[1;32m     27\u001b[0m \u001b[38;5;66;03m# Replace 'df' with the name of your dataset DataFrame\u001b[39;00m\n\u001b[0;32m---> 28\u001b[0m missing_values_df \u001b[38;5;241m=\u001b[39m find_missing_values(\u001b[43mdf\u001b[49m)\n\u001b[1;32m     29\u001b[0m \u001b[38;5;28mprint\u001b[39m(\u001b[38;5;124m\"\u001b[39m\u001b[38;5;124mMissing values in the dataset:\u001b[39m\u001b[38;5;124m\"\u001b[39m)\n\u001b[1;32m     30\u001b[0m \u001b[38;5;28mprint\u001b[39m(missing_values_df)\n",
      "\u001b[0;31mNameError\u001b[0m: name 'df' is not defined"
     ]
    }
   ],
   "source": [
    "import pandas as pd\n",
    "\n",
    "def find_missing_values(dataset):\n",
    "    \"\"\"\n",
    "    Function to find missing values in a dataset.\n",
    "\n",
    "    Parameters:\n",
    "    dataset (DataFrame): The dataset to be checked.\n",
    "\n",
    "    Returns:\n",
    "    missing_values (DataFrame): A DataFrame showing the count and percentage of missing values for each column.\n",
    "    \"\"\"\n",
    "    missing_count = dataset.isnull().sum()\n",
    "    missing_percentage = (missing_count / len(dataset)) * 100\n",
    "    missing_values = pd.concat([missing_count, missing_percentage], axis=1)\n",
    "    missing_values.columns = ['Missing Count', 'Missing Percentage']\n",
    "    missing_values = missing_values[missing_values['Missing Count'] > 0].sort_values(by='Missing Count', ascending=False)\n",
    "    return missing_values\n",
    "\n",
    "# Example usage:\n",
    "# Load your dataset using pandas\n",
    "# Replace 'your_dataset.csv' with the path to your dataset file\n",
    "# For example, if your dataset is in the same directory as your script and named 'data.csv':\n",
    "# df = pd.read_csv('data.csv')\n",
    "\n",
    "# Assuming 'df' is your dataset\n",
    "# Replace 'df' with the name of your dataset DataFrame\n",
    "missing_values_df = find_missing_values(df)\n",
    "print(\"Missing values in the dataset:\")\n",
    "print(missing_values_df)\n"
   ]
  },
  {
   "cell_type": "code",
   "execution_count": null,
   "id": "8d8db19d",
   "metadata": {},
   "outputs": [],
   "source": []
  }
 ],
 "metadata": {
  "kernelspec": {
   "display_name": "Python 3 (ipykernel)",
   "language": "python",
   "name": "python3"
  },
  "language_info": {
   "codemirror_mode": {
    "name": "ipython",
    "version": 3
   },
   "file_extension": ".py",
   "mimetype": "text/x-python",
   "name": "python",
   "nbconvert_exporter": "python",
   "pygments_lexer": "ipython3",
   "version": "3.10.12"
  }
 },
 "nbformat": 4,
 "nbformat_minor": 5
}
