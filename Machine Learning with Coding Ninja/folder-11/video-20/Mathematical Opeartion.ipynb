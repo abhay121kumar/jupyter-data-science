{
 "cells": [
  {
   "cell_type": "code",
   "execution_count": 22,
   "id": "3849af1f",
   "metadata": {},
   "outputs": [],
   "source": [
    "import numpy as np"
   ]
  },
  {
   "cell_type": "code",
   "execution_count": 52,
   "id": "5b2d9bdb",
   "metadata": {},
   "outputs": [
    {
     "name": "stdout",
     "output_type": "stream",
     "text": [
      "[1, 2, 3, 4, 5]\n",
      "[16 11 15 15 13]\n",
      "[ 2  3 14  3 15]\n"
     ]
    }
   ],
   "source": [
    "li = [1,2,3,4,5]\n",
    "a = np.random.randint(1,20,5)\n",
    "b = np.random.randint(1,20,5)\n",
    "\n",
    "print(li)\n",
    "print(a)\n",
    "print(b)"
   ]
  },
  {
   "cell_type": "code",
   "execution_count": 4,
   "id": "05ac7f52",
   "metadata": {},
   "outputs": [
    {
     "data": {
      "text/plain": [
       "[2, 3, 4, 5, 6]"
      ]
     },
     "execution_count": 4,
     "metadata": {},
     "output_type": "execute_result"
    }
   ],
   "source": [
    "li = [i+1 for i in li]\n",
    "li"
   ]
  },
  {
   "cell_type": "code",
   "execution_count": 24,
   "id": "98daa9c7",
   "metadata": {},
   "outputs": [
    {
     "name": "stdout",
     "output_type": "stream",
     "text": [
      "[17  2 11  6 12]\n"
     ]
    },
    {
     "data": {
      "text/plain": [
       "array([18,  3, 12,  7, 13])"
      ]
     },
     "execution_count": 24,
     "metadata": {},
     "output_type": "execute_result"
    }
   ],
   "source": [
    "print(a)\n",
    "a = a + 1\n",
    "a"
   ]
  },
  {
   "cell_type": "code",
   "execution_count": 25,
   "id": "2e17208d",
   "metadata": {},
   "outputs": [
    {
     "data": {
      "text/plain": [
       "array([24, 17, 25, 14, 24])"
      ]
     },
     "execution_count": 25,
     "metadata": {},
     "output_type": "execute_result"
    }
   ],
   "source": [
    "c = a + b\n",
    "c"
   ]
  },
  {
   "cell_type": "code",
   "execution_count": 26,
   "id": "c458f6c0",
   "metadata": {},
   "outputs": [
    {
     "data": {
      "text/plain": [
       "array([ 12, -11,  -1,   0,   2])"
      ]
     },
     "execution_count": 26,
     "metadata": {},
     "output_type": "execute_result"
    }
   ],
   "source": [
    "d = a - b\n",
    "d"
   ]
  },
  {
   "cell_type": "code",
   "execution_count": 27,
   "id": "fe93a138",
   "metadata": {},
   "outputs": [
    {
     "data": {
      "text/plain": [
       "array([108,  42, 156,  49, 143])"
      ]
     },
     "execution_count": 27,
     "metadata": {},
     "output_type": "execute_result"
    }
   ],
   "source": [
    "e = a * b\n",
    "e"
   ]
  },
  {
   "cell_type": "code",
   "execution_count": 28,
   "id": "af935e79",
   "metadata": {},
   "outputs": [
    {
     "data": {
      "text/plain": [
       "array([3.        , 0.21428571, 0.92307692, 1.        , 1.18181818])"
      ]
     },
     "execution_count": 28,
     "metadata": {},
     "output_type": "execute_result"
    }
   ],
   "source": [
    "f = a/b\n",
    "f"
   ]
  },
  {
   "cell_type": "code",
   "execution_count": 29,
   "id": "11c626e5",
   "metadata": {},
   "outputs": [
    {
     "data": {
      "text/plain": [
       "array([3, 0, 0, 1, 1])"
      ]
     },
     "execution_count": 29,
     "metadata": {},
     "output_type": "execute_result"
    }
   ],
   "source": [
    "g = a//b\n",
    "g"
   ]
  },
  {
   "cell_type": "markdown",
   "id": "820dc36c",
   "metadata": {},
   "source": [
    "a = [a,b,c,d]\n",
    "b = [i,j,k,l]\n",
    "h = [a^i,b^j,c^k,d^l]"
   ]
  },
  {
   "cell_type": "code",
   "execution_count": 53,
   "id": "7b5cb760",
   "metadata": {},
   "outputs": [
    {
     "data": {
      "text/plain": [
       "array([              256,              1331, 29192926025390625,\n",
       "                    3375, 51185893014090757])"
      ]
     },
     "execution_count": 53,
     "metadata": {},
     "output_type": "execute_result"
    }
   ],
   "source": [
    "h = a ** b\n",
    "h"
   ]
  },
  {
   "cell_type": "code",
   "execution_count": 34,
   "id": "87b5a4da",
   "metadata": {},
   "outputs": [
    {
     "data": {
      "text/plain": [
       "8"
      ]
     },
     "execution_count": 34,
     "metadata": {},
     "output_type": "execute_result"
    }
   ],
   "source": [
    "a1 = 2\n",
    "a2 = 3\n",
    "a3 = a1 ** a2\n",
    "a3"
   ]
  },
  {
   "cell_type": "code",
   "execution_count": 13,
   "id": "c3067cce",
   "metadata": {},
   "outputs": [
    {
     "name": "stdout",
     "output_type": "stream",
     "text": [
      "[11 12 11 20 18]\n",
      "72\n",
      "14.4\n",
      "11\n",
      "20\n",
      "0\n",
      "3\n"
     ]
    }
   ],
   "source": [
    "print(a)\n",
    "print(a.sum())\n",
    "print(a.mean())\n",
    "print(a.min())\n",
    "print(a.max())\n",
    "print(a.argmin()) #index of min\n",
    "print(a.argmax()) #index of max"
   ]
  },
  {
   "cell_type": "code",
   "execution_count": null,
   "id": "f269fd64",
   "metadata": {},
   "outputs": [],
   "source": [
    "### Relation operator"
   ]
  },
  {
   "cell_type": "code",
   "execution_count": 14,
   "id": "e097aa06",
   "metadata": {},
   "outputs": [
    {
     "name": "stdout",
     "output_type": "stream",
     "text": [
      "[11 12 11 20 18]\n",
      "[ 6 14 16  1  9]\n"
     ]
    }
   ],
   "source": [
    "print(a)\n",
    "print(b)"
   ]
  },
  {
   "cell_type": "code",
   "execution_count": 15,
   "id": "52d7d6d0",
   "metadata": {},
   "outputs": [
    {
     "data": {
      "text/plain": [
       "array([ True, False, False,  True,  True])"
      ]
     },
     "execution_count": 15,
     "metadata": {},
     "output_type": "execute_result"
    }
   ],
   "source": [
    "a > b"
   ]
  },
  {
   "cell_type": "code",
   "execution_count": 16,
   "id": "c2eeb0d9",
   "metadata": {},
   "outputs": [
    {
     "data": {
      "text/plain": [
       "array([False,  True,  True, False, False])"
      ]
     },
     "execution_count": 16,
     "metadata": {},
     "output_type": "execute_result"
    }
   ],
   "source": [
    "a < b"
   ]
  },
  {
   "cell_type": "code",
   "execution_count": 17,
   "id": "9983762d",
   "metadata": {},
   "outputs": [
    {
     "data": {
      "text/plain": [
       "array([False, False, False, False, False])"
      ]
     },
     "execution_count": 17,
     "metadata": {},
     "output_type": "execute_result"
    }
   ],
   "source": [
    "a == b"
   ]
  },
  {
   "cell_type": "code",
   "execution_count": 18,
   "id": "5f24ccff",
   "metadata": {},
   "outputs": [],
   "source": [
    "### logical operator"
   ]
  },
  {
   "cell_type": "code",
   "execution_count": 19,
   "id": "811e6089",
   "metadata": {},
   "outputs": [
    {
     "name": "stdout",
     "output_type": "stream",
     "text": [
      "[ True  True  True  True  True]\n",
      "[ True  True  True  True  True]\n"
     ]
    }
   ],
   "source": [
    "print(np.logical_or(a,b))\n",
    "print(np.logical_and(a,b))"
   ]
  },
  {
   "cell_type": "code",
   "execution_count": 20,
   "id": "a8c404b7",
   "metadata": {},
   "outputs": [
    {
     "name": "stdout",
     "output_type": "stream",
     "text": [
      "[False False False False False]\n"
     ]
    }
   ],
   "source": [
    "print(np.logical_not(a))"
   ]
  },
  {
   "cell_type": "code",
   "execution_count": 21,
   "id": "1e245297",
   "metadata": {},
   "outputs": [
    {
     "name": "stdout",
     "output_type": "stream",
     "text": [
      "[False False  True False False]\n"
     ]
    }
   ],
   "source": [
    "a[2] = 0\n",
    "print(np.logical_not(a))"
   ]
  },
  {
   "cell_type": "markdown",
   "id": "629ac530",
   "metadata": {},
   "source": [
    "# H.W try for 2d array"
   ]
  },
  {
   "cell_type": "code",
   "execution_count": 35,
   "id": "39bb7a26",
   "metadata": {},
   "outputs": [
    {
     "data": {
      "text/plain": [
       "array([[ 1,  2,  3,  4,  5],\n",
       "       [ 6,  7,  8,  9, 10],\n",
       "       [11, 12, 13, 14, 15],\n",
       "       [16, 17, 18, 19, 20]])"
      ]
     },
     "execution_count": 35,
     "metadata": {},
     "output_type": "execute_result"
    }
   ],
   "source": [
    "li_2d = [[1,2,3,4,5],[6,7,8,9,10],[11,12,13,14,15],[16,17,18,19,20]]\n",
    "arr_2d = np.array(li_2d)\n",
    "arr_2d"
   ]
  },
  {
   "cell_type": "code",
   "execution_count": 38,
   "id": "2c1a12f0",
   "metadata": {},
   "outputs": [
    {
     "name": "stdout",
     "output_type": "stream",
     "text": [
      "[[4 6 4 6 5]\n",
      " [3 6 8 9 5]\n",
      " [2 3 5 1 3]\n",
      " [6 3 6 6 5]]\n",
      "\n",
      "[[10 18 18 13 12]\n",
      " [13 15 12 13 14]\n",
      " [10 18 18 15 12]\n",
      " [18 17 12 19 11]]\n"
     ]
    }
   ],
   "source": [
    "arr_2d1 = np.random.randint(1,10,(4,5))\n",
    "arr_2d2 = np.random.randint(10,20,(4,5))\n",
    "print(arr_2d1)\n",
    "print()\n",
    "print(arr_2d2)"
   ]
  },
  {
   "cell_type": "code",
   "execution_count": 39,
   "id": "118a7df4",
   "metadata": {},
   "outputs": [
    {
     "data": {
      "text/plain": [
       "array([[14, 24, 22, 19, 17],\n",
       "       [16, 21, 20, 22, 19],\n",
       "       [12, 21, 23, 16, 15],\n",
       "       [24, 20, 18, 25, 16]])"
      ]
     },
     "execution_count": 39,
     "metadata": {},
     "output_type": "execute_result"
    }
   ],
   "source": [
    "arr_2d3 = arr_2d1 + arr_2d2\n",
    "arr_2d3"
   ]
  },
  {
   "cell_type": "code",
   "execution_count": 41,
   "id": "8d979e2a",
   "metadata": {},
   "outputs": [
    {
     "name": "stdout",
     "output_type": "stream",
     "text": [
      "[[4 6 4 6 5]\n",
      " [3 6 8 9 5]\n",
      " [2 3 5 1 3]\n",
      " [6 3 6 6 5]]\n",
      "\n",
      "[[10 18 18 13 12]\n",
      " [13 15 12 13 14]\n",
      " [10 18 18 15 12]\n",
      " [18 17 12 19 11]]\n"
     ]
    },
    {
     "data": {
      "text/plain": [
       "array([[ -6, -12, -14,  -7,  -7],\n",
       "       [-10,  -9,  -4,  -4,  -9],\n",
       "       [ -8, -15, -13, -14,  -9],\n",
       "       [-12, -14,  -6, -13,  -6]])"
      ]
     },
     "execution_count": 41,
     "metadata": {},
     "output_type": "execute_result"
    }
   ],
   "source": [
    "print(arr_2d1)\n",
    "print()\n",
    "print(arr_2d2)\n",
    "arr_2d4 = arr_2d1 - arr_2d2\n",
    "arr_2d4"
   ]
  },
  {
   "cell_type": "code",
   "execution_count": 42,
   "id": "e86097f3",
   "metadata": {},
   "outputs": [
    {
     "name": "stdout",
     "output_type": "stream",
     "text": [
      "[[4 6 4 6 5]\n",
      " [3 6 8 9 5]\n",
      " [2 3 5 1 3]\n",
      " [6 3 6 6 5]]\n",
      "\n",
      "[[10 18 18 13 12]\n",
      " [13 15 12 13 14]\n",
      " [10 18 18 15 12]\n",
      " [18 17 12 19 11]]\n"
     ]
    },
    {
     "data": {
      "text/plain": [
       "array([[ 40, 108,  72,  78,  60],\n",
       "       [ 39,  90,  96, 117,  70],\n",
       "       [ 20,  54,  90,  15,  36],\n",
       "       [108,  51,  72, 114,  55]])"
      ]
     },
     "execution_count": 42,
     "metadata": {},
     "output_type": "execute_result"
    }
   ],
   "source": [
    "print(arr_2d1)\n",
    "print()\n",
    "print(arr_2d2)\n",
    "arr_2d5 = arr_2d1 * arr_2d2\n",
    "arr_2d5"
   ]
  },
  {
   "cell_type": "code",
   "execution_count": 43,
   "id": "0cc1f10f",
   "metadata": {},
   "outputs": [
    {
     "name": "stdout",
     "output_type": "stream",
     "text": [
      "[[4 6 4 6 5]\n",
      " [3 6 8 9 5]\n",
      " [2 3 5 1 3]\n",
      " [6 3 6 6 5]]\n",
      "\n",
      "[[10 18 18 13 12]\n",
      " [13 15 12 13 14]\n",
      " [10 18 18 15 12]\n",
      " [18 17 12 19 11]]\n"
     ]
    },
    {
     "data": {
      "text/plain": [
       "array([[0.4       , 0.33333333, 0.22222222, 0.46153846, 0.41666667],\n",
       "       [0.23076923, 0.4       , 0.66666667, 0.69230769, 0.35714286],\n",
       "       [0.2       , 0.16666667, 0.27777778, 0.06666667, 0.25      ],\n",
       "       [0.33333333, 0.17647059, 0.5       , 0.31578947, 0.45454545]])"
      ]
     },
     "execution_count": 43,
     "metadata": {},
     "output_type": "execute_result"
    }
   ],
   "source": [
    "print(arr_2d1)\n",
    "print()\n",
    "print(arr_2d2)\n",
    "arr_2d6 = arr_2d1 / arr_2d2\n",
    "arr_2d6"
   ]
  },
  {
   "cell_type": "code",
   "execution_count": 44,
   "id": "1d9f5733",
   "metadata": {},
   "outputs": [
    {
     "name": "stdout",
     "output_type": "stream",
     "text": [
      "[[4 6 4 6 5]\n",
      " [3 6 8 9 5]\n",
      " [2 3 5 1 3]\n",
      " [6 3 6 6 5]]\n",
      "\n",
      "[[10 18 18 13 12]\n",
      " [13 15 12 13 14]\n",
      " [10 18 18 15 12]\n",
      " [18 17 12 19 11]]\n"
     ]
    },
    {
     "data": {
      "text/plain": [
       "array([[0, 0, 0, 0, 0],\n",
       "       [0, 0, 0, 0, 0],\n",
       "       [0, 0, 0, 0, 0],\n",
       "       [0, 0, 0, 0, 0]])"
      ]
     },
     "execution_count": 44,
     "metadata": {},
     "output_type": "execute_result"
    }
   ],
   "source": [
    "print(arr_2d1)\n",
    "print()\n",
    "print(arr_2d2)\n",
    "arr_2d7 = arr_2d1 // arr_2d2\n",
    "arr_2d7"
   ]
  },
  {
   "cell_type": "code",
   "execution_count": 45,
   "id": "d7ea98a9",
   "metadata": {},
   "outputs": [
    {
     "name": "stdout",
     "output_type": "stream",
     "text": [
      "[[4 6 4 6 5]\n",
      " [3 6 8 9 5]\n",
      " [2 3 5 1 3]\n",
      " [6 3 6 6 5]]\n",
      "\n",
      "[[10 18 18 13 12]\n",
      " [13 15 12 13 14]\n",
      " [10 18 18 15 12]\n",
      " [18 17 12 19 11]]\n"
     ]
    },
    {
     "data": {
      "text/plain": [
       "array([[        1048576, 101559956668416,     68719476736,\n",
       "            13060694016,       244140625],\n",
       "       [        1594323,    470184984576,     68719476736,\n",
       "          2541865828329,      6103515625],\n",
       "       [           1024,       387420489,   3814697265625,\n",
       "                      1,          531441],\n",
       "       [101559956668416,       129140163,      2176782336,\n",
       "        609359740010496,        48828125]])"
      ]
     },
     "execution_count": 45,
     "metadata": {},
     "output_type": "execute_result"
    }
   ],
   "source": [
    "print(arr_2d1)\n",
    "print()\n",
    "print(arr_2d2)\n",
    "arr_2d8 = arr_2d1 ** arr_2d2\n",
    "arr_2d8"
   ]
  },
  {
   "cell_type": "code",
   "execution_count": 46,
   "id": "1a6b4340",
   "metadata": {},
   "outputs": [
    {
     "name": "stdout",
     "output_type": "stream",
     "text": [
      "[[4 6 4 6 5]\n",
      " [3 6 8 9 5]\n",
      " [2 3 5 1 3]\n",
      " [6 3 6 6 5]]\n",
      "96\n",
      "4.8\n",
      "1\n",
      "9\n",
      "13\n",
      "8\n"
     ]
    }
   ],
   "source": [
    "print(arr_2d1)\n",
    "print(arr_2d1.sum())\n",
    "print(arr_2d1.mean())\n",
    "print(arr_2d1.min())\n",
    "print(arr_2d1.max())\n",
    "print(arr_2d1.argmin()) #index of min\n",
    "print(arr_2d1.argmax()) #index of max"
   ]
  },
  {
   "cell_type": "code",
   "execution_count": 47,
   "id": "1ce6c6fd",
   "metadata": {},
   "outputs": [
    {
     "name": "stdout",
     "output_type": "stream",
     "text": [
      "[[4 6 4 6 5]\n",
      " [3 6 8 9 5]\n",
      " [2 3 5 1 3]\n",
      " [6 3 6 6 5]]\n",
      "\n",
      "[[10 18 18 13 12]\n",
      " [13 15 12 13 14]\n",
      " [10 18 18 15 12]\n",
      " [18 17 12 19 11]]\n"
     ]
    }
   ],
   "source": [
    "print(arr_2d1)\n",
    "print()\n",
    "print(arr_2d2)"
   ]
  },
  {
   "cell_type": "code",
   "execution_count": 48,
   "id": "e4e0dc34",
   "metadata": {},
   "outputs": [
    {
     "data": {
      "text/plain": [
       "array([[ True,  True,  True,  True,  True],\n",
       "       [ True,  True,  True,  True,  True],\n",
       "       [ True,  True,  True,  True,  True],\n",
       "       [ True,  True,  True,  True,  True]])"
      ]
     },
     "execution_count": 48,
     "metadata": {},
     "output_type": "execute_result"
    }
   ],
   "source": [
    "arr_2d1 < arr_2d2"
   ]
  },
  {
   "cell_type": "code",
   "execution_count": 49,
   "id": "909c52d8",
   "metadata": {},
   "outputs": [
    {
     "data": {
      "text/plain": [
       "array([[False, False, False, False, False],\n",
       "       [False, False, False, False, False],\n",
       "       [False, False, False, False, False],\n",
       "       [False, False, False, False, False]])"
      ]
     },
     "execution_count": 49,
     "metadata": {},
     "output_type": "execute_result"
    }
   ],
   "source": [
    "arr_2d1 > arr_2d2"
   ]
  },
  {
   "cell_type": "code",
   "execution_count": 50,
   "id": "ee135102",
   "metadata": {},
   "outputs": [
    {
     "data": {
      "text/plain": [
       "array([[False, False, False, False, False],\n",
       "       [False, False, False, False, False],\n",
       "       [False, False, False, False, False],\n",
       "       [False, False, False, False, False]])"
      ]
     },
     "execution_count": 50,
     "metadata": {},
     "output_type": "execute_result"
    }
   ],
   "source": [
    "arr_2d1 == arr_2d2"
   ]
  },
  {
   "cell_type": "code",
   "execution_count": null,
   "id": "d59f9338",
   "metadata": {},
   "outputs": [],
   "source": []
  },
  {
   "cell_type": "code",
   "execution_count": null,
   "id": "64812280",
   "metadata": {},
   "outputs": [],
   "source": []
  }
 ],
 "metadata": {
  "kernelspec": {
   "display_name": "Python 3 (ipykernel)",
   "language": "python",
   "name": "python3"
  },
  "language_info": {
   "codemirror_mode": {
    "name": "ipython",
    "version": 3
   },
   "file_extension": ".py",
   "mimetype": "text/x-python",
   "name": "python",
   "nbconvert_exporter": "python",
   "pygments_lexer": "ipython3",
   "version": "3.10.12"
  }
 },
 "nbformat": 4,
 "nbformat_minor": 5
}
