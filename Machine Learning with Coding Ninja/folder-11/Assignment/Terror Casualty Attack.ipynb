{
 "cells": [
  {
   "cell_type": "markdown",
   "id": "5f9ffdd3",
   "metadata": {},
   "source": [
    "city\n",
    "group\n",
    "killed\n",
    "wounded"
   ]
  },
  {
   "cell_type": "code",
   "execution_count": 3,
   "id": "7e064312",
   "metadata": {},
   "outputs": [],
   "source": [
    "import csv\n",
    "import numpy as np"
   ]
  },
  {
   "cell_type": "code",
   "execution_count": 11,
   "id": "59117b49",
   "metadata": {},
   "outputs": [
    {
     "name": "stderr",
     "output_type": "stream",
     "text": [
      "/tmp/ipykernel_62678/4277422199.py:27: DeprecationWarning: Calling nonzero on 0d arrays is deprecated, as it behaves surprisingly. Use `atleast_1d(arr).nonzero()` if the old behavior was intended.\n",
      "  ind = np.where(bool_max)\n"
     ]
    },
    {
     "data": {
      "text/plain": [
       "(array([0]),)"
      ]
     },
     "execution_count": 11,
     "metadata": {},
     "output_type": "execute_result"
    }
   ],
   "source": [
    "with open('terrorismData.csv') as file_obj:\n",
    "    file_data = csv.DictReader(file_obj, skipinitialspace=True)\n",
    "    killed = []\n",
    "    wounded = []\n",
    "    city = []\n",
    "    group = []\n",
    "    \n",
    "    for row in file_data:\n",
    "        killed.append(row['Killed'])\n",
    "        wounded.append(row['Wounded'])\n",
    "        city.append(row['City'])\n",
    "        group.append(row['Group'])\n",
    "        \n",
    "    np_killed = np.array(killed)\n",
    "    np_wounded = np.array(wounded)\n",
    "    np_city = np.array(city)\n",
    "    np_group = np.array(group)\n",
    "    \n",
    "    np_killed[np_killed == ''] = '0.0'\n",
    "    np_wounded[np_wounded == ''] = '0.0'\n",
    "    \n",
    "    np_killed = np.array(np_killed,float)\n",
    "    np_wounded = np.array(np_wounded,float)\n",
    "    \n",
    "    killed_wounded = np_killed + np_wounded\n",
    "    bool_max = np.max(killed_wounded)\n",
    "# print(np.max(killed_wounded))\n",
    "# print(np.sum(killed_wounded))\n",
    "bool_max\n"
   ]
  },
  {
   "cell_type": "code",
   "execution_count": null,
   "id": "69e858a5",
   "metadata": {},
   "outputs": [],
   "source": [
    "import pandas as pd\n",
    "\n",
    "# Read the CSV file into a pandas DataFrame\n",
    "data = pd.read_csv(\"terrorismData.csv\")\n",
    "\n",
    "# Filter data for the period between May 1999 and July 1999\n",
    "start_date = '1999-05-01'\n",
    "end_date = '1999-07-31'\n",
    "filtered_data = data[(data['iyear'] == 1999) & (data['imonth'].between(5, 7))]\n",
    "\n",
    "# Find the attack with maximum casualties\n",
    "max_casualty_attack = filtered_data.loc[(filtered_data['nkill'] + filtered_data['nwound']).idxmax()]\n",
    "\n",
    "# Extract required information\n",
    "casualties = int(max_casualty_attack['nkill'] + max_casualty_attack['nwound'])\n",
    "city = max_casualty_attack['city']\n",
    "terrorist_group = max_casualty_attack['gname']\n",
    "\n",
    "# Print the output in the specified format\n",
    "print(casualties, city, terrorist_group)\n"
   ]
  }
 ],
 "metadata": {
  "kernelspec": {
   "display_name": "Python 3 (ipykernel)",
   "language": "python",
   "name": "python3"
  },
  "language_info": {
   "codemirror_mode": {
    "name": "ipython",
    "version": 3
   },
   "file_extension": ".py",
   "mimetype": "text/x-python",
   "name": "python",
   "nbconvert_exporter": "python",
   "pygments_lexer": "ipython3",
   "version": "3.10.12"
  }
 },
 "nbformat": 4,
 "nbformat_minor": 5
}
