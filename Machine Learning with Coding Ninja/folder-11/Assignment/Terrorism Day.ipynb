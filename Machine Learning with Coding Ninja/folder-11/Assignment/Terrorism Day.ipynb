{
 "cells": [
  {
   "cell_type": "code",
   "execution_count": 1,
   "id": "bb7c7df4",
   "metadata": {},
   "outputs": [],
   "source": [
    "import csv\n",
    "import numpy as np"
   ]
  },
  {
   "cell_type": "code",
   "execution_count": 3,
   "id": "44d31400",
   "metadata": {},
   "outputs": [
    {
     "name": "stdout",
     "output_type": "stream",
     "text": [
      "993734\n",
      "<class 'int'>\n",
      "[ 2  0  0 ... 31 31 31]\n",
      "[10 11 12 ... 20 20 20]\n",
      "181691\n",
      "66330\n",
      "np_day_attack_array 66330\n",
      "<class 'numpy.ndarray'>\n"
     ]
    }
   ],
   "source": [
    "with open('terrorismData.csv') as file_obj:\n",
    "    file_data = csv.DictReader(file_obj, skipinitialspace=True)\n",
    "    day = []\n",
    "    for row in file_data:\n",
    "        day.append(row['Day'])\n",
    "        \n",
    "    np_day = np.array(day,int)\n",
    "    np_day_attack = np_day[(np_day>=10) & (np_day<=20)]\n",
    "    no_of_attack = 0\n",
    "    no_of_attack = int(np.sum(np_day_attack))\n",
    "    \n",
    "    np_day_attack_array = np.array(np_day_attack)\n",
    "    \n",
    "print(no_of_attack)\n",
    "print(type(no_of_attack))\n",
    "print(np_day)\n",
    "print(np_day_attack)\n",
    "print(len(np_day))\n",
    "print(len(np_day_attack))\n",
    "print(\"np_day_attack_array\",len(np_day_attack_array))\n",
    "print(type(np_day_attack_array))"
   ]
  },
  {
   "cell_type": "code",
   "execution_count": 18,
   "id": "ef1024b7",
   "metadata": {},
   "outputs": [
    {
     "data": {
      "text/plain": [
       "6"
      ]
     },
     "execution_count": 18,
     "metadata": {},
     "output_type": "execute_result"
    }
   ],
   "source": [
    "arr = np.array([1,2,3])\n",
    "sumi = np.sum(arr)\n",
    "sumi"
   ]
  },
  {
   "cell_type": "code",
   "execution_count": 14,
   "id": "9688b376",
   "metadata": {},
   "outputs": [
    {
     "data": {
      "text/plain": [
       "{'Armed Assault',\n",
       " 'Assassination',\n",
       " 'Bombing/Explosion',\n",
       " 'Facility/Infrastructure Attack',\n",
       " 'Hijacking',\n",
       " 'Hostage Taking (Barricade Incident)',\n",
       " 'Hostage Taking (Kidnapping)',\n",
       " 'Unarmed Assault',\n",
       " 'Unknown'}"
      ]
     },
     "execution_count": 14,
     "metadata": {},
     "output_type": "execute_result"
    }
   ],
   "source": [
    "with open('terrorismData.csv') as file_obj:\n",
    "    file_data = csv.DictReader(file_obj, skipinitialspace=True)\n",
    "    attacktype = []\n",
    "    for row in file_data:\n",
    "        attacktype.append(row['AttackType'])\n",
    "    \n",
    "    s = set()\n",
    "    for i in attacktype:\n",
    "        s.add(i)\n",
    "s"
   ]
  },
  {
   "cell_type": "code",
   "execution_count": 4,
   "id": "4813780b",
   "metadata": {},
   "outputs": [
    {
     "name": "stdout",
     "output_type": "stream",
     "text": [
      "66330\n"
     ]
    }
   ],
   "source": [
    "import pandas as pd\n",
    "import numpy as np\n",
    "\n",
    "# Read the CSV file into a pandas DataFrame\n",
    "data = pd.read_csv(\"terrorismData.csv\")\n",
    "\n",
    "# Extract day information from the 'iday' column and filter rows between day 10 and day 207\n",
    "filtered_data = data[(data['Day'] >= 10) & (data['Day'] <= 20)]\n",
    "\n",
    "# Get the count of attacks\n",
    "number_of_attacks = np.sum(filtered_data['Day'].notnull())\n",
    "\n",
    "# Print the count of attacks as an integer value\n",
    "print(int(number_of_attacks))"
   ]
  },
  {
   "cell_type": "code",
   "execution_count": null,
   "id": "3e4a8647",
   "metadata": {},
   "outputs": [],
   "source": []
  },
  {
   "cell_type": "code",
   "execution_count": null,
   "id": "32b7a166",
   "metadata": {},
   "outputs": [],
   "source": []
  }
 ],
 "metadata": {
  "kernelspec": {
   "display_name": "Python 3 (ipykernel)",
   "language": "python",
   "name": "python3"
  },
  "language_info": {
   "codemirror_mode": {
    "name": "ipython",
    "version": 3
   },
   "file_extension": ".py",
   "mimetype": "text/x-python",
   "name": "python",
   "nbconvert_exporter": "python",
   "pygments_lexer": "ipython3",
   "version": "3.10.12"
  }
 },
 "nbformat": 4,
 "nbformat_minor": 5
}
