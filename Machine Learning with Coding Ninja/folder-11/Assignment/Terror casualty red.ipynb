{
 "cells": [
  {
   "cell_type": "code",
   "execution_count": 2,
   "id": "63974393",
   "metadata": {},
   "outputs": [],
   "source": [
    "import csv\n",
    "import numpy as np"
   ]
  },
  {
   "cell_type": "code",
   "execution_count": 10,
   "id": "22e64076",
   "metadata": {},
   "outputs": [
    {
     "name": "stdout",
     "output_type": "stream",
     "text": [
      "hello\n"
     ]
    }
   ],
   "source": [
    "with open('terrorismData.csv') as file_obj:\n",
    "    file_data = csv.DictReader(file_obj, skipinitialspace=True)\n",
    "    killed = []\n",
    "    wounded = []\n",
    "    state = ['Jharkhand','Odisha','Andhra Pradesh','Chhattisgarh']\n",
    "    for row in file_data:\n",
    "        if row['State'] in state:\n",
    "            killed.append(row['Killed'])\n",
    "            wounded.append(row['Wounded'])\n",
    "            \n",
    "    np_killed = np.array(killed)\n",
    "    np_wounded = np.array(wounded)\n",
    "    \n",
    "    np_killed[np_killed == ''] = '0.0'\n",
    "    np_wounded[np_wounded == ''] = '0.0'\n",
    "    \n",
    "#     np_killed = np.array(killed,float)\n",
    "#     np_wounded = np.array(wounded,float)\n",
    "    \n",
    "#     casualty = np_killed + np_wounded\n",
    "#     count = int(np.sum(casualty))\n",
    "#     print(count)\n",
    "    count = [np_killed!='']\n",
    "    if count:\n",
    "        print(\"hello\")\n",
    "    else:\n",
    "        print(\"world\")"
   ]
  },
  {
   "cell_type": "code",
   "execution_count": null,
   "id": "4810767a",
   "metadata": {},
   "outputs": [],
   "source": []
  },
  {
   "cell_type": "code",
   "execution_count": null,
   "id": "ac0c3e1d",
   "metadata": {},
   "outputs": [],
   "source": []
  },
  {
   "cell_type": "code",
   "execution_count": null,
   "id": "48cdea3f",
   "metadata": {},
   "outputs": [],
   "source": []
  },
  {
   "cell_type": "code",
   "execution_count": null,
   "id": "52b8d819",
   "metadata": {},
   "outputs": [],
   "source": []
  },
  {
   "cell_type": "code",
   "execution_count": null,
   "id": "6982e0a2",
   "metadata": {},
   "outputs": [],
   "source": [
    "np_state=='Jharkhand') or (np_state=='Odisha') or (np_state=='Andhra Pradesh') or (np_state=='Chhattisgarh')"
   ]
  },
  {
   "cell_type": "code",
   "execution_count": null,
   "id": "a25bfaed",
   "metadata": {},
   "outputs": [],
   "source": []
  },
  {
   "cell_type": "code",
   "execution_count": 7,
   "id": "7c59a95d",
   "metadata": {},
   "outputs": [
    {
     "ename": "ModuleNotFoundError",
     "evalue": "No module named 'pandas'",
     "output_type": "error",
     "traceback": [
      "\u001b[0;31m---------------------------------------------------------------------------\u001b[0m",
      "\u001b[0;31mModuleNotFoundError\u001b[0m                       Traceback (most recent call last)",
      "Cell \u001b[0;32mIn[7], line 1\u001b[0m\n\u001b[0;32m----> 1\u001b[0m \u001b[38;5;28;01mimport\u001b[39;00m \u001b[38;5;21;01mpandas\u001b[39;00m \u001b[38;5;28;01mas\u001b[39;00m \u001b[38;5;21;01mpd\u001b[39;00m\n\u001b[1;32m      3\u001b[0m \u001b[38;5;66;03m# Read the CSV file into a pandas DataFrame\u001b[39;00m\n\u001b[1;32m      4\u001b[0m data \u001b[38;5;241m=\u001b[39m pd\u001b[38;5;241m.\u001b[39mread_csv(\u001b[38;5;124m\"\u001b[39m\u001b[38;5;124mterrorismData.csv\u001b[39m\u001b[38;5;124m\"\u001b[39m)\n",
      "\u001b[0;31mModuleNotFoundError\u001b[0m: No module named 'pandas'"
     ]
    }
   ],
   "source": [
    "import pandas as pd\n",
    "\n",
    "# Read the CSV file into a pandas DataFrame\n",
    "data = pd.read_csv(\"terrorismData.csv\")\n",
    "\n",
    "# Define the Red Corridor States\n",
    "red_corridor_states = ['Jharkhand', 'Odisha', 'Andhra Pradesh', 'Chhattisgarh']\n",
    "\n",
    "# Filter data for the Red Corridor States\n",
    "red_corridor_data = data[data['provstate'].isin(red_corridor_states)]\n",
    "\n",
    "# Calculate total casualty (sum of killed and wounded) in the Red Corridor States\n",
    "total_casualty = red_corridor_data['nkill'] + red_corridor_data['nwound']\n",
    "total_casualty = total_casualty.sum()\n",
    "\n",
    "# Print the count of Casualty as an integer value\n",
    "print(int(total_casualty))\n"
   ]
  },
  {
   "cell_type": "code",
   "execution_count": 22,
   "id": "6e668ce2",
   "metadata": {},
   "outputs": [
    {
     "data": {
      "text/plain": [
       "2"
      ]
     },
     "execution_count": 22,
     "metadata": {},
     "output_type": "execute_result"
    }
   ],
   "source": [
    "li = [1,3,2,2,2,3,4,5,6]\n",
    "li2 = ['Jharkhand','Jharkhand','kerla','kerla','kerla','kerla','kerla','kerla','kerla','kerla','kerla']\n",
    "\n",
    "# state = [2,6,6,6,6]\n",
    "state = ['Jharkhand','Odisha','Andhra Pradesh','Chhattisgarh']\n",
    "\n",
    "count=0\n",
    "for row in li2:\n",
    "    if row in state:\n",
    "        count+=1\n",
    "count"
   ]
  },
  {
   "cell_type": "code",
   "execution_count": null,
   "id": "d34ff13e",
   "metadata": {},
   "outputs": [],
   "source": []
  }
 ],
 "metadata": {
  "kernelspec": {
   "display_name": "Python 3 (ipykernel)",
   "language": "python",
   "name": "python3"
  },
  "language_info": {
   "codemirror_mode": {
    "name": "ipython",
    "version": 3
   },
   "file_extension": ".py",
   "mimetype": "text/x-python",
   "name": "python",
   "nbconvert_exporter": "python",
   "pygments_lexer": "ipython3",
   "version": "3.10.12"
  }
 },
 "nbformat": 4,
 "nbformat_minor": 5
}
