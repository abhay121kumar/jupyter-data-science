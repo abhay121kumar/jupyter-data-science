{
 "cells": [
  {
   "cell_type": "code",
   "execution_count": 2,
   "id": "63974393",
   "metadata": {},
   "outputs": [],
   "source": [
    "import csv\n",
    "import numpy as np"
   ]
  },
  {
   "cell_type": "code",
   "execution_count": 10,
   "id": "22e64076",
   "metadata": {},
   "outputs": [
    {
     "name": "stdout",
     "output_type": "stream",
     "text": [
      "hello\n"
     ]
    }
   ],
   "source": [
    "with open('terrorismData.csv') as file_obj:\n",
    "    file_data = csv.DictReader(file_obj, skipinitialspace=True)\n",
    "    killed = []\n",
    "    wounded = []\n",
    "    state = ['Jharkhand','Odisha','Andhra Pradesh','Chhattisgarh']\n",
    "    for row in file_data:\n",
    "        if row['State'] in state:\n",
    "            killed.append(row['Killed'])\n",
    "            wounded.append(row['Wounded'])\n",
    "            \n",
    "    np_killed = np.array(killed)\n",
    "    np_wounded = np.array(wounded)\n",
    "    \n",
    "    np_killed[np_killed == ''] = '0.0'\n",
    "    np_wounded[np_wounded == ''] = '0.0'\n",
    "    \n",
    "#     np_killed = np.array(killed,float)\n",
    "#     np_wounded = np.array(wounded,float)\n",
    "    \n",
    "#     casualty = np_killed + np_wounded\n",
    "#     count = int(np.sum(casualty))\n",
    "#     print(count)\n",
    "    count = [np_killed!='']\n",
    "    if count:\n",
    "        print(\"hello\")\n",
    "    else:\n",
    "        print(\"world\")"
   ]
  },
  {
   "cell_type": "code",
   "execution_count": null,
   "id": "4810767a",
   "metadata": {},
   "outputs": [],
   "source": []
  },
  {
   "cell_type": "code",
   "execution_count": null,
   "id": "ac0c3e1d",
   "metadata": {},
   "outputs": [],
   "source": []
  },
  {
   "cell_type": "code",
   "execution_count": null,
   "id": "7c9b8b7e",
   "metadata": {},
   "outputs": [],
   "source": []
  },
  {
   "cell_type": "code",
   "execution_count": 2,
   "id": "fbc14c27",
   "metadata": {},
   "outputs": [
    {
     "name": "stdout",
     "output_type": "stream",
     "text": [
      "5628\n"
     ]
    }
   ],
   "source": [
    "import numpy as np\n",
    "import csv\n",
    "\n",
    "with open('terrorismData.csv',encoding=\"utf8\") as file_obj :\n",
    "    data = csv.DictReader(file_obj,skipinitialspace=True)\n",
    "    \n",
    "    casualty = []\n",
    "    for row in data:\n",
    "        if row['State']=='Chhattisgarh' or row['State']=='Odisha' or row['State']=='Jharkhand' or row['State']=='Andhra Pradesh':\n",
    "                casualty.append([row[\"Killed\"],row[\"Wounded\"]])\n",
    "\n",
    "    np_casualty = np.array(casualty)\n",
    "    \n",
    "    np_casualty[np_casualty==''] = \"0.0\"\n",
    "    np_casualty = np.array(np_casualty, dtype = float)\n",
    "    \n",
    "    np_casualty = np.sum(np_casualty, axis=1)\n",
    "    total_casualty = np.sum(np_casualty)\n",
    "    print(int(total_casualty))"
   ]
  },
  {
   "cell_type": "code",
   "execution_count": null,
   "id": "6e4c0513",
   "metadata": {},
   "outputs": [],
   "source": []
  },
  {
   "cell_type": "code",
   "execution_count": null,
   "id": "48cdea3f",
   "metadata": {},
   "outputs": [],
   "source": []
  },
  {
   "cell_type": "code",
   "execution_count": null,
   "id": "52b8d819",
   "metadata": {},
   "outputs": [],
   "source": []
  },
  {
   "cell_type": "code",
   "execution_count": null,
   "id": "6982e0a2",
   "metadata": {},
   "outputs": [],
   "source": [
    "np_state=='Jharkhand') or (np_state=='Odisha') or (np_state=='Andhra Pradesh') or (np_state=='Chhattisgarh')"
   ]
  },
  {
   "cell_type": "code",
   "execution_count": null,
   "id": "a25bfaed",
   "metadata": {},
   "outputs": [],
   "source": []
  },
  {
   "cell_type": "code",
   "execution_count": 1,
   "id": "7c59a95d",
   "metadata": {},
   "outputs": [
    {
     "name": "stdout",
     "output_type": "stream",
     "text": [
      "5448\n"
     ]
    }
   ],
   "source": [
    "import pandas as pd\n",
    "\n",
    "# Read the CSV file into a pandas DataFrame\n",
    "data = pd.read_csv(\"terrorismData.csv\")\n",
    "\n",
    "# Define the Red Corridor States\n",
    "red_corridor_states = ['Jharkhand', 'Odisha', 'Andhra Pradesh', 'Chhattisgarh']\n",
    "\n",
    "# Filter data for the Red Corridor States\n",
    "red_corridor_data = data[data['State'].isin(red_corridor_states)]\n",
    "\n",
    "# Calculate total casualty (sum of killed and wounded) in the Red Corridor States\n",
    "total_casualty = red_corridor_data['Killed'] + red_corridor_data['Wounded']\n",
    "total_casualty = total_casualty.sum()\n",
    "\n",
    "# Print the count of Casualty as an integer value\n",
    "print(int(total_casualty))\n"
   ]
  },
  {
   "cell_type": "code",
   "execution_count": null,
   "id": "dff701b0",
   "metadata": {},
   "outputs": [],
   "source": []
  },
  {
   "cell_type": "code",
   "execution_count": null,
   "id": "b10a8224",
   "metadata": {},
   "outputs": [],
   "source": []
  },
  {
   "cell_type": "code",
   "execution_count": null,
   "id": "e4775353",
   "metadata": {},
   "outputs": [],
   "source": []
  },
  {
   "cell_type": "code",
   "execution_count": null,
   "id": "19007969",
   "metadata": {},
   "outputs": [],
   "source": []
  },
  {
   "cell_type": "code",
   "execution_count": null,
   "id": "d0ddadad",
   "metadata": {},
   "outputs": [],
   "source": []
  },
  {
   "cell_type": "code",
   "execution_count": null,
   "id": "677a8eaa",
   "metadata": {},
   "outputs": [],
   "source": []
  },
  {
   "cell_type": "code",
   "execution_count": 22,
   "id": "6e668ce2",
   "metadata": {},
   "outputs": [
    {
     "data": {
      "text/plain": [
       "2"
      ]
     },
     "execution_count": 22,
     "metadata": {},
     "output_type": "execute_result"
    }
   ],
   "source": [
    "li = [1,3,2,2,2,3,4,5,6]\n",
    "li2 = ['Jharkhand','Jharkhand','kerla','kerla','kerla','kerla','kerla','kerla','kerla','kerla','kerla']\n",
    "\n",
    "# state = [2,6,6,6,6]\n",
    "state = ['Jharkhand','Odisha','Andhra Pradesh','Chhattisgarh']\n",
    "\n",
    "count=0\n",
    "for row in li2:\n",
    "    if row in state:\n",
    "        count+=1\n",
    "count"
   ]
  },
  {
   "cell_type": "code",
   "execution_count": null,
   "id": "d34ff13e",
   "metadata": {},
   "outputs": [],
   "source": []
  }
 ],
 "metadata": {
  "kernelspec": {
   "display_name": "Python 3 (ipykernel)",
   "language": "python",
   "name": "python3"
  },
  "language_info": {
   "codemirror_mode": {
    "name": "ipython",
    "version": 3
   },
   "file_extension": ".py",
   "mimetype": "text/x-python",
   "name": "python",
   "nbconvert_exporter": "python",
   "pygments_lexer": "ipython3",
   "version": "3.10.12"
  }
 },
 "nbformat": 4,
 "nbformat_minor": 5
}
