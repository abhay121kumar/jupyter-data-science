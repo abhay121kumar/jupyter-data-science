{
 "cells": [
  {
   "cell_type": "code",
   "execution_count": 1,
   "id": "fe0cf219",
   "metadata": {},
   "outputs": [],
   "source": [
    "import csv\n",
    "import numpy as np"
   ]
  },
  {
   "cell_type": "code",
   "execution_count": 16,
   "id": "f8d84e5f",
   "metadata": {},
   "outputs": [
    {
     "name": "stdout",
     "output_type": "stream",
     "text": [
      "4826\n",
      "14936\n",
      "180800\n"
     ]
    }
   ],
   "source": [
    "with open('terrorismData.csv') as file_obj:\n",
    "    file_data = csv.DictReader(file_obj, skipinitialspace=True)\n",
    "    year = []\n",
    "    month = []\n",
    "    day = []\n",
    "    for row in file_data:\n",
    "        year.append(row['Year'])\n",
    "        month.append(row['Month'])\n",
    "        day.append([row['Day']])\n",
    "        \n",
    "    np_year = np.array(year,int)\n",
    "    np_month = np.array(month,int)\n",
    "    np_day = np.array(day,int)\n",
    "    \n",
    "    bool_year = np_year==2010\n",
    "    bool_month = np_month == 1\n",
    "    bool_day  = ((np_day>0) & (np_day<32))\n",
    "    count1 = np.sum(bool_year)\n",
    "    count2 = np.sum(bool_month)\n",
    "    count3 = np.sum(bool_day)\n",
    "#     count = 0\n",
    "#     for i in file_data:\n",
    "#         count1 = bool_month[bool_day]\n",
    "#         count2 = bool_year[count1]\n",
    "#         print(\"hello\")\n",
    "#         print(count1)\n",
    "#         print(count2)\n",
    "#         if count2:\n",
    "# #             print('hello')\n",
    "#             count+=1\n",
    "#     print(\"hello\")\n",
    "\n",
    "# count2\n",
    "bool_day\n",
    "bool_month\n",
    "bool_year\n",
    "print(count1)\n",
    "print(count2)\n",
    "print(count3)"
   ]
  },
  {
   "cell_type": "code",
   "execution_count": null,
   "id": "e4070c2d",
   "metadata": {},
   "outputs": [],
   "source": []
  },
  {
   "cell_type": "code",
   "execution_count": null,
   "id": "0dbfca86",
   "metadata": {},
   "outputs": [],
   "source": [
    "li = [x for ]"
   ]
  },
  {
   "cell_type": "code",
   "execution_count": 1,
   "id": "74a66fa4",
   "metadata": {},
   "outputs": [
    {
     "name": "stdout",
     "output_type": "stream",
     "text": [
      "1 2 3 4\n"
     ]
    },
    {
     "data": {
      "text/plain": [
       "[1, 2, 3, 4]"
      ]
     },
     "execution_count": 1,
     "metadata": {},
     "output_type": "execute_result"
    }
   ],
   "source": [
    "li = [int(x) for x in input().split()]\n",
    "li"
   ]
  },
  {
   "cell_type": "code",
   "execution_count": 2,
   "id": "c07117a2",
   "metadata": {},
   "outputs": [
    {
     "data": {
      "text/plain": [
       "1"
      ]
     },
     "execution_count": 2,
     "metadata": {},
     "output_type": "execute_result"
    }
   ],
   "source": [
    "li[0]"
   ]
  },
  {
   "cell_type": "code",
   "execution_count": 2,
   "id": "9b808958",
   "metadata": {},
   "outputs": [
    {
     "ename": "NameError",
     "evalue": "name 'li' is not defined",
     "output_type": "error",
     "traceback": [
      "\u001b[0;31m---------------------------------------------------------------------------\u001b[0m",
      "\u001b[0;31mNameError\u001b[0m                                 Traceback (most recent call last)",
      "Cell \u001b[0;32mIn[2], line 1\u001b[0m\n\u001b[0;32m----> 1\u001b[0m \u001b[43mli\u001b[49m[\u001b[38;5;241m0\u001b[39m] \u001b[38;5;241m=\u001b[39m \u001b[38;5;241m100\u001b[39m\n",
      "\u001b[0;31mNameError\u001b[0m: name 'li' is not defined"
     ]
    }
   ],
   "source": [
    "li[0] = 100"
   ]
  },
  {
   "cell_type": "code",
   "execution_count": 13,
   "id": "6750e417",
   "metadata": {},
   "outputs": [
    {
     "name": "stdout",
     "output_type": "stream",
     "text": [
      "True\n",
      "True\n"
     ]
    }
   ],
   "source": [
    "a=11\n",
    "b=12\n",
    "c1  = a>10\n",
    "c2 = b<20\n",
    "r1 = c1 and c2\n",
    "r2 = c1 & c2\n",
    "print(r1)\n",
    "print(r2)"
   ]
  },
  {
   "cell_type": "code",
   "execution_count": null,
   "id": "c85a0999",
   "metadata": {},
   "outputs": [],
   "source": []
  },
  {
   "cell_type": "code",
   "execution_count": null,
   "id": "89d6dff4",
   "metadata": {},
   "outputs": [],
   "source": []
  },
  {
   "cell_type": "code",
   "execution_count": null,
   "id": "4055dd47",
   "metadata": {},
   "outputs": [],
   "source": []
  },
  {
   "cell_type": "code",
   "execution_count": null,
   "id": "a6c6ebd9",
   "metadata": {},
   "outputs": [],
   "source": []
  },
  {
   "cell_type": "code",
   "execution_count": 14,
   "id": "1026d5de",
   "metadata": {},
   "outputs": [
    {
     "ename": "ValueError",
     "evalue": "operands could not be broadcast together with shapes (181691,) (180800,) ",
     "output_type": "error",
     "traceback": [
      "\u001b[0;31m---------------------------------------------------------------------------\u001b[0m",
      "\u001b[0;31mValueError\u001b[0m                                Traceback (most recent call last)",
      "Cell \u001b[0;32mIn[14], line 15\u001b[0m\n\u001b[1;32m     13\u001b[0m     np_day \u001b[38;5;241m=\u001b[39m np\u001b[38;5;241m.\u001b[39marray(day,\u001b[38;5;28mint\u001b[39m)\n\u001b[1;32m     14\u001b[0m     valid_day \u001b[38;5;241m=\u001b[39m np_day[(np_day\u001b[38;5;241m>\u001b[39m\u001b[38;5;241m=\u001b[39m\u001b[38;5;241m1\u001b[39m) \u001b[38;5;241m&\u001b[39m (np_day\u001b[38;5;241m<\u001b[39m\u001b[38;5;241m=\u001b[39m\u001b[38;5;241m31\u001b[39m)]\n\u001b[0;32m---> 15\u001b[0m     np_year_month_day \u001b[38;5;241m=\u001b[39m \u001b[43m(\u001b[49m\u001b[43mnp_year\u001b[49m\u001b[38;5;241;43m==\u001b[39;49m\u001b[38;5;241;43m2010\u001b[39;49m\u001b[43m)\u001b[49m\u001b[43m \u001b[49m\u001b[38;5;241;43m&\u001b[39;49m\u001b[43m \u001b[49m\u001b[43m(\u001b[49m\u001b[43mnp_month\u001b[49m\u001b[38;5;241;43m==\u001b[39;49m\u001b[43m \u001b[49m\u001b[38;5;241;43m1\u001b[39;49m\u001b[43m)\u001b[49m\u001b[43m \u001b[49m\u001b[38;5;241;43m&\u001b[39;49m\u001b[43m \u001b[49m\u001b[43m(\u001b[49m\u001b[43mvalid_day\u001b[49m\u001b[43m)\u001b[49m\n\u001b[1;32m     17\u001b[0m \u001b[38;5;28mprint\u001b[39m(valid_day)\n\u001b[1;32m     18\u001b[0m \u001b[38;5;28mprint\u001b[39m(np_year_month_day)\n",
      "\u001b[0;31mValueError\u001b[0m: operands could not be broadcast together with shapes (181691,) (180800,) "
     ]
    }
   ],
   "source": [
    "with open('terrorismData.csv') as file_obj:\n",
    "    file_data = csv.DictReader(file_obj, skipinitialspace=True)\n",
    "    year = []\n",
    "    month = []\n",
    "    day = []\n",
    "    for row in file_data:\n",
    "        year.append(row['Year'])\n",
    "        month.append(row['Month'])\n",
    "        day.append([row['Day']])\n",
    "        \n",
    "    np_year = np.array(year,int)\n",
    "    np_month = np.array(month,int)\n",
    "    np_day = np.array(day,int)\n",
    "    valid_day = np_day[(np_day>=1) & (np_day<=31)]\n",
    "    np_year_month_day = (np_year==2010) & (np_month== 1) & (valid_day)\n",
    "\n",
    "print(valid_day)\n",
    "print(np_year_month_day)"
   ]
  },
  {
   "cell_type": "code",
   "execution_count": null,
   "id": "25a24753",
   "metadata": {},
   "outputs": [],
   "source": []
  },
  {
   "cell_type": "code",
   "execution_count": null,
   "id": "7c42cb48",
   "metadata": {},
   "outputs": [],
   "source": []
  },
  {
   "cell_type": "code",
   "execution_count": 15,
   "id": "e152c212",
   "metadata": {},
   "outputs": [],
   "source": [
    "import pandas as pd"
   ]
  },
  {
   "cell_type": "code",
   "execution_count": null,
   "id": "97daf37b",
   "metadata": {},
   "outputs": [],
   "source": [
    "with open('terrorismData.csv') as file_obj:\n",
    "    file_data = csv.DictReader(file_obj, skipinitialspace=True)\n",
    "    year = []\n",
    "    month = []\n",
    "    day = []\n",
    "    for row in file_data:\n",
    "        year.append(row['Year'])\n",
    "        month.append(row['Month'])\n",
    "        day.append([row['Day']])\n",
    "        \n",
    "    np_year = np.array(year,int)\n",
    "    np_month = np.array(month,int)\n",
    "    np_day = np.array(day,int)\n",
    "    valid_day = np_day[(np_day>=1) & (np_day<=31)]\n",
    "    np_year_month_day = (np_year==2010) & (np_month== 1) & (valid_day)\n",
    "\n",
    "print(valid_day)\n",
    "print(np_year_month_day)"
   ]
  }
 ],
 "metadata": {
  "kernelspec": {
   "display_name": "Python 3 (ipykernel)",
   "language": "python",
   "name": "python3"
  },
  "language_info": {
   "codemirror_mode": {
    "name": "ipython",
    "version": 3
   },
   "file_extension": ".py",
   "mimetype": "text/x-python",
   "name": "python",
   "nbconvert_exporter": "python",
   "pygments_lexer": "ipython3",
   "version": "3.10.12"
  }
 },
 "nbformat": 4,
 "nbformat_minor": 5
}
