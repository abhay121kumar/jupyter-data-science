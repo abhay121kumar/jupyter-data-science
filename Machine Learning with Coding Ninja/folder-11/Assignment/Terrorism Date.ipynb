{
 "cells": [
  {
   "cell_type": "code",
   "execution_count": 27,
   "id": "fe0cf219",
   "metadata": {},
   "outputs": [],
   "source": [
    "import csv\n",
    "import numpy as np\n",
    "import pandas as pd"
   ]
  },
  {
   "cell_type": "markdown",
   "id": "6b0bf790",
   "metadata": {},
   "source": [
    "# please solve this question using numpy"
   ]
  },
  {
   "cell_type": "code",
   "execution_count": null,
   "id": "b5babf7e",
   "metadata": {},
   "outputs": [],
   "source": [
    "# my method but using panda"
   ]
  },
  {
   "cell_type": "code",
   "execution_count": 29,
   "id": "f8d84e5f",
   "metadata": {},
   "outputs": [
    {
     "name": "stdout",
     "output_type": "stream",
     "text": [
      "271\n"
     ]
    }
   ],
   "source": [
    "with open('terrorismData.csv') as file_obj:\n",
    "    file_data = csv.DictReader(file_obj, skipinitialspace=True)\n",
    "    \n",
    "    data = pd.read_csv('terrorismData.csv')\n",
    "\n",
    "    filtered_data = data[ (data['Year'] == 2010) & (data['Month']==1) & ((data['Day']>0) & (data['Day']<32))]\n",
    "    \n",
    "filtered_data \n",
    "print(len(filtered_data))"
   ]
  },
  {
   "cell_type": "code",
   "execution_count": null,
   "id": "e4070c2d",
   "metadata": {},
   "outputs": [],
   "source": []
  },
  {
   "cell_type": "code",
   "execution_count": null,
   "id": "0dbfca86",
   "metadata": {},
   "outputs": [],
   "source": [
    "li = [x for ]"
   ]
  },
  {
   "cell_type": "code",
   "execution_count": 1,
   "id": "74a66fa4",
   "metadata": {},
   "outputs": [
    {
     "name": "stdout",
     "output_type": "stream",
     "text": [
      "1 2 3 4\n"
     ]
    },
    {
     "data": {
      "text/plain": [
       "[1, 2, 3, 4]"
      ]
     },
     "execution_count": 1,
     "metadata": {},
     "output_type": "execute_result"
    }
   ],
   "source": [
    "li = [int(x) for x in input().split()]\n",
    "li"
   ]
  },
  {
   "cell_type": "code",
   "execution_count": 2,
   "id": "c07117a2",
   "metadata": {},
   "outputs": [
    {
     "data": {
      "text/plain": [
       "1"
      ]
     },
     "execution_count": 2,
     "metadata": {},
     "output_type": "execute_result"
    }
   ],
   "source": [
    "li[0]"
   ]
  },
  {
   "cell_type": "code",
   "execution_count": 2,
   "id": "9b808958",
   "metadata": {},
   "outputs": [
    {
     "ename": "NameError",
     "evalue": "name 'li' is not defined",
     "output_type": "error",
     "traceback": [
      "\u001b[0;31m---------------------------------------------------------------------------\u001b[0m",
      "\u001b[0;31mNameError\u001b[0m                                 Traceback (most recent call last)",
      "Cell \u001b[0;32mIn[2], line 1\u001b[0m\n\u001b[0;32m----> 1\u001b[0m \u001b[43mli\u001b[49m[\u001b[38;5;241m0\u001b[39m] \u001b[38;5;241m=\u001b[39m \u001b[38;5;241m100\u001b[39m\n",
      "\u001b[0;31mNameError\u001b[0m: name 'li' is not defined"
     ]
    }
   ],
   "source": [
    "li[0] = 100"
   ]
  },
  {
   "cell_type": "code",
   "execution_count": 13,
   "id": "81baec85",
   "metadata": {},
   "outputs": [
    {
     "name": "stdout",
     "output_type": "stream",
     "text": [
      "True\n",
      "True\n"
     ]
    }
   ],
   "source": [
    "a=11\n",
    "b=12\n",
    "c1  = a>10\n",
    "c2 = b<20\n",
    "r1 = c1 and c2\n",
    "r2 = c1 & c2\n",
    "print(r1)\n",
    "print(r2)"
   ]
  },
  {
   "cell_type": "code",
   "execution_count": null,
   "id": "9c2c8615",
   "metadata": {},
   "outputs": [],
   "source": []
  },
  {
   "cell_type": "code",
   "execution_count": null,
   "id": "48d115c7",
   "metadata": {},
   "outputs": [],
   "source": []
  },
  {
   "cell_type": "code",
   "execution_count": null,
   "id": "6f4ca47e",
   "metadata": {},
   "outputs": [],
   "source": []
  },
  {
   "cell_type": "code",
   "execution_count": null,
   "id": "54034ecc",
   "metadata": {},
   "outputs": [],
   "source": []
  },
  {
   "cell_type": "code",
   "execution_count": 24,
   "id": "1026d5de",
   "metadata": {},
   "outputs": [
    {
     "ename": "ValueError",
     "evalue": "operands could not be broadcast together with shapes (180800,) (181691,) ",
     "output_type": "error",
     "traceback": [
      "\u001b[0;31m---------------------------------------------------------------------------\u001b[0m",
      "\u001b[0;31mValueError\u001b[0m                                Traceback (most recent call last)",
      "Cell \u001b[0;32mIn[24], line 17\u001b[0m\n\u001b[1;32m     15\u001b[0m     valid_month \u001b[38;5;241m=\u001b[39m np_month\u001b[38;5;241m==\u001b[39m \u001b[38;5;241m1\u001b[39m\n\u001b[1;32m     16\u001b[0m     vaild_year \u001b[38;5;241m=\u001b[39m np_year\u001b[38;5;241m==\u001b[39m\u001b[38;5;241m2010\u001b[39m\n\u001b[0;32m---> 17\u001b[0m     np_year_month_day \u001b[38;5;241m=\u001b[39m \u001b[43m(\u001b[49m\u001b[43mvalid_day\u001b[49m\u001b[43m)\u001b[49m\u001b[43m \u001b[49m\u001b[38;5;241;43m&\u001b[39;49m\u001b[43m \u001b[49m\u001b[43m(\u001b[49m\u001b[43mvalid_month\u001b[49m\u001b[43m)\u001b[49m \u001b[38;5;241m&\u001b[39m (valid_year)\n\u001b[1;32m     19\u001b[0m \u001b[38;5;28mprint\u001b[39m(valid_day)\n\u001b[1;32m     20\u001b[0m \u001b[38;5;28mprint\u001b[39m(np_year_month_day)\n",
      "\u001b[0;31mValueError\u001b[0m: operands could not be broadcast together with shapes (180800,) (181691,) "
     ]
    }
   ],
   "source": [
    "with open('terrorismData.csv') as file_obj:\n",
    "    file_data = csv.DictReader(file_obj, skipinitialspace=True)\n",
    "    year = []\n",
    "    month = []\n",
    "    day = []\n",
    "    for row in file_data:\n",
    "        year.append(row['Year'])\n",
    "        month.append(row['Month'])\n",
    "        day.append([row['Day']])\n",
    "        \n",
    "    np_year = np.array(year,int)\n",
    "    np_month = np.array(month,int)\n",
    "    np_day = np.array(day,int)\n",
    "    \n",
    "    valid_day = np_day[(np_day>=1) & (np_day<=31)]\n",
    "    valid_month = np_month== 1\n",
    "    vaild_year = np_year==2010\n",
    "    \n",
    "    np_year_month_day = (valid_day) & (valid_month) & (valid_year)\n",
    "\n",
    "print(valid_day)\n",
    "print(np_year_month_day)"
   ]
  },
  {
   "cell_type": "code",
   "execution_count": null,
   "id": "9c360749",
   "metadata": {},
   "outputs": [],
   "source": []
  },
  {
   "cell_type": "code",
   "execution_count": null,
   "id": "ccf7abae",
   "metadata": {},
   "outputs": [],
   "source": []
  },
  {
   "cell_type": "code",
   "execution_count": 15,
   "id": "0ee371f7",
   "metadata": {},
   "outputs": [],
   "source": [
    "import pandas as pd"
   ]
  },
  {
   "cell_type": "code",
   "execution_count": 20,
   "id": "05719609",
   "metadata": {},
   "outputs": [
    {
     "name": "stdout",
     "output_type": "stream",
     "text": [
      "271\n",
      "271\n"
     ]
    }
   ],
   "source": [
    "import pandas as pd\n",
    "import numpy as np\n",
    "\n",
    "# Read the CSV file into a pandas DataFrame\n",
    "data = pd.read_csv(\"terrorismData.csv\")\n",
    "\n",
    "# Convert the 'iyear', 'imonth', and 'iday' columns to datetime format\n",
    "data['date'] = pd.to_datetime(data[['Year', 'Month', 'Day']], errors='coerce')\n",
    "\n",
    "# Filter rows between 1 Jan 2010 and 31 Jan 2010\n",
    "filtered_data = data[(data['date'] >= '2010-01-01') & (data['date'] <= '2010-01-31')]\n",
    "\n",
    "# Get the count of attacks\n",
    "number_of_attacks = np.sum(filtered_data['date'].notnull())\n",
    "\n",
    "# Print the count of attacks as an integer value\n",
    "print(int(number_of_attacks))\n",
    "print(len(filtered_data))"
   ]
  },
  {
   "cell_type": "code",
   "execution_count": null,
   "id": "11fd0a9b",
   "metadata": {},
   "outputs": [],
   "source": []
  },
  {
   "cell_type": "code",
   "execution_count": 21,
   "id": "bc365f0c",
   "metadata": {},
   "outputs": [
    {
     "name": "stdout",
     "output_type": "stream",
     "text": [
      "[[6]\n",
      " [5]\n",
      " [6]]\n",
      "\n",
      "[[8 6 3]\n",
      " [6 7 7]\n",
      " [4 6 1]]\n"
     ]
    }
   ],
   "source": [
    "x = np.random.randint(1,10,(3,1))\n",
    "y = np.random.randint(1,10,(3,3))\n",
    "print(x)\n",
    "print()\n",
    "print(y)"
   ]
  },
  {
   "cell_type": "code",
   "execution_count": 22,
   "id": "5d789b9c",
   "metadata": {},
   "outputs": [
    {
     "name": "stdout",
     "output_type": "stream",
     "text": [
      "[[14 12  9]\n",
      " [11 12 12]\n",
      " [10 12  7]]\n"
     ]
    }
   ],
   "source": [
    "ans = x+y\n",
    "print(ans)"
   ]
  },
  {
   "cell_type": "code",
   "execution_count": null,
   "id": "293f498b",
   "metadata": {},
   "outputs": [],
   "source": []
  }
 ],
 "metadata": {
  "kernelspec": {
   "display_name": "Python 3 (ipykernel)",
   "language": "python",
   "name": "python3"
  },
  "language_info": {
   "codemirror_mode": {
    "name": "ipython",
    "version": 3
   },
   "file_extension": ".py",
   "mimetype": "text/x-python",
   "name": "python",
   "nbconvert_exporter": "python",
   "pygments_lexer": "ipython3",
   "version": "3.10.12"
  }
 },
 "nbformat": 4,
 "nbformat_minor": 5
}
