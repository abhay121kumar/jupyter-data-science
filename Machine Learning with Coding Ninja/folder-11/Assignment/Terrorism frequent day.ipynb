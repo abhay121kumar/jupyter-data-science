{
 "cells": [
  {
   "cell_type": "code",
   "execution_count": 4,
   "id": "b3ced6d5",
   "metadata": {},
   "outputs": [
    {
     "name": "stdout",
     "output_type": "stream",
     "text": [
      "15 6500\n"
     ]
    }
   ],
   "source": [
    "import numpy as np\n",
    "import csv\n",
    "\n",
    "with open('terrorismData.csv',encoding=\"utf8\") as file_obj :\n",
    "    data = csv.DictReader(file_obj,skipinitialspace=True)\n",
    "    \n",
    "    day = []\n",
    "    for row in data:\n",
    "        day.append(row['Day'])\n",
    "        \n",
    "    np_day = np.array(day, dtype='int')\n",
    "    day, count = np.unique(np_day, return_counts=True)\n",
    "    index = np.argmax(count)\n",
    "    print(day[index], count[index])\n"
   ]
  },
  {
   "cell_type": "code",
   "execution_count": null,
   "id": "787b9594",
   "metadata": {},
   "outputs": [],
   "source": []
  },
  {
   "cell_type": "code",
   "execution_count": null,
   "id": "d186ebdf",
   "metadata": {},
   "outputs": [],
   "source": []
  }
 ],
 "metadata": {
  "kernelspec": {
   "display_name": "Python 3 (ipykernel)",
   "language": "python",
   "name": "python3"
  },
  "language_info": {
   "codemirror_mode": {
    "name": "ipython",
    "version": 3
   },
   "file_extension": ".py",
   "mimetype": "text/x-python",
   "name": "python",
   "nbconvert_exporter": "python",
   "pygments_lexer": "ipython3",
   "version": "3.10.12"
  }
 },
 "nbformat": 4,
 "nbformat_minor": 5
}
