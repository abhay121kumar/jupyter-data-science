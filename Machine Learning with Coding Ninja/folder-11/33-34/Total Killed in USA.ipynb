{
 "cells": [
  {
   "cell_type": "code",
   "execution_count": 2,
   "id": "4652e6b6",
   "metadata": {},
   "outputs": [],
   "source": [
    "import csv\n",
    "import numpy as np"
   ]
  },
  {
   "cell_type": "code",
   "execution_count": 3,
   "id": "e6564168",
   "metadata": {},
   "outputs": [
    {
     "name": "stdout",
     "output_type": "stream",
     "text": [
      "[1 0 1 ... 0 0 0]\n",
      "<class 'int'>\n",
      "total killed in usa 3771\n"
     ]
    }
   ],
   "source": [
    "with open('terrorismData.csv') as file_obj:\n",
    "    file_data = csv.DictReader(file_obj, skipinitialspace=True)\n",
    "    killed = []\n",
    "    country = []\n",
    "    \n",
    "    for row in file_data:\n",
    "        killed.append(row['Killed'])\n",
    "        country.append(row['Country'])\n",
    "        \n",
    "np_killed = np.array(killed)\n",
    "\n",
    "np_killed[np_killed==''] = '0.0'\n",
    "\n",
    "np_killed = np.array(np_killed,float)\n",
    "np_killed = np.array(np_killed,int)\n",
    "print(np_killed)\n",
    "np_country  = np.array(country)\n",
    "bool_arr = np_country == 'United States'\n",
    "ans = np_killed[bool_arr]\n",
    "# print(ans)\n",
    "\n",
    "# print(np.sum(ans))\n",
    "# print(type(ans))\n",
    "output = int(np.sum(ans))\n",
    "print(type(output))\n",
    "print('total killed in usa',output)"
   ]
  },
  {
   "cell_type": "code",
   "execution_count": null,
   "id": "37372bd7",
   "metadata": {},
   "outputs": [],
   "source": []
  },
  {
   "cell_type": "code",
   "execution_count": null,
   "id": "0f1298d8",
   "metadata": {},
   "outputs": [],
   "source": []
  }
 ],
 "metadata": {
  "kernelspec": {
   "display_name": "Python 3 (ipykernel)",
   "language": "python",
   "name": "python3"
  },
  "language_info": {
   "codemirror_mode": {
    "name": "ipython",
    "version": 3
   },
   "file_extension": ".py",
   "mimetype": "text/x-python",
   "name": "python",
   "nbconvert_exporter": "python",
   "pygments_lexer": "ipython3",
   "version": "3.10.12"
  }
 },
 "nbformat": 4,
 "nbformat_minor": 5
}
