{
 "cells": [
  {
   "cell_type": "markdown",
   "id": "5f328248",
   "metadata": {},
   "source": [
    "###  Given a 2D integer array size (4, 5) with name input_?\n",
    "Print elements of highlighted matrix"
   ]
  },
  {
   "cell_type": "code",
   "execution_count": 1,
   "id": "25e57877",
   "metadata": {},
   "outputs": [],
   "source": [
    "import numpy as np"
   ]
  },
  {
   "cell_type": "code",
   "execution_count": 3,
   "id": "9d00be7d",
   "metadata": {},
   "outputs": [
    {
     "data": {
      "text/plain": [
       "array([[ 1,  2,  3,  4,  5],\n",
       "       [ 6,  7,  8,  9, 10],\n",
       "       [11, 12, 13, 14, 15],\n",
       "       [16, 17, 18, 19, 20]])"
      ]
     },
     "execution_count": 3,
     "metadata": {},
     "output_type": "execute_result"
    }
   ],
   "source": [
    "arr_2d = np.array([[1,2,3,4,5],[6,7,8,9,10],[11,12,13,14,15],[16,17,18,19,20]])\n",
    "arr_2d"
   ]
  },
  {
   "cell_type": "code",
   "execution_count": 12,
   "id": "ca24ffc0",
   "metadata": {},
   "outputs": [
    {
     "data": {
      "text/plain": [
       "array([11, 12, 13])"
      ]
     },
     "execution_count": 12,
     "metadata": {},
     "output_type": "execute_result"
    }
   ],
   "source": [
    "arr_ele1 = arr_2d[2][:3]\n",
    "arr_ele1"
   ]
  },
  {
   "cell_type": "code",
   "execution_count": 13,
   "id": "44d1e147",
   "metadata": {},
   "outputs": [
    {
     "data": {
      "text/plain": [
       "array([11, 12, 13])"
      ]
     },
     "execution_count": 13,
     "metadata": {},
     "output_type": "execute_result"
    }
   ],
   "source": [
    "arr_ele1 = arr_2d[2,:3]\n",
    "arr_ele1"
   ]
  },
  {
   "cell_type": "code",
   "execution_count": null,
   "id": "3d842195",
   "metadata": {},
   "outputs": [],
   "source": []
  },
  {
   "cell_type": "code",
   "execution_count": 11,
   "id": "14b010b5",
   "metadata": {},
   "outputs": [
    {
     "data": {
      "text/plain": [
       "array([ 9, 14, 19])"
      ]
     },
     "execution_count": 11,
     "metadata": {},
     "output_type": "execute_result"
    }
   ],
   "source": [
    "arr_ele2 = arr_2d[1:4,3]\n",
    "arr_ele2"
   ]
  },
  {
   "cell_type": "code",
   "execution_count": 14,
   "id": "adf3bf4a",
   "metadata": {},
   "outputs": [
    {
     "data": {
      "text/plain": [
       "array([[11, 12, 13, 14, 15],\n",
       "       [16, 17, 18, 19, 20]])"
      ]
     },
     "execution_count": 14,
     "metadata": {},
     "output_type": "execute_result"
    }
   ],
   "source": [
    "arr_ele3 = arr_2d[2:4,:5]\n",
    "arr_ele3"
   ]
  },
  {
   "cell_type": "code",
   "execution_count": 15,
   "id": "d7e08c80",
   "metadata": {},
   "outputs": [
    {
     "data": {
      "text/plain": [
       "array([[ 7,  8],\n",
       "       [12, 13]])"
      ]
     },
     "execution_count": 15,
     "metadata": {},
     "output_type": "execute_result"
    }
   ],
   "source": [
    "arr_ele4 = arr_2d[1:3,1:3]\n",
    "arr_ele4"
   ]
  },
  {
   "cell_type": "code",
   "execution_count": null,
   "id": "319f359f",
   "metadata": {},
   "outputs": [],
   "source": []
  }
 ],
 "metadata": {
  "kernelspec": {
   "display_name": "Python 3 (ipykernel)",
   "language": "python",
   "name": "python3"
  },
  "language_info": {
   "codemirror_mode": {
    "name": "ipython",
    "version": 3
   },
   "file_extension": ".py",
   "mimetype": "text/x-python",
   "name": "python",
   "nbconvert_exporter": "python",
   "pygments_lexer": "ipython3",
   "version": "3.10.12"
  }
 },
 "nbformat": 4,
 "nbformat_minor": 5
}
