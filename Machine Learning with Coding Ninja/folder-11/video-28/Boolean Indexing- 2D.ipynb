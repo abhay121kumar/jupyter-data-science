{
 "cells": [
  {
   "cell_type": "code",
   "execution_count": 1,
   "id": "2b262f0a",
   "metadata": {},
   "outputs": [],
   "source": [
    "import numpy as np"
   ]
  },
  {
   "cell_type": "code",
   "execution_count": 2,
   "id": "bfb23ef9",
   "metadata": {},
   "outputs": [
    {
     "name": "stdout",
     "output_type": "stream",
     "text": [
      "[[20 20 14  1  6 29]\n",
      " [20 13 13 11  5 20]\n",
      " [ 7 12 25 26 12  8]\n",
      " [ 9 22 13 12 29 23]\n",
      " [10  9  8  4  2 13]]\n"
     ]
    }
   ],
   "source": [
    "a = np.random.randint(1,30,(5,6))\n",
    "print(a)"
   ]
  },
  {
   "cell_type": "code",
   "execution_count": 3,
   "id": "5a580d27",
   "metadata": {},
   "outputs": [
    {
     "name": "stdout",
     "output_type": "stream",
     "text": [
      "[[False False False False False  True]\n",
      " [False False False False False False]\n",
      " [False False  True  True False False]\n",
      " [False  True False False  True  True]\n",
      " [False False False False False False]]\n"
     ]
    }
   ],
   "source": [
    "bool_arr = a>20\n",
    "print(bool_arr)"
   ]
  },
  {
   "cell_type": "code",
   "execution_count": 4,
   "id": "ec1645ce",
   "metadata": {},
   "outputs": [
    {
     "data": {
      "text/plain": [
       "array([29, 25, 26, 22, 29, 23])"
      ]
     },
     "execution_count": 4,
     "metadata": {},
     "output_type": "execute_result"
    }
   ],
   "source": [
    "ans = a[bool_arr]\n",
    "ans"
   ]
  },
  {
   "cell_type": "code",
   "execution_count": 5,
   "id": "f6692a1a",
   "metadata": {},
   "outputs": [
    {
     "name": "stdout",
     "output_type": "stream",
     "text": [
      "[[20 20 14  1  6 29]\n",
      " [20 13 13 11  5 20]\n",
      " [ 7 12 25 26 12  8]\n",
      " [ 9 22 13 12 29 23]\n",
      " [10  9  8  4  2 13]]\n"
     ]
    }
   ],
   "source": [
    "b = a\n",
    "print(b)"
   ]
  },
  {
   "cell_type": "code",
   "execution_count": null,
   "id": "1643b699",
   "metadata": {},
   "outputs": [],
   "source": [
    "# we can modify only if the dimension of a and b both are same"
   ]
  },
  {
   "cell_type": "code",
   "execution_count": 6,
   "id": "54fb2baa",
   "metadata": {},
   "outputs": [
    {
     "name": "stdout",
     "output_type": "stream",
     "text": [
      "[[ 20  20  14   1   6 100]\n",
      " [ 20  13  13  11   5  20]\n",
      " [  7  12 100 100  12   8]\n",
      " [  9 100  13  12 100 100]\n",
      " [ 10   9   8   4   2  13]]\n"
     ]
    }
   ],
   "source": [
    "b[bool_arr] = 100\n",
    "print(b)"
   ]
  },
  {
   "cell_type": "code",
   "execution_count": 7,
   "id": "5a7f8aa0",
   "metadata": {},
   "outputs": [
    {
     "name": "stdout",
     "output_type": "stream",
     "text": [
      "[[3 9]\n",
      " [4 4]]\n"
     ]
    }
   ],
   "source": [
    "c = np.random.randint(1,10,(2,2))\n",
    "print(c)"
   ]
  },
  {
   "cell_type": "code",
   "execution_count": 9,
   "id": "d50aebef",
   "metadata": {},
   "outputs": [
    {
     "name": "stdout",
     "output_type": "stream",
     "text": [
      "[[ True False]\n",
      " [False  True]\n",
      " [ True  True]]\n"
     ]
    }
   ],
   "source": [
    "c_bool = np.array([[True,False],[False,True],[True,True]])\n",
    "print(c_bool)"
   ]
  },
  {
   "cell_type": "code",
   "execution_count": 10,
   "id": "82ad878d",
   "metadata": {},
   "outputs": [
    {
     "ename": "IndexError",
     "evalue": "boolean index did not match indexed array along dimension 0; dimension is 2 but corresponding boolean dimension is 3",
     "output_type": "error",
     "traceback": [
      "\u001b[0;31m---------------------------------------------------------------------------\u001b[0m",
      "\u001b[0;31mIndexError\u001b[0m                                Traceback (most recent call last)",
      "Cell \u001b[0;32mIn[10], line 1\u001b[0m\n\u001b[0;32m----> 1\u001b[0m \u001b[38;5;28mprint\u001b[39m(\u001b[43mc\u001b[49m\u001b[43m[\u001b[49m\u001b[43mc_bool\u001b[49m\u001b[43m]\u001b[49m)\n",
      "\u001b[0;31mIndexError\u001b[0m: boolean index did not match indexed array along dimension 0; dimension is 2 but corresponding boolean dimension is 3"
     ]
    }
   ],
   "source": [
    "print(c[c_bool])"
   ]
  },
  {
   "cell_type": "code",
   "execution_count": 11,
   "id": "4d0a6def",
   "metadata": {},
   "outputs": [
    {
     "name": "stdout",
     "output_type": "stream",
     "text": [
      "[[ 20  20  14   1   6 100]\n",
      " [ 20  13  13  11   5  20]\n",
      " [  7  12 100 100  12   8]\n",
      " [  9 100  13  12 100 100]\n",
      " [ 10   9   8   4   2  13]]\n"
     ]
    }
   ],
   "source": [
    "print(b)"
   ]
  },
  {
   "cell_type": "code",
   "execution_count": 12,
   "id": "1bdd8d75",
   "metadata": {},
   "outputs": [
    {
     "name": "stdout",
     "output_type": "stream",
     "text": [
      "[False False  True False False]\n"
     ]
    }
   ],
   "source": [
    "bool_arr = b[:, 3] == 100\n",
    "print(bool_arr)"
   ]
  },
  {
   "cell_type": "code",
   "execution_count": 13,
   "id": "c92edb6b",
   "metadata": {},
   "outputs": [
    {
     "name": "stdout",
     "output_type": "stream",
     "text": [
      "[[ 20  20  14   1   6 100]\n",
      " [ 20  13  13  11   5  20]\n",
      " [  7  12 100  99  12   8]\n",
      " [  9 100  13  12 100 100]\n",
      " [ 10   9   8   4   2  13]]\n"
     ]
    }
   ],
   "source": [
    "b[bool_arr, 3] = 99\n",
    "print(b)"
   ]
  },
  {
   "cell_type": "code",
   "execution_count": null,
   "id": "627f93cc",
   "metadata": {},
   "outputs": [],
   "source": []
  }
 ],
 "metadata": {
  "kernelspec": {
   "display_name": "Python 3 (ipykernel)",
   "language": "python",
   "name": "python3"
  },
  "language_info": {
   "codemirror_mode": {
    "name": "ipython",
    "version": 3
   },
   "file_extension": ".py",
   "mimetype": "text/x-python",
   "name": "python",
   "nbconvert_exporter": "python",
   "pygments_lexer": "ipython3",
   "version": "3.10.12"
  }
 },
 "nbformat": 4,
 "nbformat_minor": 5
}
