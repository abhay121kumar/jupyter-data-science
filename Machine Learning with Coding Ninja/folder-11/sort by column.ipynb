{
 "cells": [
  {
   "cell_type": "code",
   "execution_count": 32,
   "id": "281b1ceb",
   "metadata": {},
   "outputs": [],
   "source": [
    "import numpy as np"
   ]
  },
  {
   "cell_type": "code",
   "execution_count": 53,
   "id": "940660be",
   "metadata": {},
   "outputs": [
    {
     "data": {
      "text/plain": [
       "array([[21, 20, 19, 18, 17],\n",
       "       [16, 15, 14, 13, 12],\n",
       "       [11, 10,  9,  8,  7],\n",
       "       [ 6,  5,  4,  3,  2]])"
      ]
     },
     "execution_count": 53,
     "metadata": {},
     "output_type": "execute_result"
    }
   ],
   "source": [
    "li = [[21,20,19,18,17],[16,15,14,13,12],[11,10,9,8,7],[6,5,4,3,2]]\n",
    "arr = np.array(li)\n",
    "arr"
   ]
  },
  {
   "cell_type": "code",
   "execution_count": 54,
   "id": "59502fed",
   "metadata": {},
   "outputs": [
    {
     "name": "stdout",
     "output_type": "stream",
     "text": [
      "[[ 6  5  4  3  2]\n",
      " [11 10  9  8  7]\n",
      " [16 15 14 13 12]\n",
      " [21 20 19 18 17]]\n"
     ]
    }
   ],
   "source": [
    "sorted_array = arr[arr[:, 1].argsort()]\n",
    "print(sorted_array)"
   ]
  },
  {
   "cell_type": "code",
   "execution_count": null,
   "id": "a59a662e",
   "metadata": {},
   "outputs": [],
   "source": []
  },
  {
   "cell_type": "code",
   "execution_count": null,
   "id": "48eaa75e",
   "metadata": {},
   "outputs": [],
   "source": []
  },
  {
   "cell_type": "code",
   "execution_count": null,
   "id": "13f04b36",
   "metadata": {},
   "outputs": [],
   "source": []
  },
  {
   "cell_type": "code",
   "execution_count": null,
   "id": "46cb8a77",
   "metadata": {},
   "outputs": [],
   "source": []
  },
  {
   "cell_type": "code",
   "execution_count": null,
   "id": "c4444faa",
   "metadata": {},
   "outputs": [],
   "source": []
  },
  {
   "cell_type": "code",
   "execution_count": null,
   "id": "75445c76",
   "metadata": {},
   "outputs": [],
   "source": []
  },
  {
   "cell_type": "code",
   "execution_count": null,
   "id": "f1da203e",
   "metadata": {},
   "outputs": [],
   "source": []
  },
  {
   "cell_type": "code",
   "execution_count": null,
   "id": "41cb8166",
   "metadata": {},
   "outputs": [],
   "source": []
  },
  {
   "cell_type": "code",
   "execution_count": 42,
   "id": "8f8a9af6",
   "metadata": {},
   "outputs": [
    {
     "data": {
      "text/plain": [
       "array([ 6, 11, 16, 21])"
      ]
     },
     "execution_count": 42,
     "metadata": {},
     "output_type": "execute_result"
    }
   ],
   "source": [
    "arr_ele = arr[:4,0]\n",
    "arr_ele = arr_ele[-1:-5:-1]\n",
    "arr_ele"
   ]
  },
  {
   "cell_type": "code",
   "execution_count": 84,
   "id": "f6665c42",
   "metadata": {},
   "outputs": [
    {
     "data": {
      "text/plain": [
       "array([[16, 15, 14, 13, 12],\n",
       "       [11, 10,  9,  8,  7]])"
      ]
     },
     "execution_count": 84,
     "metadata": {},
     "output_type": "execute_result"
    }
   ],
   "source": [
    "# print(arr)\n",
    "i=-1\n",
    "j=-5\n",
    "k=-1\n",
    "while(i != j):\n",
    "    arr = arr[i:j:k]\n",
    "    i-=1\n",
    "    j+=1\n",
    "arr"
   ]
  },
  {
   "cell_type": "code",
   "execution_count": 75,
   "id": "b7ee3aaf",
   "metadata": {},
   "outputs": [
    {
     "data": {
      "text/plain": [
       "array([[ 6,  5,  4,  3,  2],\n",
       "       [11, 10,  9,  8,  7],\n",
       "       [16, 15, 14, 13, 12],\n",
       "       [21, 20, 19, 18, 17]])"
      ]
     },
     "execution_count": 75,
     "metadata": {},
     "output_type": "execute_result"
    }
   ],
   "source": [
    "i=-1\n",
    "j=-5\n",
    "k=-1\n",
    "arr = arr[i:j:k]\n",
    "arr"
   ]
  },
  {
   "cell_type": "code",
   "execution_count": 88,
   "id": "ec5a87be",
   "metadata": {},
   "outputs": [
    {
     "data": {
      "text/plain": [
       "array([21, 20, 19, 18, 17])"
      ]
     },
     "execution_count": 88,
     "metadata": {},
     "output_type": "execute_result"
    }
   ],
   "source": [
    "arr[-4]"
   ]
  },
  {
   "cell_type": "code",
   "execution_count": 4,
   "id": "f864f4a7",
   "metadata": {},
   "outputs": [
    {
     "data": {
      "text/plain": [
       "array([ 2, 23,  1,  4, 66,  1])"
      ]
     },
     "execution_count": 4,
     "metadata": {},
     "output_type": "execute_result"
    }
   ],
   "source": [
    "arr = np.array(li)\n",
    "arr"
   ]
  },
  {
   "cell_type": "code",
   "execution_count": 5,
   "id": "1d244353",
   "metadata": {},
   "outputs": [
    {
     "ename": "AttributeError",
     "evalue": "'numpy.ndarray' object has no attribute 'dec'",
     "output_type": "error",
     "traceback": [
      "\u001b[0;31m---------------------------------------------------------------------------\u001b[0m",
      "\u001b[0;31mAttributeError\u001b[0m                            Traceback (most recent call last)",
      "Cell \u001b[0;32mIn[5], line 1\u001b[0m\n\u001b[0;32m----> 1\u001b[0m arr \u001b[38;5;241m=\u001b[39m \u001b[43marr\u001b[49m\u001b[38;5;241;43m.\u001b[39;49m\u001b[43mdec\u001b[49m()\n\u001b[1;32m      2\u001b[0m arr\n",
      "\u001b[0;31mAttributeError\u001b[0m: 'numpy.ndarray' object has no attribute 'dec'"
     ]
    }
   ],
   "source": [
    "arr = arr.dec()\n",
    "arr"
   ]
  },
  {
   "cell_type": "code",
   "execution_count": 7,
   "id": "b7d9065e",
   "metadata": {},
   "outputs": [
    {
     "ename": "AttributeError",
     "evalue": "'numpy.ndarray' object has no attribute 'array'",
     "output_type": "error",
     "traceback": [
      "\u001b[0;31m---------------------------------------------------------------------------\u001b[0m",
      "\u001b[0;31mAttributeError\u001b[0m                            Traceback (most recent call last)",
      "Cell \u001b[0;32mIn[7], line 1\u001b[0m\n\u001b[0;32m----> 1\u001b[0m \u001b[43marr\u001b[49m\u001b[38;5;241;43m.\u001b[39;49m\u001b[43marray\u001b[49m\u001b[38;5;241m.\u001b[39msort()\n\u001b[1;32m      2\u001b[0m arr\n",
      "\u001b[0;31mAttributeError\u001b[0m: 'numpy.ndarray' object has no attribute 'array'"
     ]
    }
   ],
   "source": [
    "arr.array.sort()\n",
    "arr"
   ]
  },
  {
   "cell_type": "code",
   "execution_count": 26,
   "id": "aa70f91a",
   "metadata": {},
   "outputs": [
    {
     "data": {
      "text/plain": [
       "[2, 23, 1, 4, 66, 1]"
      ]
     },
     "execution_count": 26,
     "metadata": {},
     "output_type": "execute_result"
    }
   ],
   "source": [
    "li = [2,23,1,4,66,1]\n",
    "li"
   ]
  },
  {
   "cell_type": "code",
   "execution_count": 28,
   "id": "0d81c029",
   "metadata": {},
   "outputs": [
    {
     "data": {
      "text/plain": [
       "[23, 1, 4, 66]"
      ]
     },
     "execution_count": 28,
     "metadata": {},
     "output_type": "execute_result"
    }
   ],
   "source": [
    "li[1:5:1]"
   ]
  },
  {
   "cell_type": "code",
   "execution_count": 38,
   "id": "91665336",
   "metadata": {},
   "outputs": [
    {
     "data": {
      "text/plain": [
       "[1, 66, 4, 1, 23, 2]"
      ]
     },
     "execution_count": 38,
     "metadata": {},
     "output_type": "execute_result"
    }
   ],
   "source": [
    "li[-1:-7:-1]"
   ]
  },
  {
   "cell_type": "code",
   "execution_count": 32,
   "id": "c7d83e91",
   "metadata": {},
   "outputs": [
    {
     "data": {
      "text/plain": [
       "1"
      ]
     },
     "execution_count": 32,
     "metadata": {},
     "output_type": "execute_result"
    }
   ],
   "source": [
    "li[-1]"
   ]
  },
  {
   "cell_type": "code",
   "execution_count": 34,
   "id": "82f198a1",
   "metadata": {},
   "outputs": [
    {
     "data": {
      "text/plain": [
       "2"
      ]
     },
     "execution_count": 34,
     "metadata": {},
     "output_type": "execute_result"
    }
   ],
   "source": [
    "li[-6]"
   ]
  },
  {
   "cell_type": "code",
   "execution_count": 46,
   "id": "b10b5412",
   "metadata": {},
   "outputs": [
    {
     "data": {
      "text/plain": [
       "array([[ 1, 12,  3],\n",
       "       [14,  5,  6],\n",
       "       [ 7,  8, 19]])"
      ]
     },
     "execution_count": 46,
     "metadata": {},
     "output_type": "execute_result"
    }
   ],
   "source": [
    "arr = np.array([[1,12,3],[14,5,6],[7,8,19]])\n",
    "arr"
   ]
  },
  {
   "cell_type": "code",
   "execution_count": 47,
   "id": "7fce8d12",
   "metadata": {},
   "outputs": [
    {
     "data": {
      "text/plain": [
       "array([[ 1, 12,  3],\n",
       "       [ 7,  8, 19],\n",
       "       [14,  5,  6]])"
      ]
     },
     "execution_count": 47,
     "metadata": {},
     "output_type": "execute_result"
    }
   ],
   "source": [
    "#sort the first column array in inc oreder\n",
    "index = np.argsort(arr[:, 0])\n",
    "arr[index]"
   ]
  },
  {
   "cell_type": "code",
   "execution_count": 25,
   "id": "3473e811",
   "metadata": {},
   "outputs": [
    {
     "data": {
      "text/plain": [
       "array([[14,  5,  6],\n",
       "       [ 7,  8, 19],\n",
       "       [ 1, 12,  3]])"
      ]
     },
     "execution_count": 25,
     "metadata": {},
     "output_type": "execute_result"
    }
   ],
   "source": [
    "#sort the second column array in inc oreder\n",
    "index = np.argsort(arr[:, 1])\n",
    "arr[index]"
   ]
  },
  {
   "cell_type": "code",
   "execution_count": 24,
   "id": "0c70a884",
   "metadata": {},
   "outputs": [
    {
     "data": {
      "text/plain": [
       "array([[ 1, 12,  3],\n",
       "       [14,  5,  6],\n",
       "       [ 7,  8, 19]])"
      ]
     },
     "execution_count": 24,
     "metadata": {},
     "output_type": "execute_result"
    }
   ],
   "source": [
    "#sort the third column array in inc oreder\n",
    "index = np.argsort(arr[:, 2])\n",
    "arr[index]"
   ]
  },
  {
   "cell_type": "code",
   "execution_count": 48,
   "id": "19499dbf",
   "metadata": {},
   "outputs": [
    {
     "name": "stdout",
     "output_type": "stream",
     "text": [
      "[[14  5  6]\n",
      " [ 7  8 19]\n",
      " [ 1 12  3]]\n"
     ]
    }
   ],
   "source": [
    "print(arr[index[::-1]])"
   ]
  },
  {
   "cell_type": "code",
   "execution_count": null,
   "id": "d13c636d",
   "metadata": {},
   "outputs": [],
   "source": []
  },
  {
   "cell_type": "code",
   "execution_count": 43,
   "id": "7303d15a",
   "metadata": {},
   "outputs": [
    {
     "data": {
      "text/plain": [
       "array([[[11, 10,  9,  8,  7],\n",
       "        [16, 15, 14, 13, 12],\n",
       "        [21, 20, 19, 18, 17]],\n",
       "\n",
       "       [[11, 10,  9,  8,  7],\n",
       "        [16, 15, 14, 13, 12],\n",
       "        [21, 20, 19, 18, 17]],\n",
       "\n",
       "       [[11, 10,  9,  8,  7],\n",
       "        [16, 15, 14, 13, 12],\n",
       "        [21, 20, 19, 18, 17]],\n",
       "\n",
       "       [[11, 10,  9,  8,  7],\n",
       "        [16, 15, 14, 13, 12],\n",
       "        [21, 20, 19, 18, 17]]])"
      ]
     },
     "execution_count": 43,
     "metadata": {},
     "output_type": "execute_result"
    }
   ],
   "source": [
    "index = np.argsort(arr[:, :3], axis=1)\n",
    "d = arr[index]\n",
    "d"
   ]
  },
  {
   "cell_type": "code",
   "execution_count": 36,
   "id": "5807bfb6",
   "metadata": {},
   "outputs": [
    {
     "data": {
      "text/plain": [
       "array([[21, 20, 19, 18, 17],\n",
       "       [16, 15, 14, 13, 12],\n",
       "       [11, 10,  9,  8,  7],\n",
       "       [ 6,  5,  4,  3,  2]])"
      ]
     },
     "execution_count": 36,
     "metadata": {},
     "output_type": "execute_result"
    }
   ],
   "source": [
    "b = np.copy(arr)\n",
    "b"
   ]
  },
  {
   "cell_type": "code",
   "execution_count": 50,
   "id": "852c56c8",
   "metadata": {},
   "outputs": [
    {
     "ename": "IndexError",
     "evalue": "index 20 is out of bounds for axis 0 with size 4",
     "output_type": "error",
     "traceback": [
      "\u001b[0;31m---------------------------------------------------------------------------\u001b[0m",
      "\u001b[0;31mIndexError\u001b[0m                                Traceback (most recent call last)",
      "Cell \u001b[0;32mIn[50], line 1\u001b[0m\n\u001b[0;32m----> 1\u001b[0m b \u001b[38;5;241m=\u001b[39m \u001b[43mb\u001b[49m\u001b[43m[\u001b[49m\u001b[43mb\u001b[49m\u001b[43m[\u001b[49m\u001b[43m:\u001b[49m\u001b[43m,\u001b[49m\u001b[43m \u001b[49m\u001b[38;5;241;43m1\u001b[39;49m\u001b[43m]\u001b[49m\u001b[43m]\u001b[49m\u001b[38;5;241m.\u001b[39margsort(kind\u001b[38;5;241m=\u001b[39m\u001b[38;5;124m'\u001b[39m\u001b[38;5;124md\u001b[39m\u001b[38;5;124m'\u001b[39m)\n\u001b[1;32m      2\u001b[0m b\n",
      "\u001b[0;31mIndexError\u001b[0m: index 20 is out of bounds for axis 0 with size 4"
     ]
    }
   ],
   "source": [
    "b = b[b[:, 1]].argsort(kind='d')\n",
    "b"
   ]
  },
  {
   "cell_type": "code",
   "execution_count": 44,
   "id": "942b8f5d",
   "metadata": {},
   "outputs": [
    {
     "data": {
      "text/plain": [
       "array([[[11, 10,  9,  8,  7],\n",
       "        [16, 15, 14, 13, 12],\n",
       "        [21, 20, 19, 18, 17]],\n",
       "\n",
       "       [[11, 10,  9,  8,  7],\n",
       "        [16, 15, 14, 13, 12],\n",
       "        [21, 20, 19, 18, 17]],\n",
       "\n",
       "       [[11, 10,  9,  8,  7],\n",
       "        [16, 15, 14, 13, 12],\n",
       "        [21, 20, 19, 18, 17]],\n",
       "\n",
       "       [[11, 10,  9,  8,  7],\n",
       "        [16, 15, 14, 13, 12],\n",
       "        [21, 20, 19, 18, 17]]])"
      ]
     },
     "execution_count": 44,
     "metadata": {},
     "output_type": "execute_result"
    }
   ],
   "source": [
    "c = np.copy(d)\n",
    "c"
   ]
  },
  {
   "cell_type": "code",
   "execution_count": 52,
   "id": "573075e5",
   "metadata": {},
   "outputs": [
    {
     "name": "stdout",
     "output_type": "stream",
     "text": [
      "[[ 6  5  4  3  2]\n",
      " [11 10  9  8  7]\n",
      " [16 15 14 13 12]\n",
      " [21 20 19 18 17]]\n"
     ]
    }
   ],
   "source": []
  },
  {
   "cell_type": "code",
   "execution_count": null,
   "id": "b8813d19",
   "metadata": {},
   "outputs": [],
   "source": []
  }
 ],
 "metadata": {
  "kernelspec": {
   "display_name": "Python 3 (ipykernel)",
   "language": "python",
   "name": "python3"
  },
  "language_info": {
   "codemirror_mode": {
    "name": "ipython",
    "version": 3
   },
   "file_extension": ".py",
   "mimetype": "text/x-python",
   "name": "python",
   "nbconvert_exporter": "python",
   "pygments_lexer": "ipython3",
   "version": "3.10.12"
  }
 },
 "nbformat": 4,
 "nbformat_minor": 5
}
