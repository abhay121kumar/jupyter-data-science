{
 "cells": [
  {
   "cell_type": "code",
   "execution_count": 2,
   "id": "4ad56947",
   "metadata": {},
   "outputs": [
    {
     "name": "stdout",
     "output_type": "stream",
     "text": [
      "[0, 1, 2, 3, 4, 5, 6, 7, 8, 9, 10, 11, 12, 13, 14, 15, 16, 17, 18, 19, 20, 21, 22, 23, 24, 25, 26, 27, 28, 29, 30, 31, 32, 33, 34, 35, 36, 37, 38, 39, 40, 41, 42, 43, 44, 45, 46, 47, 48, 49, 50, 51, 52, 53, 54, 55, 56, 57, 58, 59, 60, 61, 62, 63, 64, 65, 66, 67, 68, 69, 70, 71, 72, 73, 74, 75, 76, 77, 78, 79, 80, 81, 82, 83, 84, 85, 86, 87, 88, 89, 90, 91, 92, 93, 94, 95, 96, 97, 98, 99]\n",
      "[ 0  1  2  3  4  5  6  7  8  9 10 11 12 13 14 15 16 17 18 19 20 21 22 23\n",
      " 24 25 26 27 28 29 30 31 32 33 34 35 36 37 38 39 40 41 42 43 44 45 46 47\n",
      " 48 49 50 51 52 53 54 55 56 57 58 59 60 61 62 63 64 65 66 67 68 69 70 71\n",
      " 72 73 74 75 76 77 78 79 80 81 82 83 84 85 86 87 88 89 90 91 92 93 94 95\n",
      " 96 97 98 99]\n"
     ]
    }
   ],
   "source": [
    "import numpy as np\n",
    "\n",
    "li_arr = [i for i in range(0,100)]\n",
    "\n",
    "np_arr = np.arange(100)\n",
    "\n",
    "print(li_arr)\n",
    "print(np_arr)"
   ]
  },
  {
   "cell_type": "code",
   "execution_count": null,
   "id": "07180cc2",
   "metadata": {},
   "outputs": [],
   "source": []
  },
  {
   "cell_type": "code",
   "execution_count": null,
   "id": "4b79a8a0",
   "metadata": {},
   "outputs": [],
   "source": []
  },
  {
   "cell_type": "code",
   "execution_count": 6,
   "id": "45b66390",
   "metadata": {},
   "outputs": [
    {
     "name": "stdout",
     "output_type": "stream",
     "text": [
      "8\n",
      "800\n"
     ]
    }
   ],
   "source": [
    "## size of one element in numpy array\n",
    "print(np_arr.itemsize)\n",
    "\n",
    "## size of 100 elements in numpy array\n",
    "print(np_arr.itemsize * np_arr.size)"
   ]
  },
  {
   "cell_type": "code",
   "execution_count": null,
   "id": "971a018a",
   "metadata": {},
   "outputs": [],
   "source": []
  },
  {
   "cell_type": "code",
   "execution_count": 4,
   "id": "61907803",
   "metadata": {},
   "outputs": [
    {
     "name": "stdout",
     "output_type": "stream",
     "text": [
      "28\n",
      "2800\n"
     ]
    }
   ],
   "source": [
    "import sys\n",
    "\n",
    "## size of one element in list\n",
    "a=10\n",
    "print(sys.getsizeof(a))\n",
    "\n",
    "## size of 100 elements in list\n",
    "print(sys.getsizeof(1) * len(li_arr))"
   ]
  },
  {
   "cell_type": "code",
   "execution_count": null,
   "id": "4b7d9787",
   "metadata": {},
   "outputs": [],
   "source": []
  },
  {
   "cell_type": "code",
   "execution_count": null,
   "id": "61ed4fde",
   "metadata": {},
   "outputs": [],
   "source": []
  },
  {
   "cell_type": "code",
   "execution_count": 5,
   "id": "ff9fa784",
   "metadata": {},
   "outputs": [
    {
     "name": "stdout",
     "output_type": "stream",
     "text": [
      "List = 70.49393653869629\n",
      "Numpy = 1.0166168212890625\n"
     ]
    }
   ],
   "source": [
    "import time \n",
    "import numpy as np\n",
    "\n",
    "size = 100000\n",
    "\n",
    "## add elements of array a and b\n",
    "\n",
    "def addition_using_list():\n",
    "    t1 = time.time()\n",
    "    a = range(size)\n",
    "    b = range(size)\n",
    "    c = [a[i] + b[i] for i in range(size)]\n",
    "    t2 = time.time()\n",
    "    return (t2-t1)\n",
    "\n",
    "def addition_using_numpy():\n",
    "    t1 = time.time()\n",
    "    a = np.arange(size)\n",
    "    b = np.arange(size)\n",
    "    t2 = time.time()\n",
    "    return (t2-t1)\n",
    "\n",
    "t_list = addition_using_list()\n",
    "t_numpy = addition_using_numpy()\n",
    "\n",
    "print('List =', t_list * 1000) ## Millisecond\n",
    "print('Numpy =', t_numpy * 1000) ## Millisecond"
   ]
  },
  {
   "cell_type": "code",
   "execution_count": null,
   "id": "b3c7c11f",
   "metadata": {},
   "outputs": [],
   "source": []
  }
 ],
 "metadata": {
  "kernelspec": {
   "display_name": "Python 3 (ipykernel)",
   "language": "python",
   "name": "python3"
  },
  "language_info": {
   "codemirror_mode": {
    "name": "ipython",
    "version": 3
   },
   "file_extension": ".py",
   "mimetype": "text/x-python",
   "name": "python",
   "nbconvert_exporter": "python",
   "pygments_lexer": "ipython3",
   "version": "3.10.12"
  }
 },
 "nbformat": 4,
 "nbformat_minor": 5
}
