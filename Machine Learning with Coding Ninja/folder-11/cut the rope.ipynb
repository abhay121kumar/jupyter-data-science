{
 "cells": [
  {
   "cell_type": "code",
   "execution_count": 1,
   "id": "015d9536",
   "metadata": {},
   "outputs": [],
   "source": [
    "import numpy as np"
   ]
  },
  {
   "cell_type": "code",
   "execution_count": 4,
   "id": "8f6d1728",
   "metadata": {},
   "outputs": [
    {
     "data": {
      "text/plain": [
       "0.56"
      ]
     },
     "execution_count": 4,
     "metadata": {},
     "output_type": "execute_result"
    }
   ],
   "source": [
    "a = 6.7789001\n",
    "b = 0.5555555555555556\n",
    "b = np.round(b, 2)\n",
    "b"
   ]
  },
  {
   "cell_type": "code",
   "execution_count": null,
   "id": "a0aa3ffc",
   "metadata": {},
   "outputs": [],
   "source": []
  },
  {
   "cell_type": "code",
   "execution_count": 5,
   "id": "908e3255",
   "metadata": {},
   "outputs": [
    {
     "data": {
      "text/plain": [
       "array([0.56, 1.12, 1.68, 2.24, 2.8 , 3.36, 3.92, 4.48])"
      ]
     },
     "execution_count": 5,
     "metadata": {},
     "output_type": "execute_result"
    }
   ],
   "source": [
    "length = 5\n",
    "cut_the_rope = 9\n",
    "round_len = length/cut_the_rope\n",
    "equal_length = np.round(round_len,2)\n",
    "arr_ele = np.arange(equal_length,length,equal_length)\n",
    "arr_ele"
   ]
  },
  {
   "cell_type": "code",
   "execution_count": 6,
   "id": "c524b66c",
   "metadata": {},
   "outputs": [
    {
     "name": "stdout",
     "output_type": "stream",
     "text": [
      "[0.56 1.12 1.68 2.24 2.8  3.36 3.92 4.48]\n"
     ]
    }
   ],
   "source": [
    "import numpy as np\n",
    "\n",
    "# Given length of the rope\n",
    "rope_length = 5\n",
    "\n",
    "# Number of equal parts\n",
    "num_parts = 9\n",
    "\n",
    "# Calculate the distance between cuts\n",
    "cut_distance = round(rope_length / num_parts, 2)\n",
    "\n",
    "# Generate array elements where cuts are to be made\n",
    "cut_points = np.arange(cut_distance, rope_length, cut_distance)\n",
    "\n",
    "# Print the array elements rounded to 2 decimal places\n",
    "print(np.round(cut_points, 2))\n"
   ]
  },
  {
   "cell_type": "code",
   "execution_count": null,
   "id": "ff97f5cb",
   "metadata": {},
   "outputs": [],
   "source": []
  }
 ],
 "metadata": {
  "kernelspec": {
   "display_name": "Python 3 (ipykernel)",
   "language": "python",
   "name": "python3"
  },
  "language_info": {
   "codemirror_mode": {
    "name": "ipython",
    "version": 3
   },
   "file_extension": ".py",
   "mimetype": "text/x-python",
   "name": "python",
   "nbconvert_exporter": "python",
   "pygments_lexer": "ipython3",
   "version": "3.10.12"
  }
 },
 "nbformat": 4,
 "nbformat_minor": 5
}
