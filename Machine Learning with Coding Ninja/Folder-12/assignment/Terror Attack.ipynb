{
 "cells": [
  {
   "cell_type": "code",
   "execution_count": 13,
   "id": "6b91f876",
   "metadata": {},
   "outputs": [
    {
     "data": {
      "text/plain": [
       "Country\n",
       "Iraq                   24636\n",
       "Pakistan               14368\n",
       "Afghanistan            12731\n",
       "India                  11960\n",
       "Colombia                8306\n",
       "                       ...  \n",
       "International              1\n",
       "Wallis and Futuna          1\n",
       "South Vietnam              1\n",
       "Andorra                    1\n",
       "Antigua and Barbuda        1\n",
       "Name: count, Length: 205, dtype: int64"
      ]
     },
     "execution_count": 13,
     "metadata": {},
     "output_type": "execute_result"
    }
   ],
   "source": [
    "import pandas as pd\n",
    "data = pd.read_csv('terrorismData.csv')\n",
    "country_list = data['Country'].value_counts()\n",
    "country = country_list.index[0]\n",
    "attack = country_list.values[0]\n",
    "country_list"
   ]
  },
  {
   "cell_type": "code",
   "execution_count": 30,
   "id": "ad7eb95b",
   "metadata": {},
   "outputs": [],
   "source": [
    "year_list = data['Year'].value_counts()\n",
    "year = year_list.index[0]\n",
    "year_killed = year_list\n",
    "# year_list"
   ]
  },
  {
   "cell_type": "code",
   "execution_count": 31,
   "id": "de421322",
   "metadata": {},
   "outputs": [
    {
     "name": "stdout",
     "output_type": "stream",
     "text": [
      "Iraq 24636 2014\n"
     ]
    }
   ],
   "source": [
    "print(country, attack, year)"
   ]
  },
  {
   "cell_type": "code",
   "execution_count": null,
   "id": "bb3534a2",
   "metadata": {},
   "outputs": [],
   "source": []
  },
  {
   "cell_type": "code",
   "execution_count": 38,
   "id": "c711f0a5",
   "metadata": {},
   "outputs": [
    {
     "name": "stdout",
     "output_type": "stream",
     "text": [
      "Iraq 24636 2014\n"
     ]
    }
   ],
   "source": [
    "import pandas as pd\n",
    "data = pd.read_csv('terrorismData.csv')\n",
    "\n",
    "country_list = data['Country'].value_counts()\n",
    "country = country_list.index[0]\n",
    "\n",
    "attack = country_list.values[0]\n",
    "\n",
    "year_list = data['Year'].value_counts()\n",
    "year = year_list.index[0]\n",
    "\n",
    "print(country, attack, year)"
   ]
  },
  {
   "cell_type": "code",
   "execution_count": null,
   "id": "8adb3905",
   "metadata": {},
   "outputs": [],
   "source": []
  },
  {
   "cell_type": "code",
   "execution_count": null,
   "id": "65123754",
   "metadata": {},
   "outputs": [],
   "source": []
  },
  {
   "cell_type": "code",
   "execution_count": null,
   "id": "359c6e7a",
   "metadata": {},
   "outputs": [],
   "source": []
  }
 ],
 "metadata": {
  "kernelspec": {
   "display_name": "Python 3 (ipykernel)",
   "language": "python",
   "name": "python3"
  },
  "language_info": {
   "codemirror_mode": {
    "name": "ipython",
    "version": 3
   },
   "file_extension": ".py",
   "mimetype": "text/x-python",
   "name": "python",
   "nbconvert_exporter": "python",
   "pygments_lexer": "ipython3",
   "version": "3.10.12"
  }
 },
 "nbformat": 4,
 "nbformat_minor": 5
}
