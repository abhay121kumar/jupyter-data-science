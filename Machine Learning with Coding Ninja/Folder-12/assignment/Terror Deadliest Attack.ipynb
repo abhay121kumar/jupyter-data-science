{
 "cells": [
  {
   "cell_type": "code",
   "execution_count": 26,
   "id": "4c2cff20",
   "metadata": {},
   "outputs": [
    {
     "name": "stdout",
     "output_type": "stream",
     "text": [
      "Islamic State of Iraq and the Levant (ISIL)\n",
      "Iraq\n",
      "[]\n"
     ]
    }
   ],
   "source": [
    "import pandas as pd\n",
    "data = pd.read_csv('terrorismData.csv')\n",
    "\n",
    "df_group = data['Group'].value_counts().index[2]\n",
    "# df_group = data['Group'].value_counts()\n",
    "print(df_group)\n",
    "df_country = data['Country'].value_counts().index[0]\n",
    "# df_country = data['Country'].value_counts()\n",
    "print(df_country)\n",
    "df_killed = []\n",
    "# for i in data:\n",
    "#     if data[]\n",
    "print(df_killed)"
   ]
  },
  {
   "cell_type": "code",
   "execution_count": 30,
   "id": "dbac7354",
   "metadata": {},
   "outputs": [
    {
     "name": "stdout",
     "output_type": "stream",
     "text": [
      "1570 Iraq Islamic State of Iraq and the Levant (ISIL)\n"
     ]
    }
   ],
   "source": [
    "import pandas as pd\n",
    "df = pd.read_csv('terrorismData.csv')\n",
    "\n",
    "df = df[df.Killed==df.Killed.max()]\n",
    "# print(df.Killed)\n",
    "mx_killed = df.Killed.iloc[0]\n",
    "country = df.Country.iloc[0]\n",
    "\n",
    "group = df.Group.iloc[0]\n",
    "print(int(mx_killed), country, group)"
   ]
  },
  {
   "cell_type": "code",
   "execution_count": null,
   "id": "add43d1a",
   "metadata": {},
   "outputs": [],
   "source": []
  },
  {
   "cell_type": "code",
   "execution_count": null,
   "id": "525a27a2",
   "metadata": {},
   "outputs": [],
   "source": []
  }
 ],
 "metadata": {
  "kernelspec": {
   "display_name": "Python 3 (ipykernel)",
   "language": "python",
   "name": "python3"
  },
  "language_info": {
   "codemirror_mode": {
    "name": "ipython",
    "version": 3
   },
   "file_extension": ".py",
   "mimetype": "text/x-python",
   "name": "python",
   "nbconvert_exporter": "python",
   "pygments_lexer": "ipython3",
   "version": "3.10.12"
  }
 },
 "nbformat": 4,
 "nbformat_minor": 5
}
