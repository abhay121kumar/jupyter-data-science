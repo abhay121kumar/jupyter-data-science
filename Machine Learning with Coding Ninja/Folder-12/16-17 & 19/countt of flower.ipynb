{
 "cells": [
  {
   "cell_type": "code",
   "execution_count": 16,
   "id": "951cfcb8",
   "metadata": {},
   "outputs": [],
   "source": [
    "import pandas as pd"
   ]
  },
  {
   "cell_type": "code",
   "execution_count": 23,
   "id": "0f496091",
   "metadata": {},
   "outputs": [
    {
     "name": "stdout",
     "output_type": "stream",
     "text": [
      "50 50 50 1 "
     ]
    }
   ],
   "source": [
    "import pandas as pd\n",
    "column_name = ['SeapalLength','SeapalWidth','PetalLength','PetalWidth','Species']\n",
    "iris = pd.read_csv('iris.csv', names=column_name)\n",
    "for i in iris['Species'].value_counts():\n",
    "    print(i,end = \" \")"
   ]
  },
  {
   "cell_type": "code",
   "execution_count": 3,
   "id": "c9889f9c",
   "metadata": {},
   "outputs": [],
   "source": [
    "import numpy as np"
   ]
  },
  {
   "cell_type": "code",
   "execution_count": 17,
   "id": "67b13196",
   "metadata": {},
   "outputs": [
    {
     "data": {
      "text/plain": [
       "A\n",
       "1    2\n",
       "2    1\n",
       "3    1\n",
       "Name: count, dtype: int64"
      ]
     },
     "execution_count": 17,
     "metadata": {},
     "output_type": "execute_result"
    }
   ],
   "source": [
    "df = pd.DataFrame({'A': [1,2,1,3]})\n",
    "df.value_counts()"
   ]
  },
  {
   "cell_type": "code",
   "execution_count": 20,
   "id": "e3133f73",
   "metadata": {},
   "outputs": [
    {
     "name": "stdout",
     "output_type": "stream",
     "text": [
      "50 50 50 "
     ]
    }
   ],
   "source": [
    "import pandas as pd\n",
    "iris = pd.read_csv('iris.csv')\n",
    "for i in iris['variety'].value_counts():\n",
    "    print(i,end = \" \")"
   ]
  },
  {
   "cell_type": "code",
   "execution_count": 24,
   "id": "fc3312cb",
   "metadata": {},
   "outputs": [
    {
     "name": "stdout",
     "output_type": "stream",
     "text": [
      "50 50 50 "
     ]
    }
   ],
   "source": [
    "import pandas as pd\n",
    "data = pd.read_csv('iris.csv')\n",
    "flower_count = data['variety'].value_counts()\n",
    "for i in flower_count:\n",
    "    print(i,end = \" \")"
   ]
  },
  {
   "cell_type": "code",
   "execution_count": null,
   "id": "0904b396",
   "metadata": {},
   "outputs": [],
   "source": []
  },
  {
   "cell_type": "code",
   "execution_count": null,
   "id": "86df77c0",
   "metadata": {},
   "outputs": [],
   "source": []
  },
  {
   "cell_type": "code",
   "execution_count": null,
   "id": "71d1ea2d",
   "metadata": {},
   "outputs": [],
   "source": []
  },
  {
   "cell_type": "code",
   "execution_count": null,
   "id": "4b2e98e4",
   "metadata": {},
   "outputs": [],
   "source": []
  },
  {
   "cell_type": "code",
   "execution_count": 8,
   "id": "d82b2d55",
   "metadata": {},
   "outputs": [],
   "source": [
    "df = iris.copy()"
   ]
  },
  {
   "cell_type": "code",
   "execution_count": 5,
   "id": "e9aaa1e0",
   "metadata": {},
   "outputs": [],
   "source": [
    "import csv"
   ]
  },
  {
   "cell_type": "code",
   "execution_count": 15,
   "id": "324bcebf",
   "metadata": {},
   "outputs": [
    {
     "name": "stdout",
     "output_type": "stream",
     "text": [
      "{'Versicolor', 'Setosa', 'Virginica'}\n"
     ]
    }
   ],
   "source": [
    "with open(\"iris.csv\") as file_obj:\n",
    "    file_data = csv.DictReader(file_obj, skipinitialspace=True)\n",
    "    file_list = list(file_data)\n",
    "    flower = []\n",
    "    for row in file_list:\n",
    "        flower.append(row['variety'])\n",
    "        \n",
    "    s = set()\n",
    "    for i in flower:\n",
    "        s.add(i)\n",
    "    print(s)\n"
   ]
  },
  {
   "cell_type": "code",
   "execution_count": null,
   "id": "0be9a3a0",
   "metadata": {},
   "outputs": [],
   "source": []
  },
  {
   "cell_type": "code",
   "execution_count": 12,
   "id": "590373a3",
   "metadata": {},
   "outputs": [],
   "source": [
    "import numpy as np"
   ]
  },
  {
   "cell_type": "code",
   "execution_count": 15,
   "id": "909b3835",
   "metadata": {},
   "outputs": [
    {
     "data": {
      "text/plain": [
       "array([[5.1, 3.5, 1.4, 0.2, 'Setosa'],\n",
       "       [4.9, 3.0, 1.4, 0.2, 'Setosa'],\n",
       "       [4.7, 3.2, 1.3, 0.2, 'Setosa'],\n",
       "       [4.6, 3.1, 1.5, 0.2, 'Setosa'],\n",
       "       [5.0, 3.6, 1.4, 0.2, 'Setosa'],\n",
       "       [5.4, 3.9, 1.7, 0.4, 'Setosa'],\n",
       "       [4.6, 3.4, 1.4, 0.3, 'Setosa'],\n",
       "       [5.0, 3.4, 1.5, 0.2, 'Setosa'],\n",
       "       [4.4, 2.9, 1.4, 0.2, 'Setosa'],\n",
       "       [4.9, 3.1, 1.5, 0.1, 'Setosa'],\n",
       "       [5.4, 3.7, 1.5, 0.2, 'Setosa'],\n",
       "       [4.8, 3.4, 1.6, 0.2, 'Setosa'],\n",
       "       [4.8, 3.0, 1.4, 0.1, 'Setosa'],\n",
       "       [4.3, 3.0, 1.1, 0.1, 'Setosa'],\n",
       "       [5.8, 4.0, 1.2, 0.2, 'Setosa'],\n",
       "       [5.7, 4.4, 1.5, 0.4, 'Setosa'],\n",
       "       [5.4, 3.9, 1.3, 0.4, 'Setosa'],\n",
       "       [5.1, 3.5, 1.4, 0.3, 'Setosa'],\n",
       "       [5.7, 3.8, 1.7, 0.3, 'Setosa'],\n",
       "       [5.1, 3.8, 1.5, 0.3, 'Setosa'],\n",
       "       [5.4, 3.4, 1.7, 0.2, 'Setosa'],\n",
       "       [5.1, 3.7, 1.5, 0.4, 'Setosa'],\n",
       "       [4.6, 3.6, 1.0, 0.2, 'Setosa'],\n",
       "       [5.1, 3.3, 1.7, 0.5, 'Setosa'],\n",
       "       [4.8, 3.4, 1.9, 0.2, 'Setosa'],\n",
       "       [5.0, 3.0, 1.6, 0.2, 'Setosa'],\n",
       "       [5.0, 3.4, 1.6, 0.4, 'Setosa'],\n",
       "       [5.2, 3.5, 1.5, 0.2, 'Setosa'],\n",
       "       [5.2, 3.4, 1.4, 0.2, 'Setosa'],\n",
       "       [4.7, 3.2, 1.6, 0.2, 'Setosa'],\n",
       "       [4.8, 3.1, 1.6, 0.2, 'Setosa'],\n",
       "       [5.4, 3.4, 1.5, 0.4, 'Setosa'],\n",
       "       [5.2, 4.1, 1.5, 0.1, 'Setosa'],\n",
       "       [5.5, 4.2, 1.4, 0.2, 'Setosa'],\n",
       "       [4.9, 3.1, 1.5, 0.2, 'Setosa'],\n",
       "       [5.0, 3.2, 1.2, 0.2, 'Setosa'],\n",
       "       [5.5, 3.5, 1.3, 0.2, 'Setosa'],\n",
       "       [4.9, 3.6, 1.4, 0.1, 'Setosa'],\n",
       "       [4.4, 3.0, 1.3, 0.2, 'Setosa'],\n",
       "       [5.1, 3.4, 1.5, 0.2, 'Setosa'],\n",
       "       [5.0, 3.5, 1.3, 0.3, 'Setosa'],\n",
       "       [4.5, 2.3, 1.3, 0.3, 'Setosa'],\n",
       "       [4.4, 3.2, 1.3, 0.2, 'Setosa'],\n",
       "       [5.0, 3.5, 1.6, 0.6, 'Setosa'],\n",
       "       [5.1, 3.8, 1.9, 0.4, 'Setosa'],\n",
       "       [4.8, 3.0, 1.4, 0.3, 'Setosa'],\n",
       "       [5.1, 3.8, 1.6, 0.2, 'Setosa'],\n",
       "       [4.6, 3.2, 1.4, 0.2, 'Setosa'],\n",
       "       [5.3, 3.7, 1.5, 0.2, 'Setosa'],\n",
       "       [5.0, 3.3, 1.4, 0.2, 'Setosa'],\n",
       "       [7.0, 3.2, 4.7, 1.4, 'Versicolor'],\n",
       "       [6.4, 3.2, 4.5, 1.5, 'Versicolor'],\n",
       "       [6.9, 3.1, 4.9, 1.5, 'Versicolor'],\n",
       "       [5.5, 2.3, 4.0, 1.3, 'Versicolor'],\n",
       "       [6.5, 2.8, 4.6, 1.5, 'Versicolor'],\n",
       "       [5.7, 2.8, 4.5, 1.3, 'Versicolor'],\n",
       "       [6.3, 3.3, 4.7, 1.6, 'Versicolor'],\n",
       "       [4.9, 2.4, 3.3, 1.0, 'Versicolor'],\n",
       "       [6.6, 2.9, 4.6, 1.3, 'Versicolor'],\n",
       "       [5.2, 2.7, 3.9, 1.4, 'Versicolor'],\n",
       "       [5.0, 2.0, 3.5, 1.0, 'Versicolor'],\n",
       "       [5.9, 3.0, 4.2, 1.5, 'Versicolor'],\n",
       "       [6.0, 2.2, 4.0, 1.0, 'Versicolor'],\n",
       "       [6.1, 2.9, 4.7, 1.4, 'Versicolor'],\n",
       "       [5.6, 2.9, 3.6, 1.3, 'Versicolor'],\n",
       "       [6.7, 3.1, 4.4, 1.4, 'Versicolor'],\n",
       "       [5.6, 3.0, 4.5, 1.5, 'Versicolor'],\n",
       "       [5.8, 2.7, 4.1, 1.0, 'Versicolor'],\n",
       "       [6.2, 2.2, 4.5, 1.5, 'Versicolor'],\n",
       "       [5.6, 2.5, 3.9, 1.1, 'Versicolor'],\n",
       "       [5.9, 3.2, 4.8, 1.8, 'Versicolor'],\n",
       "       [6.1, 2.8, 4.0, 1.3, 'Versicolor'],\n",
       "       [6.3, 2.5, 4.9, 1.5, 'Versicolor'],\n",
       "       [6.1, 2.8, 4.7, 1.2, 'Versicolor'],\n",
       "       [6.4, 2.9, 4.3, 1.3, 'Versicolor'],\n",
       "       [6.6, 3.0, 4.4, 1.4, 'Versicolor'],\n",
       "       [6.8, 2.8, 4.8, 1.4, 'Versicolor'],\n",
       "       [6.7, 3.0, 5.0, 1.7, 'Versicolor'],\n",
       "       [6.0, 2.9, 4.5, 1.5, 'Versicolor'],\n",
       "       [5.7, 2.6, 3.5, 1.0, 'Versicolor'],\n",
       "       [5.5, 2.4, 3.8, 1.1, 'Versicolor'],\n",
       "       [5.5, 2.4, 3.7, 1.0, 'Versicolor'],\n",
       "       [5.8, 2.7, 3.9, 1.2, 'Versicolor'],\n",
       "       [6.0, 2.7, 5.1, 1.6, 'Versicolor'],\n",
       "       [5.4, 3.0, 4.5, 1.5, 'Versicolor'],\n",
       "       [6.0, 3.4, 4.5, 1.6, 'Versicolor'],\n",
       "       [6.7, 3.1, 4.7, 1.5, 'Versicolor'],\n",
       "       [6.3, 2.3, 4.4, 1.3, 'Versicolor'],\n",
       "       [5.6, 3.0, 4.1, 1.3, 'Versicolor'],\n",
       "       [5.5, 2.5, 4.0, 1.3, 'Versicolor'],\n",
       "       [5.5, 2.6, 4.4, 1.2, 'Versicolor'],\n",
       "       [6.1, 3.0, 4.6, 1.4, 'Versicolor'],\n",
       "       [5.8, 2.6, 4.0, 1.2, 'Versicolor'],\n",
       "       [5.0, 2.3, 3.3, 1.0, 'Versicolor'],\n",
       "       [5.6, 2.7, 4.2, 1.3, 'Versicolor'],\n",
       "       [5.7, 3.0, 4.2, 1.2, 'Versicolor'],\n",
       "       [5.7, 2.9, 4.2, 1.3, 'Versicolor'],\n",
       "       [6.2, 2.9, 4.3, 1.3, 'Versicolor'],\n",
       "       [5.1, 2.5, 3.0, 1.1, 'Versicolor'],\n",
       "       [5.7, 2.8, 4.1, 1.3, 'Versicolor'],\n",
       "       [6.3, 3.3, 6.0, 2.5, 'Virginica'],\n",
       "       [5.8, 2.7, 5.1, 1.9, 'Virginica'],\n",
       "       [7.1, 3.0, 5.9, 2.1, 'Virginica'],\n",
       "       [6.3, 2.9, 5.6, 1.8, 'Virginica'],\n",
       "       [6.5, 3.0, 5.8, 2.2, 'Virginica'],\n",
       "       [7.6, 3.0, 6.6, 2.1, 'Virginica'],\n",
       "       [4.9, 2.5, 4.5, 1.7, 'Virginica'],\n",
       "       [7.3, 2.9, 6.3, 1.8, 'Virginica'],\n",
       "       [6.7, 2.5, 5.8, 1.8, 'Virginica'],\n",
       "       [7.2, 3.6, 6.1, 2.5, 'Virginica'],\n",
       "       [6.5, 3.2, 5.1, 2.0, 'Virginica'],\n",
       "       [6.4, 2.7, 5.3, 1.9, 'Virginica'],\n",
       "       [6.8, 3.0, 5.5, 2.1, 'Virginica'],\n",
       "       [5.7, 2.5, 5.0, 2.0, 'Virginica'],\n",
       "       [5.8, 2.8, 5.1, 2.4, 'Virginica'],\n",
       "       [6.4, 3.2, 5.3, 2.3, 'Virginica'],\n",
       "       [6.5, 3.0, 5.5, 1.8, 'Virginica'],\n",
       "       [7.7, 3.8, 6.7, 2.2, 'Virginica'],\n",
       "       [7.7, 2.6, 6.9, 2.3, 'Virginica'],\n",
       "       [6.0, 2.2, 5.0, 1.5, 'Virginica'],\n",
       "       [6.9, 3.2, 5.7, 2.3, 'Virginica'],\n",
       "       [5.6, 2.8, 4.9, 2.0, 'Virginica'],\n",
       "       [7.7, 2.8, 6.7, 2.0, 'Virginica'],\n",
       "       [6.3, 2.7, 4.9, 1.8, 'Virginica'],\n",
       "       [6.7, 3.3, 5.7, 2.1, 'Virginica'],\n",
       "       [7.2, 3.2, 6.0, 1.8, 'Virginica'],\n",
       "       [6.2, 2.8, 4.8, 1.8, 'Virginica'],\n",
       "       [6.1, 3.0, 4.9, 1.8, 'Virginica'],\n",
       "       [6.4, 2.8, 5.6, 2.1, 'Virginica'],\n",
       "       [7.2, 3.0, 5.8, 1.6, 'Virginica'],\n",
       "       [7.4, 2.8, 6.1, 1.9, 'Virginica'],\n",
       "       [7.9, 3.8, 6.4, 2.0, 'Virginica'],\n",
       "       [6.4, 2.8, 5.6, 2.2, 'Virginica'],\n",
       "       [6.3, 2.8, 5.1, 1.5, 'Virginica'],\n",
       "       [6.1, 2.6, 5.6, 1.4, 'Virginica'],\n",
       "       [7.7, 3.0, 6.1, 2.3, 'Virginica'],\n",
       "       [6.3, 3.4, 5.6, 2.4, 'Virginica'],\n",
       "       [6.4, 3.1, 5.5, 1.8, 'Virginica'],\n",
       "       [6.0, 3.0, 4.8, 1.8, 'Virginica'],\n",
       "       [6.9, 3.1, 5.4, 2.1, 'Virginica'],\n",
       "       [6.7, 3.1, 5.6, 2.4, 'Virginica'],\n",
       "       [6.9, 3.1, 5.1, 2.3, 'Virginica'],\n",
       "       [5.8, 2.7, 5.1, 1.9, 'Virginica'],\n",
       "       [6.8, 3.2, 5.9, 2.3, 'Virginica'],\n",
       "       [6.7, 3.3, 5.7, 2.5, 'Virginica'],\n",
       "       [6.7, 3.0, 5.2, 2.3, 'Virginica'],\n",
       "       [6.3, 2.5, 5.0, 1.9, 'Virginica'],\n",
       "       [6.5, 3.0, 5.2, 2.0, 'Virginica'],\n",
       "       [6.2, 3.4, 5.4, 2.3, 'Virginica'],\n",
       "       [5.9, 3.0, 5.1, 1.8, 'Virginica']], dtype=object)"
      ]
     },
     "execution_count": 15,
     "metadata": {},
     "output_type": "execute_result"
    }
   ],
   "source": [
    "a = np.array(iris)\n",
    "a"
   ]
  },
  {
   "cell_type": "code",
   "execution_count": 19,
   "id": "39c6185c",
   "metadata": {},
   "outputs": [
    {
     "ename": "NameError",
     "evalue": "name 'variety' is not defined",
     "output_type": "error",
     "traceback": [
      "\u001b[0;31m---------------------------------------------------------------------------\u001b[0m",
      "\u001b[0;31mNameError\u001b[0m                                 Traceback (most recent call last)",
      "Cell \u001b[0;32mIn[19], line 4\u001b[0m\n\u001b[1;32m      2\u001b[0m b \u001b[38;5;241m=\u001b[39m new_arr\u001b[38;5;241m.\u001b[39msum()\n\u001b[1;32m      3\u001b[0m b\n\u001b[0;32m----> 4\u001b[0m c \u001b[38;5;241m=\u001b[39m a[\u001b[43mvariety\u001b[49m]\n\u001b[1;32m      5\u001b[0m c\n",
      "\u001b[0;31mNameError\u001b[0m: name 'variety' is not defined"
     ]
    }
   ],
   "source": [
    "new_arr = a[a=='Setosa']\n",
    "b = new_arr.sum()\n",
    "b\n",
    "c = a['variety']\n",
    "c"
   ]
  },
  {
   "cell_type": "code",
   "execution_count": 20,
   "id": "3c474d98",
   "metadata": {},
   "outputs": [
    {
     "data": {
      "text/plain": [
       "array([{'sepal.length': '5.1', 'sepal.width': '3.5', 'petal.length': '1.4', 'petal.width': '.2', 'variety': 'Setosa'},\n",
       "       {'sepal.length': '4.9', 'sepal.width': '3', 'petal.length': '1.4', 'petal.width': '.2', 'variety': 'Setosa'},\n",
       "       {'sepal.length': '4.7', 'sepal.width': '3.2', 'petal.length': '1.3', 'petal.width': '.2', 'variety': 'Setosa'},\n",
       "       {'sepal.length': '4.6', 'sepal.width': '3.1', 'petal.length': '1.5', 'petal.width': '.2', 'variety': 'Setosa'},\n",
       "       {'sepal.length': '5', 'sepal.width': '3.6', 'petal.length': '1.4', 'petal.width': '.2', 'variety': 'Setosa'},\n",
       "       {'sepal.length': '5.4', 'sepal.width': '3.9', 'petal.length': '1.7', 'petal.width': '.4', 'variety': 'Setosa'},\n",
       "       {'sepal.length': '4.6', 'sepal.width': '3.4', 'petal.length': '1.4', 'petal.width': '.3', 'variety': 'Setosa'},\n",
       "       {'sepal.length': '5', 'sepal.width': '3.4', 'petal.length': '1.5', 'petal.width': '.2', 'variety': 'Setosa'},\n",
       "       {'sepal.length': '4.4', 'sepal.width': '2.9', 'petal.length': '1.4', 'petal.width': '.2', 'variety': 'Setosa'},\n",
       "       {'sepal.length': '4.9', 'sepal.width': '3.1', 'petal.length': '1.5', 'petal.width': '.1', 'variety': 'Setosa'},\n",
       "       {'sepal.length': '5.4', 'sepal.width': '3.7', 'petal.length': '1.5', 'petal.width': '.2', 'variety': 'Setosa'},\n",
       "       {'sepal.length': '4.8', 'sepal.width': '3.4', 'petal.length': '1.6', 'petal.width': '.2', 'variety': 'Setosa'},\n",
       "       {'sepal.length': '4.8', 'sepal.width': '3', 'petal.length': '1.4', 'petal.width': '.1', 'variety': 'Setosa'},\n",
       "       {'sepal.length': '4.3', 'sepal.width': '3', 'petal.length': '1.1', 'petal.width': '.1', 'variety': 'Setosa'},\n",
       "       {'sepal.length': '5.8', 'sepal.width': '4', 'petal.length': '1.2', 'petal.width': '.2', 'variety': 'Setosa'},\n",
       "       {'sepal.length': '5.7', 'sepal.width': '4.4', 'petal.length': '1.5', 'petal.width': '.4', 'variety': 'Setosa'},\n",
       "       {'sepal.length': '5.4', 'sepal.width': '3.9', 'petal.length': '1.3', 'petal.width': '.4', 'variety': 'Setosa'},\n",
       "       {'sepal.length': '5.1', 'sepal.width': '3.5', 'petal.length': '1.4', 'petal.width': '.3', 'variety': 'Setosa'},\n",
       "       {'sepal.length': '5.7', 'sepal.width': '3.8', 'petal.length': '1.7', 'petal.width': '.3', 'variety': 'Setosa'},\n",
       "       {'sepal.length': '5.1', 'sepal.width': '3.8', 'petal.length': '1.5', 'petal.width': '.3', 'variety': 'Setosa'},\n",
       "       {'sepal.length': '5.4', 'sepal.width': '3.4', 'petal.length': '1.7', 'petal.width': '.2', 'variety': 'Setosa'},\n",
       "       {'sepal.length': '5.1', 'sepal.width': '3.7', 'petal.length': '1.5', 'petal.width': '.4', 'variety': 'Setosa'},\n",
       "       {'sepal.length': '4.6', 'sepal.width': '3.6', 'petal.length': '1', 'petal.width': '.2', 'variety': 'Setosa'},\n",
       "       {'sepal.length': '5.1', 'sepal.width': '3.3', 'petal.length': '1.7', 'petal.width': '.5', 'variety': 'Setosa'},\n",
       "       {'sepal.length': '4.8', 'sepal.width': '3.4', 'petal.length': '1.9', 'petal.width': '.2', 'variety': 'Setosa'},\n",
       "       {'sepal.length': '5', 'sepal.width': '3', 'petal.length': '1.6', 'petal.width': '.2', 'variety': 'Setosa'},\n",
       "       {'sepal.length': '5', 'sepal.width': '3.4', 'petal.length': '1.6', 'petal.width': '.4', 'variety': 'Setosa'},\n",
       "       {'sepal.length': '5.2', 'sepal.width': '3.5', 'petal.length': '1.5', 'petal.width': '.2', 'variety': 'Setosa'},\n",
       "       {'sepal.length': '5.2', 'sepal.width': '3.4', 'petal.length': '1.4', 'petal.width': '.2', 'variety': 'Setosa'},\n",
       "       {'sepal.length': '4.7', 'sepal.width': '3.2', 'petal.length': '1.6', 'petal.width': '.2', 'variety': 'Setosa'},\n",
       "       {'sepal.length': '4.8', 'sepal.width': '3.1', 'petal.length': '1.6', 'petal.width': '.2', 'variety': 'Setosa'},\n",
       "       {'sepal.length': '5.4', 'sepal.width': '3.4', 'petal.length': '1.5', 'petal.width': '.4', 'variety': 'Setosa'},\n",
       "       {'sepal.length': '5.2', 'sepal.width': '4.1', 'petal.length': '1.5', 'petal.width': '.1', 'variety': 'Setosa'},\n",
       "       {'sepal.length': '5.5', 'sepal.width': '4.2', 'petal.length': '1.4', 'petal.width': '.2', 'variety': 'Setosa'},\n",
       "       {'sepal.length': '4.9', 'sepal.width': '3.1', 'petal.length': '1.5', 'petal.width': '.2', 'variety': 'Setosa'},\n",
       "       {'sepal.length': '5', 'sepal.width': '3.2', 'petal.length': '1.2', 'petal.width': '.2', 'variety': 'Setosa'},\n",
       "       {'sepal.length': '5.5', 'sepal.width': '3.5', 'petal.length': '1.3', 'petal.width': '.2', 'variety': 'Setosa'},\n",
       "       {'sepal.length': '4.9', 'sepal.width': '3.6', 'petal.length': '1.4', 'petal.width': '.1', 'variety': 'Setosa'},\n",
       "       {'sepal.length': '4.4', 'sepal.width': '3', 'petal.length': '1.3', 'petal.width': '.2', 'variety': 'Setosa'},\n",
       "       {'sepal.length': '5.1', 'sepal.width': '3.4', 'petal.length': '1.5', 'petal.width': '.2', 'variety': 'Setosa'},\n",
       "       {'sepal.length': '5', 'sepal.width': '3.5', 'petal.length': '1.3', 'petal.width': '.3', 'variety': 'Setosa'},\n",
       "       {'sepal.length': '4.5', 'sepal.width': '2.3', 'petal.length': '1.3', 'petal.width': '.3', 'variety': 'Setosa'},\n",
       "       {'sepal.length': '4.4', 'sepal.width': '3.2', 'petal.length': '1.3', 'petal.width': '.2', 'variety': 'Setosa'},\n",
       "       {'sepal.length': '5', 'sepal.width': '3.5', 'petal.length': '1.6', 'petal.width': '.6', 'variety': 'Setosa'},\n",
       "       {'sepal.length': '5.1', 'sepal.width': '3.8', 'petal.length': '1.9', 'petal.width': '.4', 'variety': 'Setosa'},\n",
       "       {'sepal.length': '4.8', 'sepal.width': '3', 'petal.length': '1.4', 'petal.width': '.3', 'variety': 'Setosa'},\n",
       "       {'sepal.length': '5.1', 'sepal.width': '3.8', 'petal.length': '1.6', 'petal.width': '.2', 'variety': 'Setosa'},\n",
       "       {'sepal.length': '4.6', 'sepal.width': '3.2', 'petal.length': '1.4', 'petal.width': '.2', 'variety': 'Setosa'},\n",
       "       {'sepal.length': '5.3', 'sepal.width': '3.7', 'petal.length': '1.5', 'petal.width': '.2', 'variety': 'Setosa'},\n",
       "       {'sepal.length': '5', 'sepal.width': '3.3', 'petal.length': '1.4', 'petal.width': '.2', 'variety': 'Setosa'},\n",
       "       {'sepal.length': '7', 'sepal.width': '3.2', 'petal.length': '4.7', 'petal.width': '1.4', 'variety': 'Versicolor'},\n",
       "       {'sepal.length': '6.4', 'sepal.width': '3.2', 'petal.length': '4.5', 'petal.width': '1.5', 'variety': 'Versicolor'},\n",
       "       {'sepal.length': '6.9', 'sepal.width': '3.1', 'petal.length': '4.9', 'petal.width': '1.5', 'variety': 'Versicolor'},\n",
       "       {'sepal.length': '5.5', 'sepal.width': '2.3', 'petal.length': '4', 'petal.width': '1.3', 'variety': 'Versicolor'},\n",
       "       {'sepal.length': '6.5', 'sepal.width': '2.8', 'petal.length': '4.6', 'petal.width': '1.5', 'variety': 'Versicolor'},\n",
       "       {'sepal.length': '5.7', 'sepal.width': '2.8', 'petal.length': '4.5', 'petal.width': '1.3', 'variety': 'Versicolor'},\n",
       "       {'sepal.length': '6.3', 'sepal.width': '3.3', 'petal.length': '4.7', 'petal.width': '1.6', 'variety': 'Versicolor'},\n",
       "       {'sepal.length': '4.9', 'sepal.width': '2.4', 'petal.length': '3.3', 'petal.width': '1', 'variety': 'Versicolor'},\n",
       "       {'sepal.length': '6.6', 'sepal.width': '2.9', 'petal.length': '4.6', 'petal.width': '1.3', 'variety': 'Versicolor'},\n",
       "       {'sepal.length': '5.2', 'sepal.width': '2.7', 'petal.length': '3.9', 'petal.width': '1.4', 'variety': 'Versicolor'},\n",
       "       {'sepal.length': '5', 'sepal.width': '2', 'petal.length': '3.5', 'petal.width': '1', 'variety': 'Versicolor'},\n",
       "       {'sepal.length': '5.9', 'sepal.width': '3', 'petal.length': '4.2', 'petal.width': '1.5', 'variety': 'Versicolor'},\n",
       "       {'sepal.length': '6', 'sepal.width': '2.2', 'petal.length': '4', 'petal.width': '1', 'variety': 'Versicolor'},\n",
       "       {'sepal.length': '6.1', 'sepal.width': '2.9', 'petal.length': '4.7', 'petal.width': '1.4', 'variety': 'Versicolor'},\n",
       "       {'sepal.length': '5.6', 'sepal.width': '2.9', 'petal.length': '3.6', 'petal.width': '1.3', 'variety': 'Versicolor'},\n",
       "       {'sepal.length': '6.7', 'sepal.width': '3.1', 'petal.length': '4.4', 'petal.width': '1.4', 'variety': 'Versicolor'},\n",
       "       {'sepal.length': '5.6', 'sepal.width': '3', 'petal.length': '4.5', 'petal.width': '1.5', 'variety': 'Versicolor'},\n",
       "       {'sepal.length': '5.8', 'sepal.width': '2.7', 'petal.length': '4.1', 'petal.width': '1', 'variety': 'Versicolor'},\n",
       "       {'sepal.length': '6.2', 'sepal.width': '2.2', 'petal.length': '4.5', 'petal.width': '1.5', 'variety': 'Versicolor'},\n",
       "       {'sepal.length': '5.6', 'sepal.width': '2.5', 'petal.length': '3.9', 'petal.width': '1.1', 'variety': 'Versicolor'},\n",
       "       {'sepal.length': '5.9', 'sepal.width': '3.2', 'petal.length': '4.8', 'petal.width': '1.8', 'variety': 'Versicolor'},\n",
       "       {'sepal.length': '6.1', 'sepal.width': '2.8', 'petal.length': '4', 'petal.width': '1.3', 'variety': 'Versicolor'},\n",
       "       {'sepal.length': '6.3', 'sepal.width': '2.5', 'petal.length': '4.9', 'petal.width': '1.5', 'variety': 'Versicolor'},\n",
       "       {'sepal.length': '6.1', 'sepal.width': '2.8', 'petal.length': '4.7', 'petal.width': '1.2', 'variety': 'Versicolor'},\n",
       "       {'sepal.length': '6.4', 'sepal.width': '2.9', 'petal.length': '4.3', 'petal.width': '1.3', 'variety': 'Versicolor'},\n",
       "       {'sepal.length': '6.6', 'sepal.width': '3', 'petal.length': '4.4', 'petal.width': '1.4', 'variety': 'Versicolor'},\n",
       "       {'sepal.length': '6.8', 'sepal.width': '2.8', 'petal.length': '4.8', 'petal.width': '1.4', 'variety': 'Versicolor'},\n",
       "       {'sepal.length': '6.7', 'sepal.width': '3', 'petal.length': '5', 'petal.width': '1.7', 'variety': 'Versicolor'},\n",
       "       {'sepal.length': '6', 'sepal.width': '2.9', 'petal.length': '4.5', 'petal.width': '1.5', 'variety': 'Versicolor'},\n",
       "       {'sepal.length': '5.7', 'sepal.width': '2.6', 'petal.length': '3.5', 'petal.width': '1', 'variety': 'Versicolor'},\n",
       "       {'sepal.length': '5.5', 'sepal.width': '2.4', 'petal.length': '3.8', 'petal.width': '1.1', 'variety': 'Versicolor'},\n",
       "       {'sepal.length': '5.5', 'sepal.width': '2.4', 'petal.length': '3.7', 'petal.width': '1', 'variety': 'Versicolor'},\n",
       "       {'sepal.length': '5.8', 'sepal.width': '2.7', 'petal.length': '3.9', 'petal.width': '1.2', 'variety': 'Versicolor'},\n",
       "       {'sepal.length': '6', 'sepal.width': '2.7', 'petal.length': '5.1', 'petal.width': '1.6', 'variety': 'Versicolor'},\n",
       "       {'sepal.length': '5.4', 'sepal.width': '3', 'petal.length': '4.5', 'petal.width': '1.5', 'variety': 'Versicolor'},\n",
       "       {'sepal.length': '6', 'sepal.width': '3.4', 'petal.length': '4.5', 'petal.width': '1.6', 'variety': 'Versicolor'},\n",
       "       {'sepal.length': '6.7', 'sepal.width': '3.1', 'petal.length': '4.7', 'petal.width': '1.5', 'variety': 'Versicolor'},\n",
       "       {'sepal.length': '6.3', 'sepal.width': '2.3', 'petal.length': '4.4', 'petal.width': '1.3', 'variety': 'Versicolor'},\n",
       "       {'sepal.length': '5.6', 'sepal.width': '3', 'petal.length': '4.1', 'petal.width': '1.3', 'variety': 'Versicolor'},\n",
       "       {'sepal.length': '5.5', 'sepal.width': '2.5', 'petal.length': '4', 'petal.width': '1.3', 'variety': 'Versicolor'},\n",
       "       {'sepal.length': '5.5', 'sepal.width': '2.6', 'petal.length': '4.4', 'petal.width': '1.2', 'variety': 'Versicolor'},\n",
       "       {'sepal.length': '6.1', 'sepal.width': '3', 'petal.length': '4.6', 'petal.width': '1.4', 'variety': 'Versicolor'},\n",
       "       {'sepal.length': '5.8', 'sepal.width': '2.6', 'petal.length': '4', 'petal.width': '1.2', 'variety': 'Versicolor'},\n",
       "       {'sepal.length': '5', 'sepal.width': '2.3', 'petal.length': '3.3', 'petal.width': '1', 'variety': 'Versicolor'},\n",
       "       {'sepal.length': '5.6', 'sepal.width': '2.7', 'petal.length': '4.2', 'petal.width': '1.3', 'variety': 'Versicolor'},\n",
       "       {'sepal.length': '5.7', 'sepal.width': '3', 'petal.length': '4.2', 'petal.width': '1.2', 'variety': 'Versicolor'},\n",
       "       {'sepal.length': '5.7', 'sepal.width': '2.9', 'petal.length': '4.2', 'petal.width': '1.3', 'variety': 'Versicolor'},\n",
       "       {'sepal.length': '6.2', 'sepal.width': '2.9', 'petal.length': '4.3', 'petal.width': '1.3', 'variety': 'Versicolor'},\n",
       "       {'sepal.length': '5.1', 'sepal.width': '2.5', 'petal.length': '3', 'petal.width': '1.1', 'variety': 'Versicolor'},\n",
       "       {'sepal.length': '5.7', 'sepal.width': '2.8', 'petal.length': '4.1', 'petal.width': '1.3', 'variety': 'Versicolor'},\n",
       "       {'sepal.length': '6.3', 'sepal.width': '3.3', 'petal.length': '6', 'petal.width': '2.5', 'variety': 'Virginica'},\n",
       "       {'sepal.length': '5.8', 'sepal.width': '2.7', 'petal.length': '5.1', 'petal.width': '1.9', 'variety': 'Virginica'},\n",
       "       {'sepal.length': '7.1', 'sepal.width': '3', 'petal.length': '5.9', 'petal.width': '2.1', 'variety': 'Virginica'},\n",
       "       {'sepal.length': '6.3', 'sepal.width': '2.9', 'petal.length': '5.6', 'petal.width': '1.8', 'variety': 'Virginica'},\n",
       "       {'sepal.length': '6.5', 'sepal.width': '3', 'petal.length': '5.8', 'petal.width': '2.2', 'variety': 'Virginica'},\n",
       "       {'sepal.length': '7.6', 'sepal.width': '3', 'petal.length': '6.6', 'petal.width': '2.1', 'variety': 'Virginica'},\n",
       "       {'sepal.length': '4.9', 'sepal.width': '2.5', 'petal.length': '4.5', 'petal.width': '1.7', 'variety': 'Virginica'},\n",
       "       {'sepal.length': '7.3', 'sepal.width': '2.9', 'petal.length': '6.3', 'petal.width': '1.8', 'variety': 'Virginica'},\n",
       "       {'sepal.length': '6.7', 'sepal.width': '2.5', 'petal.length': '5.8', 'petal.width': '1.8', 'variety': 'Virginica'},\n",
       "       {'sepal.length': '7.2', 'sepal.width': '3.6', 'petal.length': '6.1', 'petal.width': '2.5', 'variety': 'Virginica'},\n",
       "       {'sepal.length': '6.5', 'sepal.width': '3.2', 'petal.length': '5.1', 'petal.width': '2', 'variety': 'Virginica'},\n",
       "       {'sepal.length': '6.4', 'sepal.width': '2.7', 'petal.length': '5.3', 'petal.width': '1.9', 'variety': 'Virginica'},\n",
       "       {'sepal.length': '6.8', 'sepal.width': '3', 'petal.length': '5.5', 'petal.width': '2.1', 'variety': 'Virginica'},\n",
       "       {'sepal.length': '5.7', 'sepal.width': '2.5', 'petal.length': '5', 'petal.width': '2', 'variety': 'Virginica'},\n",
       "       {'sepal.length': '5.8', 'sepal.width': '2.8', 'petal.length': '5.1', 'petal.width': '2.4', 'variety': 'Virginica'},\n",
       "       {'sepal.length': '6.4', 'sepal.width': '3.2', 'petal.length': '5.3', 'petal.width': '2.3', 'variety': 'Virginica'},\n",
       "       {'sepal.length': '6.5', 'sepal.width': '3', 'petal.length': '5.5', 'petal.width': '1.8', 'variety': 'Virginica'},\n",
       "       {'sepal.length': '7.7', 'sepal.width': '3.8', 'petal.length': '6.7', 'petal.width': '2.2', 'variety': 'Virginica'},\n",
       "       {'sepal.length': '7.7', 'sepal.width': '2.6', 'petal.length': '6.9', 'petal.width': '2.3', 'variety': 'Virginica'},\n",
       "       {'sepal.length': '6', 'sepal.width': '2.2', 'petal.length': '5', 'petal.width': '1.5', 'variety': 'Virginica'},\n",
       "       {'sepal.length': '6.9', 'sepal.width': '3.2', 'petal.length': '5.7', 'petal.width': '2.3', 'variety': 'Virginica'},\n",
       "       {'sepal.length': '5.6', 'sepal.width': '2.8', 'petal.length': '4.9', 'petal.width': '2', 'variety': 'Virginica'},\n",
       "       {'sepal.length': '7.7', 'sepal.width': '2.8', 'petal.length': '6.7', 'petal.width': '2', 'variety': 'Virginica'},\n",
       "       {'sepal.length': '6.3', 'sepal.width': '2.7', 'petal.length': '4.9', 'petal.width': '1.8', 'variety': 'Virginica'},\n",
       "       {'sepal.length': '6.7', 'sepal.width': '3.3', 'petal.length': '5.7', 'petal.width': '2.1', 'variety': 'Virginica'},\n",
       "       {'sepal.length': '7.2', 'sepal.width': '3.2', 'petal.length': '6', 'petal.width': '1.8', 'variety': 'Virginica'},\n",
       "       {'sepal.length': '6.2', 'sepal.width': '2.8', 'petal.length': '4.8', 'petal.width': '1.8', 'variety': 'Virginica'},\n",
       "       {'sepal.length': '6.1', 'sepal.width': '3', 'petal.length': '4.9', 'petal.width': '1.8', 'variety': 'Virginica'},\n",
       "       {'sepal.length': '6.4', 'sepal.width': '2.8', 'petal.length': '5.6', 'petal.width': '2.1', 'variety': 'Virginica'},\n",
       "       {'sepal.length': '7.2', 'sepal.width': '3', 'petal.length': '5.8', 'petal.width': '1.6', 'variety': 'Virginica'},\n",
       "       {'sepal.length': '7.4', 'sepal.width': '2.8', 'petal.length': '6.1', 'petal.width': '1.9', 'variety': 'Virginica'},\n",
       "       {'sepal.length': '7.9', 'sepal.width': '3.8', 'petal.length': '6.4', 'petal.width': '2', 'variety': 'Virginica'},\n",
       "       {'sepal.length': '6.4', 'sepal.width': '2.8', 'petal.length': '5.6', 'petal.width': '2.2', 'variety': 'Virginica'},\n",
       "       {'sepal.length': '6.3', 'sepal.width': '2.8', 'petal.length': '5.1', 'petal.width': '1.5', 'variety': 'Virginica'},\n",
       "       {'sepal.length': '6.1', 'sepal.width': '2.6', 'petal.length': '5.6', 'petal.width': '1.4', 'variety': 'Virginica'},\n",
       "       {'sepal.length': '7.7', 'sepal.width': '3', 'petal.length': '6.1', 'petal.width': '2.3', 'variety': 'Virginica'},\n",
       "       {'sepal.length': '6.3', 'sepal.width': '3.4', 'petal.length': '5.6', 'petal.width': '2.4', 'variety': 'Virginica'},\n",
       "       {'sepal.length': '6.4', 'sepal.width': '3.1', 'petal.length': '5.5', 'petal.width': '1.8', 'variety': 'Virginica'},\n",
       "       {'sepal.length': '6', 'sepal.width': '3', 'petal.length': '4.8', 'petal.width': '1.8', 'variety': 'Virginica'},\n",
       "       {'sepal.length': '6.9', 'sepal.width': '3.1', 'petal.length': '5.4', 'petal.width': '2.1', 'variety': 'Virginica'},\n",
       "       {'sepal.length': '6.7', 'sepal.width': '3.1', 'petal.length': '5.6', 'petal.width': '2.4', 'variety': 'Virginica'},\n",
       "       {'sepal.length': '6.9', 'sepal.width': '3.1', 'petal.length': '5.1', 'petal.width': '2.3', 'variety': 'Virginica'},\n",
       "       {'sepal.length': '5.8', 'sepal.width': '2.7', 'petal.length': '5.1', 'petal.width': '1.9', 'variety': 'Virginica'},\n",
       "       {'sepal.length': '6.8', 'sepal.width': '3.2', 'petal.length': '5.9', 'petal.width': '2.3', 'variety': 'Virginica'},\n",
       "       {'sepal.length': '6.7', 'sepal.width': '3.3', 'petal.length': '5.7', 'petal.width': '2.5', 'variety': 'Virginica'},\n",
       "       {'sepal.length': '6.7', 'sepal.width': '3', 'petal.length': '5.2', 'petal.width': '2.3', 'variety': 'Virginica'},\n",
       "       {'sepal.length': '6.3', 'sepal.width': '2.5', 'petal.length': '5', 'petal.width': '1.9', 'variety': 'Virginica'},\n",
       "       {'sepal.length': '6.5', 'sepal.width': '3', 'petal.length': '5.2', 'petal.width': '2', 'variety': 'Virginica'},\n",
       "       {'sepal.length': '6.2', 'sepal.width': '3.4', 'petal.length': '5.4', 'petal.width': '2.3', 'variety': 'Virginica'},\n",
       "       {'sepal.length': '5.9', 'sepal.width': '3', 'petal.length': '5.1', 'petal.width': '1.8', 'variety': 'Virginica'}],\n",
       "      dtype=object)"
      ]
     },
     "execution_count": 20,
     "metadata": {},
     "output_type": "execute_result"
    }
   ],
   "source": [
    "d = np.array(file_list)\n",
    "d"
   ]
  },
  {
   "cell_type": "code",
   "execution_count": 26,
   "id": "d33d5fc3",
   "metadata": {},
   "outputs": [
    {
     "data": {
      "text/plain": [
       "array([], dtype=object)"
      ]
     },
     "execution_count": 26,
     "metadata": {},
     "output_type": "execute_result"
    }
   ],
   "source": [
    "d = d[d=='variety']\n",
    "d"
   ]
  },
  {
   "cell_type": "code",
   "execution_count": null,
   "id": "9dd44b43",
   "metadata": {},
   "outputs": [],
   "source": []
  },
  {
   "cell_type": "code",
   "execution_count": null,
   "id": "38c9f8e2",
   "metadata": {},
   "outputs": [],
   "source": []
  }
 ],
 "metadata": {
  "kernelspec": {
   "display_name": "Python 3 (ipykernel)",
   "language": "python",
   "name": "python3"
  },
  "language_info": {
   "codemirror_mode": {
    "name": "ipython",
    "version": 3
   },
   "file_extension": ".py",
   "mimetype": "text/x-python",
   "name": "python",
   "nbconvert_exporter": "python",
   "pygments_lexer": "ipython3",
   "version": "3.10.12"
  }
 },
 "nbformat": 4,
 "nbformat_minor": 5
}
