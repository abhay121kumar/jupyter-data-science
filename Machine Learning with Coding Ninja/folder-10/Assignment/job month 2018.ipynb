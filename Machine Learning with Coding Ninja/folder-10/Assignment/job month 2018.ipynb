{
 "cells": [
  {
   "cell_type": "code",
   "execution_count": 26,
   "id": "2f38c868",
   "metadata": {},
   "outputs": [
    {
     "name": "stdout",
     "output_type": "stream",
     "text": [
      "{'March  1, 2018': 13, 'February 28, 2018': 42, 'February 27, 2018': 37, 'February 26, 2018': 33, 'February 25, 2018': 6, 'February 24, 2018': 5, 'February 23, 2018': 28, 'February 22, 2018': 35, 'February 21, 2018': 47, 'February 20, 2018': 36, 'February 19, 2018': 26, 'February 18, 2018': 5, 'February 16, 2018': 19, 'February 15, 2018': 41, 'February 14, 2018': 50, 'February 13, 2018': 40, 'February 12, 2018': 36, 'February 11, 2018': 6, 'February  9, 2018': 20, 'February  8, 2018': 39, 'February  7, 2018': 46, 'February  6, 2018': 51, 'February  5, 2018': 51, 'February  4, 2018': 4, 'February  3, 2018': 4, 'February  2, 2018': 52, 'February  1, 2018': 31, 'January 31, 2018': 31, 'January 30, 2018': 42, 'January 29, 2018': 56, 'January 28, 2018': 5, 'January 26, 2018': 25, 'January 25, 2018': 35, 'January 24, 2018': 44, 'January 23, 2018': 44, 'January 22, 2018': 35, 'January 21, 2018': 3, 'January 19, 2018': 34, 'January 18, 2018': 42, 'January 17, 2018': 57, 'January 16, 2018': 36, 'January 15, 2018': 45, 'January 14, 2018': 5, 'January 12, 2018': 41, 'January 11, 2018': 36, 'January 10, 2018': 36, 'January  9, 2018': 43, 'January  8, 2018': 46, 'January  7, 2018': 4, 'January  6, 2018': 11, 'January  5, 2018': 31, 'January  4, 2018': 39, 'January  3, 2018': 48, 'January  2, 2018': 33}\n",
      "\n",
      "\n",
      "dict_values([13, 42, 37, 33, 6, 5, 28, 35, 47, 36, 26, 5, 19, 41, 50, 40, 36, 6, 20, 39, 46, 51, 51, 4, 4, 52, 31, 31, 42, 56, 5, 25, 35, 44, 44, 35, 3, 34, 42, 57, 36, 45, 5, 41, 36, 36, 43, 46, 4, 11, 31, 39, 48, 33])\n",
      "\n",
      "\n",
      "no. jobs:  57\n",
      "month having most job openings:  January 17, 2018\n"
     ]
    }
   ],
   "source": [
    "import csv\n",
    "\n",
    "with open('amazon_jobs_dataset.csv') as file_obj:\n",
    "    file_data = csv.DictReader(file_obj, skipinitialspace=True)\n",
    "    file_list = list(file_data)\n",
    "    \n",
    "    count=0\n",
    "    file_dic = {}\n",
    "    for row in file_list:\n",
    "        key1 = row['Posting_date']\n",
    "        ans = key1.find('2018')\n",
    "        \n",
    "        if ans != -1:\n",
    "            if key1 in file_dic.keys():\n",
    "                file_dic[key1] += 1\n",
    "            else:\n",
    "                file_dic[key1] = 1\n",
    "        else:\n",
    "            continue\n",
    "    print(file_dic)\n",
    "    print()\n",
    "    print()\n",
    "    print(file_dic.values())\n",
    "    print()\n",
    "    print()\n",
    "    li = list(file_dic.values())\n",
    "    count=0\n",
    "    for i in li:\n",
    "        if count<i:\n",
    "            count=i\n",
    "    print(\"no. jobs: \", count)\n",
    "    answer = \"\"\n",
    "    for key, value in file_dic.items():\n",
    "        if value==count:\n",
    "            answer = key\n",
    "    print(\"month having most job openings: \", answer)\n"
   ]
  },
  {
   "cell_type": "code",
   "execution_count": null,
   "id": "dfbae6fc",
   "metadata": {},
   "outputs": [],
   "source": []
  },
  {
   "cell_type": "code",
   "execution_count": 4,
   "id": "8130a4a2",
   "metadata": {},
   "outputs": [
    {
     "name": "stdout",
     "output_type": "stream",
     "text": [
      "12\n"
     ]
    }
   ],
   "source": [
    "str = \"March22  1, 2018\"\n",
    "ans = str.find('2018')\n",
    "print(ans)"
   ]
  },
  {
   "cell_type": "code",
   "execution_count": null,
   "id": "dc52d665",
   "metadata": {},
   "outputs": [],
   "source": []
  },
  {
   "cell_type": "code",
   "execution_count": 6,
   "id": "4466872d",
   "metadata": {},
   "outputs": [
    {
     "name": "stdout",
     "output_type": "stream",
     "text": [
      "{1: 3, 2: 1, 3: 1, 44: 1, 4: 2, 6: 1}\n",
      "3\n",
      "1\n"
     ]
    }
   ],
   "source": [
    "li = [1,1,1,2,3,44,4,4,6]\n",
    "dic = {}\n",
    "for i in li:\n",
    "    if i in dic.keys():\n",
    "        dic[i] +=1\n",
    "    else:\n",
    "        dic[i] = 1\n",
    "        \n",
    "count = 0\n",
    "value=0\n",
    "for i in li:\n",
    "    if dic[i]>count:\n",
    "        count = dic[i]\n",
    "        value=i\n",
    "    else:\n",
    "        continue\n",
    "        \n",
    "print(dic)\n",
    "print(count)\n",
    "print(value)"
   ]
  },
  {
   "cell_type": "code",
   "execution_count": null,
   "id": "528dc604",
   "metadata": {},
   "outputs": [],
   "source": []
  },
  {
   "cell_type": "code",
   "execution_count": null,
   "id": "ba0ec74b",
   "metadata": {},
   "outputs": [],
   "source": []
  },
  {
   "cell_type": "code",
   "execution_count": null,
   "id": "31ab360b",
   "metadata": {},
   "outputs": [],
   "source": []
  },
  {
   "cell_type": "code",
   "execution_count": null,
   "id": "3e2e8fb1",
   "metadata": {},
   "outputs": [],
   "source": []
  },
  {
   "cell_type": "code",
   "execution_count": null,
   "id": "d79b2776",
   "metadata": {},
   "outputs": [],
   "source": []
  },
  {
   "cell_type": "code",
   "execution_count": null,
   "id": "b50d0a59",
   "metadata": {},
   "outputs": [],
   "source": []
  },
  {
   "cell_type": "code",
   "execution_count": null,
   "id": "e6e1f8a2",
   "metadata": {},
   "outputs": [],
   "source": []
  },
  {
   "cell_type": "code",
   "execution_count": null,
   "id": "71372390",
   "metadata": {},
   "outputs": [],
   "source": []
  },
  {
   "cell_type": "code",
   "execution_count": null,
   "id": "77fe3980",
   "metadata": {},
   "outputs": [],
   "source": []
  },
  {
   "cell_type": "code",
   "execution_count": 21,
   "id": "01978e34",
   "metadata": {},
   "outputs": [
    {
     "name": "stdout",
     "output_type": "stream",
     "text": [
      "-1\n",
      "-1\n",
      "-1\n",
      "19\n"
     ]
    }
   ],
   "source": [
    "# key1 = row['Posting_date']\n",
    "# key2 = row['month_list']\n",
    "# ans1 = key1.find('2018')\n",
    "# ans2 = key2.find(key1)\n",
    "\n",
    "str1 = \"May 11, 2018\"\n",
    "str2 = \"January\"\n",
    "month_str = \"January, February, March, Aprail, May, June, July, August, September, October, November, December\"\n",
    "\n",
    "# li = [\"January 11, 2018\",\"February  4, 2018\",\"March  1, 2018\"]\n",
    "ans1 = str2.find(str1)\n",
    "ans2 = str1.find(str2)\n",
    "ans3 = str1.find(month_str)\n",
    "ans4 = month_str.find(str1[0:2])\n",
    "print(ans1)\n",
    "print(ans2)\n",
    "print(ans3)\n",
    "print(ans4)"
   ]
  },
  {
   "cell_type": "code",
   "execution_count": 2,
   "id": "2c7ff6cc",
   "metadata": {},
   "outputs": [
    {
     "name": "stdout",
     "output_type": "stream",
     "text": [
      "dict_keys([1, 2, 3, 5, 6])\n",
      "dict_values([20, 10, 40, 10, 0])\n"
     ]
    }
   ],
   "source": [
    "a = {1:20,2:10,3:40,5:10,6:0}\n",
    "print(a.keys())\n",
    "print(a.values())"
   ]
  },
  {
   "cell_type": "code",
   "execution_count": 20,
   "id": "e49a3e7a",
   "metadata": {},
   "outputs": [
    {
     "name": "stdout",
     "output_type": "stream",
     "text": [
      "40\n",
      "40\n"
     ]
    }
   ],
   "source": [
    "li = list(a.values())\n",
    "count=0\n",
    "for i in li:\n",
    "    if count<i:\n",
    "        count=i\n",
    "print(count)\n",
    "print(a.get(3))"
   ]
  },
  {
   "cell_type": "code",
   "execution_count": 22,
   "id": "245b05e2",
   "metadata": {},
   "outputs": [
    {
     "name": "stdout",
     "output_type": "stream",
     "text": [
      "3\n"
     ]
    }
   ],
   "source": [
    "for key, value in a.items():\n",
    "    if value==40:\n",
    "        print(key)"
   ]
  }
 ],
 "metadata": {
  "kernelspec": {
   "display_name": "Python 3 (ipykernel)",
   "language": "python",
   "name": "python3"
  },
  "language_info": {
   "codemirror_mode": {
    "name": "ipython",
    "version": 3
   },
   "file_extension": ".py",
   "mimetype": "text/x-python",
   "name": "python",
   "nbconvert_exporter": "python",
   "pygments_lexer": "ipython3",
   "version": "3.10.12"
  }
 },
 "nbformat": 4,
 "nbformat_minor": 5
}
