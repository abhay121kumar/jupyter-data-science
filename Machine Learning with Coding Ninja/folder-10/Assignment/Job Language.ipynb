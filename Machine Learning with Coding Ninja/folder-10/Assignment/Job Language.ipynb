{
 "cells": [
  {
   "cell_type": "markdown",
   "id": "d386c16c",
   "metadata": {},
   "source": [
    "· Bachelor's Degree in Computer Science or related field· Expert knowledge of one of the following programming languages: Java, C and C++· 8+ years of hands on experience in software development, including design, implementation, debugging, and support, building scalable system software and/or Services· Deep understanding of distributed systems and web services technology· Strong at applying data structures, algorithms, and object oriented design, to solve challenging problems· Experience working with REST and RPC service patterns and other client/server interaction models· Track record of building and delivering mission critical, 24x7 production software systems· Bachelor’s degree in Computer Science or equivalent"
   ]
  },
  {
   "cell_type": "code",
   "execution_count": 16,
   "id": "b3fb1c82",
   "metadata": {},
   "outputs": [
    {
     "name": "stdout",
     "output_type": "stream",
     "text": [
      "Java: 240\n",
      "C++: 218\n",
      "Python: 63\n",
      "Java, C and C++: 12\n"
     ]
    }
   ],
   "source": [
    "import csv\n",
    "\n",
    "with open('amazon_jobs_dataset.csv') as file_obj:\n",
    "    file_data = csv.DictReader(file_obj, skipinitialspace=True)\n",
    "    file_list = list(file_data)\n",
    "    \n",
    "    count1=0\n",
    "    count2=0\n",
    "    count3=0\n",
    "    count4=0\n",
    "    \n",
    "    for row in file_list:\n",
    "        key = row['BASIC QUALIFICATIONS']\n",
    "        file_str1 = \"Bachelor's Degree\"\n",
    "        file_str2 = \"Java\"\n",
    "        file_str3 = \"C++\"\n",
    "        file_str4 = \"Python\"\n",
    "        file_str5 = \"Java, C and C++\"\n",
    "        \n",
    "        ans1 = key.find(file_str1)\n",
    "        ans2 = key.find(file_str2)\n",
    "        ans3 = key.find(file_str3)\n",
    "        ans4 = key.find(file_str4)\n",
    "        ans5 = key.find(file_str5)\n",
    "        \n",
    "        if((ans1 != -1) and (ans2 != -1)):\n",
    "            count1+=1\n",
    "        if((ans1 != -1) and (ans3!= -1)):\n",
    "            count2+=1\n",
    "        if((ans1 != -1) and (ans4!= -1)):\n",
    "            count3+=1\n",
    "        if((ans1 != -1) and (ans5!= -1)):\n",
    "            count4+=1\n",
    "            \n",
    "    print(\"Java:\", count1)\n",
    "    print(\"C++:\", count2)\n",
    "    print(\"Python:\", count3)\n",
    "    print(\"Java, C and C++:\", count4)"
   ]
  },
  {
   "cell_type": "code",
   "execution_count": null,
   "id": "8c1df648",
   "metadata": {},
   "outputs": [],
   "source": []
  },
  {
   "cell_type": "markdown",
   "id": "b2175caa",
   "metadata": {},
   "source": [
    "· BS in Computer Science or equivalent.· 5+ years of industry experience.· Experience with OO design and coding skills in languages like Java/Python/C#/Ruby/Objective C/C++"
   ]
  },
  {
   "cell_type": "code",
   "execution_count": 9,
   "id": "59da2fa6",
   "metadata": {},
   "outputs": [
    {
     "name": "stdout",
     "output_type": "stream",
     "text": [
      "169\n"
     ]
    }
   ],
   "source": [
    "str = \"· BS in Computer Science or equivalent.· 5+ years of industry experience.· Experience with OO design and coding skills in languages like Java/Python/C#/Ruby/Objective C/C++\"\n",
    "ans = str.find(\"C++\")\n",
    "print(ans)"
   ]
  },
  {
   "cell_type": "code",
   "execution_count": null,
   "id": "d6ebe107",
   "metadata": {},
   "outputs": [],
   "source": [
    "find keyword return index number of first char of word"
   ]
  },
  {
   "cell_type": "code",
   "execution_count": null,
   "id": "72216d4d",
   "metadata": {},
   "outputs": [],
   "source": []
  },
  {
   "cell_type": "code",
   "execution_count": null,
   "id": "2feb59c1",
   "metadata": {},
   "outputs": [],
   "source": []
  },
  {
   "cell_type": "code",
   "execution_count": 15,
   "id": "6f889564",
   "metadata": {},
   "outputs": [
    {
     "name": "stdout",
     "output_type": "stream",
     "text": [
      "12\n"
     ]
    }
   ],
   "source": [
    "import csv\n",
    "\n",
    "with open('amazon_jobs_dataset.csv') as file_obj:\n",
    "    file_data = csv.DictReader(file_obj, skipinitialspace=True)\n",
    "    file_list = list(file_data)\n",
    "    \n",
    "    count=0\n",
    "    for row in file_list:\n",
    "        key = row['BASIC QUALIFICATIONS']\n",
    "        file_str1 = \"Bachelor's Degree\"\n",
    "        file_str2 = \"Java, C and C++\"\n",
    "        \n",
    "        ans1 = key.find(file_str1)\n",
    "        ans2 = key.find(file_str2)\n",
    "        \n",
    "        if((ans1 != -1) and (ans2 != -1)):\n",
    "            count+=1\n",
    "        else:\n",
    "            continue\n",
    "            \n",
    "    print(count)"
   ]
  },
  {
   "cell_type": "code",
   "execution_count": null,
   "id": "c706c8c8",
   "metadata": {},
   "outputs": [],
   "source": []
  }
 ],
 "metadata": {
  "kernelspec": {
   "display_name": "Python 3 (ipykernel)",
   "language": "python",
   "name": "python3"
  },
  "language_info": {
   "codemirror_mode": {
    "name": "ipython",
    "version": 3
   },
   "file_extension": ".py",
   "mimetype": "text/x-python",
   "name": "python",
   "nbconvert_exporter": "python",
   "pygments_lexer": "ipython3",
   "version": "3.10.12"
  }
 },
 "nbformat": 4,
 "nbformat_minor": 5
}
