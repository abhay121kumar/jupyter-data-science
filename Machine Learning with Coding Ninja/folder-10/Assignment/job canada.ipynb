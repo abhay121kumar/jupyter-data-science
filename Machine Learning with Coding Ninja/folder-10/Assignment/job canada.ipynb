{
 "cells": [
  {
   "cell_type": "code",
   "execution_count": 1,
   "id": "3ab80673",
   "metadata": {},
   "outputs": [
    {
     "name": "stdout",
     "output_type": "stream",
     "text": [
      "90\n"
     ]
    }
   ],
   "source": [
    "import csv\n",
    "\n",
    "with open('amazon_jobs_dataset.csv') as file_obj:\n",
    "    file_data = csv.DictReader(file_obj, skipinitialspace = True)\n",
    "    file_list = list(file_data)\n",
    "    \n",
    "    count=0\n",
    "    for row in file_list:\n",
    "        key = row['location']\n",
    "        if key == 'US, CA, Cupertino ':\n",
    "            count+=1\n",
    "        else:\n",
    "            continue\n",
    "    print(count)"
   ]
  },
  {
   "cell_type": "code",
   "execution_count": null,
   "id": "ca05b887",
   "metadata": {},
   "outputs": [],
   "source": []
  }
 ],
 "metadata": {
  "kernelspec": {
   "display_name": "Python 3 (ipykernel)",
   "language": "python",
   "name": "python3"
  },
  "language_info": {
   "codemirror_mode": {
    "name": "ipython",
    "version": 3
   },
   "file_extension": ".py",
   "mimetype": "text/x-python",
   "name": "python",
   "nbconvert_exporter": "python",
   "pygments_lexer": "ipython3",
   "version": "3.10.12"
  }
 },
 "nbformat": 4,
 "nbformat_minor": 5
}
