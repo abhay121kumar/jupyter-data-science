{
 "cells": [
  {
   "cell_type": "code",
   "execution_count": null,
   "id": "3b782a2d",
   "metadata": {},
   "outputs": [],
   "source": [
    "## correct solution"
   ]
  },
  {
   "cell_type": "code",
   "execution_count": 13,
   "id": "ff626224",
   "metadata": {},
   "outputs": [
    {
     "name": "stdout",
     "output_type": "stream",
     "text": [
      "66 1856\n"
     ]
    }
   ],
   "source": [
    "import csv\n",
    "\n",
    "with open('amazon_jobs_dataset.csv') as file_obj:\n",
    "    file_data = csv.DictReader(file_obj, skipinitialspace = True)\n",
    "    file_list = list(file_data)\n",
    "\n",
    "        \n",
    "    countBangalore = 0\n",
    "    countSeattle = 0\n",
    "    for row in file_list:\n",
    "        key1 = row['location']\n",
    "        if key1 == 'US, WA, Seattle ':\n",
    "            countSeattle+=1\n",
    "        elif key1 == 'IN, KA, Bangalore ':\n",
    "            countBangalore+=1\n",
    "        else:\n",
    "            continue\n",
    "            \n",
    "    print(countBangalore, countSeattle)"
   ]
  },
  {
   "cell_type": "code",
   "execution_count": null,
   "id": "a679be2b",
   "metadata": {},
   "outputs": [],
   "source": []
  },
  {
   "cell_type": "code",
   "execution_count": null,
   "id": "5af37b25",
   "metadata": {},
   "outputs": [],
   "source": []
  },
  {
   "cell_type": "code",
   "execution_count": null,
   "id": "2625b910",
   "metadata": {},
   "outputs": [],
   "source": []
  },
  {
   "cell_type": "code",
   "execution_count": 12,
   "id": "41429b29",
   "metadata": {},
   "outputs": [
    {
     "ename": "TypeError",
     "evalue": "unhashable type: 'dict'",
     "output_type": "error",
     "traceback": [
      "\u001b[0;31m---------------------------------------------------------------------------\u001b[0m",
      "\u001b[0;31mTypeError\u001b[0m                                 Traceback (most recent call last)",
      "Cell \u001b[0;32mIn[12], line 9\u001b[0m\n\u001b[1;32m      7\u001b[0m s \u001b[38;5;241m=\u001b[39m \u001b[38;5;28mset\u001b[39m()\n\u001b[1;32m      8\u001b[0m \u001b[38;5;28;01mfor\u001b[39;00m i \u001b[38;5;129;01min\u001b[39;00m file_list:\n\u001b[0;32m----> 9\u001b[0m     \u001b[43ms\u001b[49m\u001b[38;5;241;43m.\u001b[39;49m\u001b[43madd\u001b[49m\u001b[43m(\u001b[49m\u001b[43mi\u001b[49m\u001b[43m)\u001b[49m\n\u001b[1;32m     11\u001b[0m li \u001b[38;5;241m=\u001b[39m []\n\u001b[1;32m     12\u001b[0m \u001b[38;5;28;01mfor\u001b[39;00m i \u001b[38;5;129;01min\u001b[39;00m s:\n",
      "\u001b[0;31mTypeError\u001b[0m: unhashable type: 'dict'"
     ]
    }
   ],
   "source": [
    "import csv\n",
    "\n",
    "with open('amazon_jobs_dataset.csv') as file_obj:\n",
    "    file_data = csv.DictReader(file_obj, skipinitialspace = True)\n",
    "    file_list = list(file_data)\n",
    "    \n",
    "    s = set()\n",
    "    for i in file_list:\n",
    "        s.add(i)\n",
    "        \n",
    "    li = []\n",
    "    for i in s:\n",
    "        li.append(i)\n",
    "        \n",
    "    countBangalore = 0\n",
    "    countSeattle = 0\n",
    "    for row in li:\n",
    "        key1 = row['location']\n",
    "        if key1 == 'US, WA, Seattle':\n",
    "            countSeattle+=1\n",
    "        elif key1 == 'IN, KA, Bangalore':\n",
    "            countBangalore+=1\n",
    "        else:\n",
    "            continue\n",
    "            \n",
    "    print(countBangalore, countSeattlet)"
   ]
  },
  {
   "cell_type": "code",
   "execution_count": null,
   "id": "8aa82144",
   "metadata": {},
   "outputs": [],
   "source": []
  },
  {
   "cell_type": "code",
   "execution_count": null,
   "id": "67d8da9c",
   "metadata": {},
   "outputs": [],
   "source": []
  },
  {
   "cell_type": "code",
   "execution_count": null,
   "id": "5e29e633",
   "metadata": {},
   "outputs": [],
   "source": []
  },
  {
   "cell_type": "code",
   "execution_count": 5,
   "id": "0492b997",
   "metadata": {},
   "outputs": [
    {
     "name": "stdout",
     "output_type": "stream",
     "text": [
      "[1, 3, 4]\n"
     ]
    }
   ],
   "source": [
    "l = [1,1,1,3,4,4]\n",
    "s = set()\n",
    "for i in l:\n",
    "    s.add(i)\n",
    "\n",
    "li = []\n",
    "for i in s:\n",
    "    li.append(i)\n",
    "print(li)"
   ]
  },
  {
   "cell_type": "code",
   "execution_count": 11,
   "id": "1c23647a",
   "metadata": {},
   "outputs": [
    {
     "name": "stdout",
     "output_type": "stream",
     "text": [
      "66 1856\n"
     ]
    }
   ],
   "source": []
  }
 ],
 "metadata": {
  "kernelspec": {
   "display_name": "Python 3 (ipykernel)",
   "language": "python",
   "name": "python3"
  },
  "language_info": {
   "codemirror_mode": {
    "name": "ipython",
    "version": 3
   },
   "file_extension": ".py",
   "mimetype": "text/x-python",
   "name": "python",
   "nbconvert_exporter": "python",
   "pygments_lexer": "ipython3",
   "version": "3.10.12"
  }
 },
 "nbformat": 4,
 "nbformat_minor": 5
}
