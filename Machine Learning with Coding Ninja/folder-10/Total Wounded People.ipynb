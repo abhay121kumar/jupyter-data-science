{
 "cells": [
  {
   "cell_type": "code",
   "execution_count": 24,
   "id": "49218925",
   "metadata": {},
   "outputs": [
    {
     "ename": "IndentationError",
     "evalue": "expected an indented block after 'if' statement on line 6 (2039760058.py, line 10)",
     "output_type": "error",
     "traceback": [
      "\u001b[0;36m  Cell \u001b[0;32mIn[24], line 10\u001b[0;36m\u001b[0m\n\u001b[0;31m    print(type(row['Wounded']))\u001b[0m\n\u001b[0m    ^\u001b[0m\n\u001b[0;31mIndentationError\u001b[0m\u001b[0;31m:\u001b[0m expected an indented block after 'if' statement on line 6\n"
     ]
    }
   ],
   "source": [
    "import csv\n",
    "with open('Datasets/year2017.csv') as file_obj:\n",
    "    file_data = csv.DictReader(file_obj, skipinitialspace = True)\n",
    "    count=0\n",
    "    for row in file_data:\n",
    "        if row != '':\n",
    "#             count= count + float(row['Wounded'])\n",
    "#             print(row['Wounded'])\n",
    "#     print(count)\n",
    "    print(type(row['Wounded']))"
   ]
  },
  {
   "cell_type": "code",
   "execution_count": 8,
   "id": "31a555c3",
   "metadata": {},
   "outputs": [
    {
     "name": "stdout",
     "output_type": "stream",
     "text": [
      "<class 'int'>\n"
     ]
    }
   ],
   "source": [
    "count = 0\n",
    "print(type(count))"
   ]
  },
  {
   "cell_type": "code",
   "execution_count": 30,
   "id": "e32c5136",
   "metadata": {},
   "outputs": [
    {
     "name": "stdout",
     "output_type": "stream",
     "text": [
      "24927\n"
     ]
    }
   ],
   "source": [
    "import csv\n",
    "with open('Datasets/year2017.csv') as file_obj:\n",
    "    file_data = csv.DictReader(file_obj, skipinitialspace = True)\n",
    "    count=0\n",
    "    wound = []\n",
    "    for row in file_data:\n",
    "        value = row['Wounded']\n",
    "        if value != '':\n",
    "            wound.append(int(float(value)))\n",
    "        else:\n",
    "            wound.append(0)\n",
    "    print(int(sum(wound)))"
   ]
  },
  {
   "cell_type": "code",
   "execution_count": null,
   "id": "ee705a50",
   "metadata": {},
   "outputs": [],
   "source": []
  }
 ],
 "metadata": {
  "kernelspec": {
   "display_name": "Python 3 (ipykernel)",
   "language": "python",
   "name": "python3"
  },
  "language_info": {
   "codemirror_mode": {
    "name": "ipython",
    "version": 3
   },
   "file_extension": ".py",
   "mimetype": "text/x-python",
   "name": "python",
   "nbconvert_exporter": "python",
   "pygments_lexer": "ipython3",
   "version": "3.10.12"
  }
 },
 "nbformat": 4,
 "nbformat_minor": 5
}
