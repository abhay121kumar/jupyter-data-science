{
 "cells": [
  {
   "cell_type": "code",
   "execution_count": 16,
   "id": "18de44cd",
   "metadata": {},
   "outputs": [
    {
     "name": "stdout",
     "output_type": "stream",
     "text": [
      "465\n",
      "<class 'int'>\n"
     ]
    }
   ],
   "source": [
    "import csv\n",
    "\n",
    "with open('Datasets/year2017.csv') as file_obj:\n",
    "    file_data = csv.DictReader(file_obj, skipinitialspace = True)\n",
    "    file_list = list(file_data)\n",
    "    \n",
    "    country_killed = 0 \n",
    "    for row in file_list:\n",
    "        key = row['Country']\n",
    "        value = row['Killed']\n",
    "        \n",
    "        if value != '':\n",
    "            value = int(float(value))\n",
    "        else:\n",
    "            value = 0\n",
    "            \n",
    "        if key=='India':\n",
    "            country_killed += value\n",
    "        else:\n",
    "            continue\n",
    "            \n",
    "    print(country_killed)\n",
    "    print(type(country_killed))"
   ]
  },
  {
   "cell_type": "code",
   "execution_count": null,
   "id": "fef26df2",
   "metadata": {},
   "outputs": [],
   "source": []
  },
  {
   "cell_type": "code",
   "execution_count": null,
   "id": "7317ba9d",
   "metadata": {},
   "outputs": [],
   "source": []
  }
 ],
 "metadata": {
  "kernelspec": {
   "display_name": "Python 3 (ipykernel)",
   "language": "python",
   "name": "python3"
  },
  "language_info": {
   "codemirror_mode": {
    "name": "ipython",
    "version": 3
   },
   "file_extension": ".py",
   "mimetype": "text/x-python",
   "name": "python",
   "nbconvert_exporter": "python",
   "pygments_lexer": "ipython3",
   "version": "3.10.12"
  }
 },
 "nbformat": 4,
 "nbformat_minor": 5
}
