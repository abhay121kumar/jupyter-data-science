{
 "cells": [
  {
   "cell_type": "code",
   "execution_count": 1,
   "id": "25c357d5",
   "metadata": {},
   "outputs": [
    {
     "name": "stdout",
     "output_type": "stream",
     "text": [
      "['Year| Month| Day| Country| Region| city']\n",
      "['2017| 1| 2| Afga| South| Takhta']\n",
      "['2017| 1| 3| sudan| sub-sah| Fantaga']\n",
      "['2017| 1| 1| Democratic| Sub-sah| Saboko']\n",
      "['2017| 1| 1| Democratic| Sub-sah| bialee']\n",
      "<class '_csv.reader'>\n"
     ]
    }
   ],
   "source": [
    "import csv\n",
    "with open('Sample_CustomerDelim.csv') as file_obj:\n",
    "    file_data = csv.reader(file_obj)\n",
    "    for row in file_data:\n",
    "        print(row)\n",
    "\n",
    "print(type(file_data))"
   ]
  },
  {
   "cell_type": "code",
   "execution_count": null,
   "id": "c66cbc5f",
   "metadata": {},
   "outputs": [],
   "source": []
  },
  {
   "cell_type": "code",
   "execution_count": 4,
   "id": "0f679ffa",
   "metadata": {},
   "outputs": [
    {
     "name": "stdout",
     "output_type": "stream",
     "text": [
      "['Year', ' Month', ' Day', ' Country', ' Region', ' city']\n",
      "['2017', ' 1', ' 2', ' Afga', ' South', ' Takhta']\n",
      "['2017', ' 1', ' 3', ' sudan', ' sub-sah', ' Fantaga']\n",
      "['2017', ' 1', ' 1', ' Democratic', ' Sub-sah', ' Saboko']\n",
      "['2017', ' 1', ' 1', ' Democratic', ' Sub-sah', ' bialee']\n",
      "<class '_csv.reader'>\n"
     ]
    }
   ],
   "source": [
    "import csv\n",
    "with open('Sample_CustomerDelim.csv') as file_obj:\n",
    "    file_data = csv.reader(file_obj, delimiter = '|')\n",
    "    for row in file_data:\n",
    "        print(row)\n",
    "\n",
    "print(type(file_data))"
   ]
  },
  {
   "cell_type": "markdown",
   "id": "3957fd54",
   "metadata": {},
   "source": [
    "### To remove extra space"
   ]
  },
  {
   "cell_type": "code",
   "execution_count": 5,
   "id": "b73a3efe",
   "metadata": {},
   "outputs": [
    {
     "name": "stdout",
     "output_type": "stream",
     "text": [
      "['Year', 'Month', 'Day', 'Country', 'Region', 'city']\n",
      "['2017', '1', '2', 'Afga', 'South', 'Takhta']\n",
      "['2017', '1', '3', 'sudan', 'sub-sah', 'Fantaga']\n",
      "['2017', '1', '1', 'Democratic', 'Sub-sah', 'Saboko']\n",
      "['2017', '1', '1', 'Democratic', 'Sub-sah', 'bialee']\n",
      "<class '_csv.reader'>\n"
     ]
    }
   ],
   "source": [
    "import csv\n",
    "with open('Sample_CustomerDelim.csv') as file_obj:\n",
    "    file_data = csv.reader(file_obj, delimiter = '|',skipinitialspace = True)\n",
    "    for row in file_data:\n",
    "        print(row)\n",
    "\n",
    "print(type(file_data))"
   ]
  },
  {
   "cell_type": "code",
   "execution_count": null,
   "id": "0be1354e",
   "metadata": {},
   "outputs": [],
   "source": []
  },
  {
   "cell_type": "markdown",
   "id": "2856fbe7",
   "metadata": {},
   "source": [
    "# to create 2D list"
   ]
  },
  {
   "cell_type": "code",
   "execution_count": 6,
   "id": "f6dd9efd",
   "metadata": {},
   "outputs": [
    {
     "name": "stdout",
     "output_type": "stream",
     "text": [
      "<class 'list'>\n",
      "[['Year', 'Month', 'Day', 'Country', 'Region', 'city'], ['2017', '1', '2', 'Afga', 'South', 'Takhta'], ['2017', '1', '3', 'sudan', 'sub-sah', 'Fantaga'], ['2017', '1', '1', 'Democratic', 'Sub-sah', 'Saboko'], ['2017', '1', '1', 'Democratic', 'Sub-sah', 'bialee']]\n"
     ]
    }
   ],
   "source": [
    "import csv\n",
    "with open('Sample_CustomerDelim.csv') as file_obj:\n",
    "    file_data = csv.reader(file_obj, delimiter = '|',skipinitialspace = True)\n",
    "    file_list = list(file_data)\n",
    "        \n",
    "print(type(file_list))\n",
    "print(file_list)"
   ]
  },
  {
   "cell_type": "code",
   "execution_count": null,
   "id": "f643684f",
   "metadata": {},
   "outputs": [],
   "source": []
  }
 ],
 "metadata": {
  "kernelspec": {
   "display_name": "Python 3 (ipykernel)",
   "language": "python",
   "name": "python3"
  },
  "language_info": {
   "codemirror_mode": {
    "name": "ipython",
    "version": 3
   },
   "file_extension": ".py",
   "mimetype": "text/x-python",
   "name": "python",
   "nbconvert_exporter": "python",
   "pygments_lexer": "ipython3",
   "version": "3.10.12"
  }
 },
 "nbformat": 4,
 "nbformat_minor": 5
}
