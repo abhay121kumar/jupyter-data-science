{
 "cells": [
  {
   "cell_type": "code",
   "execution_count": null,
   "id": "f767d8ff",
   "metadata": {},
   "outputs": [],
   "source": []
  },
  {
   "cell_type": "code",
   "execution_count": null,
   "id": "3953b6fc",
   "metadata": {},
   "outputs": [],
   "source": []
  },
  {
   "cell_type": "code",
   "execution_count": 2,
   "id": "8f1f350e",
   "metadata": {},
   "outputs": [
    {
     "name": "stdout",
     "output_type": "stream",
     "text": [
      "{1: 2275, 2: 2027, 3: 2463, 4: 2142, 5: 2936, 6: 2506, 7: 2228, 8: 2145, 9: 1764, 10: 2580, 11: 2014, 12: 1365}\n"
     ]
    }
   ],
   "source": [
    "import csv\n",
    "\n",
    "with open('Datasets/year2017.csv') as file_obj:\n",
    "    file_data = csv.DictReader(file_obj, skipinitialspace=True)\n",
    "    month_killed = {}\n",
    "\n",
    "    for row in file_data:\n",
    "        month = row['Month']  # Assuming 'iyear' contains the year\n",
    "        killed = row['Killed']\n",
    "\n",
    "        if killed:\n",
    "            killed = int(float(killed))\n",
    "        else:\n",
    "            killed = 0\n",
    "\n",
    "        if month:\n",
    "            month = int(month)\n",
    "        else:\n",
    "            month = 0\n",
    "\n",
    "        if month in month_killed:\n",
    "            month_killed[month] += killed\n",
    "        else:\n",
    "            month_killed[month] = killed\n",
    "\n",
    "print(month_killed)"
   ]
  },
  {
   "cell_type": "code",
   "execution_count": 10,
   "id": "9aa5f7d0",
   "metadata": {},
   "outputs": [
    {
     "name": "stdout",
     "output_type": "stream",
     "text": [
      "{1: 2275, 2: 2027, 3: 2463, 4: 2142, 5: 2936, 6: 2506, 7: 2228, 8: 2145, 9: 1764, 10: 2580, 11: 2014, 12: 1365}\n"
     ]
    }
   ],
   "source": [
    "import csv\n",
    "with open('Datasets/year2017.csv') as file_obj:\n",
    "    file_data = csv.DictReader(file_obj, skipinitialspace = True)\n",
    "#     file_list = list(file_data)\n",
    "    count=0\n",
    "    month_killed = {}\n",
    "    for row in file_data:\n",
    "        key = row['Month'] #month\n",
    "        value = row['Killed'] #no. of people killed in that month\n",
    "        \n",
    "        if value:\n",
    "            value = int(float(value))\n",
    "        else:\n",
    "            value = 0\n",
    "            \n",
    "        if key:\n",
    "            key = int(key)\n",
    "        else:\n",
    "            key = 0 \n",
    "            \n",
    "\n",
    "        if key in month_killed:\n",
    "            month_killed[key]+=value\n",
    "        else:\n",
    "            month_killed[key] = value\n",
    "            \n",
    "    print(month_killed)"
   ]
  },
  {
   "cell_type": "code",
   "execution_count": null,
   "id": "fad8b644",
   "metadata": {},
   "outputs": [],
   "source": []
  }
 ],
 "metadata": {
  "kernelspec": {
   "display_name": "Python 3 (ipykernel)",
   "language": "python",
   "name": "python3"
  },
  "language_info": {
   "codemirror_mode": {
    "name": "ipython",
    "version": 3
   },
   "file_extension": ".py",
   "mimetype": "text/x-python",
   "name": "python",
   "nbconvert_exporter": "python",
   "pygments_lexer": "ipython3",
   "version": "3.10.12"
  }
 },
 "nbformat": 4,
 "nbformat_minor": 5
}
