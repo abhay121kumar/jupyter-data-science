{
 "cells": [
  {
   "cell_type": "markdown",
   "id": "1ed200e8",
   "metadata": {},
   "source": [
    "Bombing/Explosion"
   ]
  },
  {
   "cell_type": "code",
   "execution_count": 3,
   "id": "827d60f5",
   "metadata": {},
   "outputs": [
    {
     "name": "stdout",
     "output_type": "stream",
     "text": [
      "total no. of people killed by bombing explosion 11831\n"
     ]
    }
   ],
   "source": [
    "import csv\n",
    "with open('Datasets/year2017.csv') as file_obj:\n",
    "    file_data = csv.DictReader(file_obj, skipinitialspace=True)\n",
    "    file_list = list(file_data)\n",
    "    Total_number_of_casualties = 0\n",
    "    \n",
    "    for row in file_list:\n",
    "        key = row['AttackType']\n",
    "        value = row['Killed']\n",
    "        \n",
    "        if value != '':\n",
    "            value = int(float(value))\n",
    "        else:\n",
    "            value = 0\n",
    "            \n",
    "        if key=='Bombing/Explosion':\n",
    "            Total_number_of_casualties += value\n",
    "        else:\n",
    "            continue\n",
    "    \n",
    "    print(\"total no. of people killed by bombing explosion\", Total_number_of_casualties)"
   ]
  },
  {
   "cell_type": "code",
   "execution_count": null,
   "id": "b8e79b87",
   "metadata": {},
   "outputs": [],
   "source": []
  },
  {
   "cell_type": "code",
   "execution_count": null,
   "id": "daa6b80c",
   "metadata": {},
   "outputs": [],
   "source": []
  }
 ],
 "metadata": {
  "kernelspec": {
   "display_name": "Python 3 (ipykernel)",
   "language": "python",
   "name": "python3"
  },
  "language_info": {
   "codemirror_mode": {
    "name": "ipython",
    "version": 3
   },
   "file_extension": ".py",
   "mimetype": "text/x-python",
   "name": "python",
   "nbconvert_exporter": "python",
   "pygments_lexer": "ipython3",
   "version": "3.10.12"
  }
 },
 "nbformat": 4,
 "nbformat_minor": 5
}
