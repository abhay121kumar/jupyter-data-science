{
 "cells": [
  {
   "cell_type": "code",
   "execution_count": null,
   "id": "4b6345bc",
   "metadata": {},
   "outputs": [],
   "source": [
    "oRrHiDMGqNtorHeq6o_3TQ\n",
    "q 16 find controvosial post\n",
    "change icon\n",
    "secret\tlT9C_IVf6muZa6pB1t8pZwu7VfD0yg"
   ]
  },
  {
   "cell_type": "code",
   "execution_count": null,
   "id": "e910007a",
   "metadata": {},
   "outputs": [],
   "source": [
    "import requests\n",
    "import json \n",
    "data = {'client_id':'oRrHiDMGqNtorHeq6o_3TQ','response_type':'code', 'state'}"
   ]
  }
 ],
 "metadata": {
  "kernelspec": {
   "display_name": "Python 3 (ipykernel)",
   "language": "python",
   "name": "python3"
  },
  "language_info": {
   "codemirror_mode": {
    "name": "ipython",
    "version": 3
   },
   "file_extension": ".py",
   "mimetype": "text/x-python",
   "name": "python",
   "nbconvert_exporter": "python",
   "pygments_lexer": "ipython3",
   "version": "3.10.12"
  }
 },
 "nbformat": 4,
 "nbformat_minor": 5
}
