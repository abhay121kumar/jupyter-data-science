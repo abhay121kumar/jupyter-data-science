{
 "cells": [
  {
   "cell_type": "code",
   "execution_count": 1,
   "id": "14a135b5",
   "metadata": {},
   "outputs": [
    {
     "name": "stdout",
     "output_type": "stream",
     "text": [
      "Apache License 2.0\n"
     ]
    }
   ],
   "source": [
    "import requests\n",
    "data = requests.get('https://api.github.com/repos/google/go-cloud',auth = ('svaibhav2809','12345678'))\n",
    "\n",
    "python_data = data.json()\n",
    "print(python_data['license']['name'])"
   ]
  },
  {
   "cell_type": "code",
   "execution_count": 3,
   "id": "d0286147",
   "metadata": {},
   "outputs": [
    {
     "name": "stdout",
     "output_type": "stream",
     "text": [
      "Apache License 2.0\n",
      "https://api.github.com/repos/google/go-cloud\n"
     ]
    }
   ],
   "source": [
    "import requests\n",
    "data = requests.get('https://api.github.com/repos/google/go-cloud',auth = ('radhekaran','LalanTop(1)'))\n",
    "\n",
    "python_data = data.json()\n",
    "print(python_data['license']['name'])\n",
    "print(data.url)"
   ]
  },
  {
   "cell_type": "code",
   "execution_count": null,
   "id": "385f18bc",
   "metadata": {},
   "outputs": [],
   "source": []
  },
  {
   "cell_type": "code",
   "execution_count": null,
   "id": "40ff5b15",
   "metadata": {},
   "outputs": [],
   "source": []
  }
 ],
 "metadata": {
  "kernelspec": {
   "display_name": "Python 3 (ipykernel)",
   "language": "python",
   "name": "python3"
  },
  "language_info": {
   "codemirror_mode": {
    "name": "ipython",
    "version": 3
   },
   "file_extension": ".py",
   "mimetype": "text/x-python",
   "name": "python",
   "nbconvert_exporter": "python",
   "pygments_lexer": "ipython3",
   "version": "3.10.12"
  }
 },
 "nbformat": 4,
 "nbformat_minor": 5
}
