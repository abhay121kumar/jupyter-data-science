{
 "cells": [
  {
   "cell_type": "code",
   "execution_count": 3,
   "id": "9383806f",
   "metadata": {},
   "outputs": [
    {
     "name": "stdout",
     "output_type": "stream",
     "text": [
      "https://api.github.com/repositories/169635883\n",
      "200\n"
     ]
    }
   ],
   "source": [
    "import requests\n",
    "import json\n",
    "response = requests.get('https://api.github.com/repos/google/science-journal-ios', auth = ('radhekaran','LalanTop(1)'))\n",
    "py_data = response.json()\n",
    "print(response.url)\n",
    "print(response.status_code)"
   ]
  },
  {
   "cell_type": "code",
   "execution_count": null,
   "id": "9ae7343f",
   "metadata": {},
   "outputs": [],
   "source": []
  },
  {
   "cell_type": "code",
   "execution_count": 4,
   "id": "9c437148",
   "metadata": {},
   "outputs": [
    {
     "name": "stdout",
     "output_type": "stream",
     "text": [
      "https://api.github.com/repositories/169635883/languages\n",
      "200\n",
      "Swift\n",
      "HTML\n",
      "Python\n",
      "Ruby\n",
      "Shell\n"
     ]
    }
   ],
   "source": [
    "import requests\n",
    "import json\n",
    "response = requests.get('https://api.github.com/repos/google/science-journal-ios/languages', auth = ('radhekaran','LalanTop(1)'))\n",
    "py_data = response.json()\n",
    "print(response.url)\n",
    "print(response.status_code)\n",
    "for i in py_data:\n",
    "    print(i)"
   ]
  },
  {
   "cell_type": "code",
   "execution_count": null,
   "id": "df8ddb4c",
   "metadata": {},
   "outputs": [],
   "source": []
  },
  {
   "cell_type": "code",
   "execution_count": null,
   "id": "cfbc1460",
   "metadata": {},
   "outputs": [],
   "source": []
  }
 ],
 "metadata": {
  "kernelspec": {
   "display_name": "Python 3 (ipykernel)",
   "language": "python",
   "name": "python3"
  },
  "language_info": {
   "codemirror_mode": {
    "name": "ipython",
    "version": 3
   },
   "file_extension": ".py",
   "mimetype": "text/x-python",
   "name": "python",
   "nbconvert_exporter": "python",
   "pygments_lexer": "ipython3",
   "version": "3.10.12"
  }
 },
 "nbformat": 4,
 "nbformat_minor": 5
}
