{
 "cells": [
  {
   "cell_type": "markdown",
   "id": "bea9dad3",
   "metadata": {},
   "source": [
    "# M-1"
   ]
  },
  {
   "cell_type": "code",
   "execution_count": 5,
   "id": "2c412d4c",
   "metadata": {},
   "outputs": [
    {
     "name": "stdout",
     "output_type": "stream",
     "text": [
      "200\n",
      "fuzzing\n",
      "security\n",
      "stability\n",
      "vulnerabilities\n"
     ]
    }
   ],
   "source": [
    "import requests\n",
    "response = requests.get('https://api.github.com/repos/google/clusterfuzz', auth = ('radhekaran','LalanTop(1)'))\n",
    "py_data = response.json()\n",
    "print(response.status_code)\n",
    "# print(py_data['topics']['names'])\n",
    "for i in py_data['topics']:\n",
    "    print(i)"
   ]
  },
  {
   "cell_type": "code",
   "execution_count": null,
   "id": "024f3dbd",
   "metadata": {},
   "outputs": [],
   "source": []
  },
  {
   "cell_type": "markdown",
   "id": "ff1feaa5",
   "metadata": {},
   "source": [
    "# M-2"
   ]
  },
  {
   "cell_type": "code",
   "execution_count": 4,
   "id": "001366cb",
   "metadata": {},
   "outputs": [
    {
     "name": "stdout",
     "output_type": "stream",
     "text": [
      "fuzzing\n",
      "security\n",
      "stability\n",
      "vulnerabilities\n"
     ]
    }
   ],
   "source": [
    "import requests\n",
    "header = {'Accept':'application/vnd.github.mercy-preview+json'}\n",
    "data = requests.get('https://api.github.com/repos/google/clusterfuzz/topics',auth = ('svaibhav2809','12345678'),headers=header)\n",
    "\n",
    "python_data = data.json()['names']\n",
    "for i in python_data:\n",
    "    print(i)"
   ]
  },
  {
   "cell_type": "code",
   "execution_count": null,
   "id": "347b03e8",
   "metadata": {},
   "outputs": [],
   "source": []
  }
 ],
 "metadata": {
  "kernelspec": {
   "display_name": "Python 3 (ipykernel)",
   "language": "python",
   "name": "python3"
  },
  "language_info": {
   "codemirror_mode": {
    "name": "ipython",
    "version": 3
   },
   "file_extension": ".py",
   "mimetype": "text/x-python",
   "name": "python",
   "nbconvert_exporter": "python",
   "pygments_lexer": "ipython3",
   "version": "3.10.12"
  }
 },
 "nbformat": 4,
 "nbformat_minor": 5
}
