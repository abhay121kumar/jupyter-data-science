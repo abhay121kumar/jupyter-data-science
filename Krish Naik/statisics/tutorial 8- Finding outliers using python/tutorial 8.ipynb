{
 "cells": [
  {
   "cell_type": "code",
   "execution_count": 3,
   "id": "630c2c6c",
   "metadata": {},
   "outputs": [],
   "source": [
    "import numpy as np\n",
    "import matplotlib.pyplot as plt\n",
    "%matplotlib inline"
   ]
  },
  {
   "cell_type": "code",
   "execution_count": 4,
   "id": "f4c8e784",
   "metadata": {},
   "outputs": [],
   "source": [
    "dataset = [11,20,12,14,12,15,14,13,15,102,12,14,17,19,107,10,13,12,108,12,11,14,13,15,10,15,12,10,14,13,15,10]"
   ]
  },
  {
   "cell_type": "code",
   "execution_count": 5,
   "id": "13d7ff8b",
   "metadata": {},
   "outputs": [
    {
     "data": {
      "text/plain": [
       "(array([28.,  1.,  0.,  0.,  0.,  0.,  0.,  0.,  0.,  3.]),\n",
       " array([ 10. ,  19.8,  29.6,  39.4,  49.2,  59. ,  68.8,  78.6,  88.4,\n",
       "         98.2, 108. ]),\n",
       " <BarContainer object of 10 artists>)"
      ]
     },
     "execution_count": 5,
     "metadata": {},
     "output_type": "execute_result"
    },
    {
     "data": {
      "image/png": "[encoded data removed]",
      "text/plain": [
       "<Figure size 640x480 with 1 Axes>"
      ]
     },
     "metadata": {},
     "output_type": "display_data"
    }
   ],
   "source": [
    "plt.hist(dataset)"
   ]
  },
  {
   "cell_type": "code",
   "execution_count": null,
   "id": "1fd15279",
   "metadata": {},
   "outputs": [],
   "source": []
  },
  {
   "cell_type": "code",
   "execution_count": 10,
   "id": "d166c3c2",
   "metadata": {},
   "outputs": [],
   "source": [
    "# z-score\n",
    "outliers = []\n",
    "def detect_outliers(data):\n",
    "    threshold = 3 \n",
    "    mean = np.mean(data)\n",
    "    std = np.std(data)\n",
    "    \n",
    "    for i in data:\n",
    "        z_score = (i-mean)/std\n",
    "        if np.abs(z_score)>threshold:\n",
    "            outliers.append(i)\n",
    "    return outliers"
   ]
  },
  {
   "cell_type": "code",
   "execution_count": 11,
   "id": "ce0dc227",
   "metadata": {},
   "outputs": [
    {
     "data": {
      "text/plain": [
       "[107, 108]"
      ]
     },
     "execution_count": 11,
     "metadata": {},
     "output_type": "execute_result"
    }
   ],
   "source": [
    "detect_outliers(dataset)"
   ]
  },
  {
   "cell_type": "code",
   "execution_count": null,
   "id": "777f8727",
   "metadata": {},
   "outputs": [],
   "source": []
  },
  {
   "cell_type": "markdown",
   "id": "afc952e0",
   "metadata": {},
   "source": [
    "# IQR\n",
    "### 1. Sort the data\n",
    "### 2. calculate q1(25%) and q3(75%)\n",
    "### 3. IQR(q3-q1)\n",
    "### 4. find the lower frence(q1-1.5(iqr))\n",
    "### 5. find the higher frence(q3+1.5(iqr))"
   ]
  },
  {
   "cell_type": "code",
   "execution_count": 12,
   "id": "344f2739",
   "metadata": {},
   "outputs": [
    {
     "name": "stdout",
     "output_type": "stream",
     "text": [
      "12.0 15.0\n"
     ]
    }
   ],
   "source": [
    "q1,q3 = np.percentile(dataset,[25,75])\n",
    "print(q1,q3)"
   ]
  },
  {
   "cell_type": "code",
   "execution_count": 13,
   "id": "5b23e804",
   "metadata": {},
   "outputs": [
    {
     "name": "stdout",
     "output_type": "stream",
     "text": [
      "3.0\n"
     ]
    }
   ],
   "source": [
    "iqr = q3-q1\n",
    "print(iqr)"
   ]
  },
  {
   "cell_type": "code",
   "execution_count": 15,
   "id": "0ebae9b5",
   "metadata": {},
   "outputs": [
    {
     "name": "stdout",
     "output_type": "stream",
     "text": [
      "7.5 19.5\n"
     ]
    }
   ],
   "source": [
    "lower_frence = q1-(1.5*iqr)\n",
    "higher_france = q3+(1.5*iqr)\n",
    "print(lower_frence,higher_france)"
   ]
  },
  {
   "cell_type": "code",
   "execution_count": null,
   "id": "fd326db9",
   "metadata": {},
   "outputs": [],
   "source": []
  },
  {
   "cell_type": "code",
   "execution_count": 20,
   "id": "5b0ed018",
   "metadata": {},
   "outputs": [],
   "source": [
    "import seaborn as sns"
   ]
  },
  {
   "cell_type": "code",
   "execution_count": 22,
   "id": "62975048",
   "metadata": {},
   "outputs": [
    {
     "data": {
      "text/plain": [
       "<Axes: >"
      ]
     },
     "execution_count": 22,
     "metadata": {},
     "output_type": "execute_result"
    },
    {
     "data": {
      "image/png": "[encoded data removed]",
      "text/plain": [
       "<Figure size 640x480 with 1 Axes>"
      ]
     },
     "metadata": {},
     "output_type": "display_data"
    }
   ],
   "source": [
    "sns.boxplot(dataset)"
   ]
  },
  {
   "cell_type": "code",
   "execution_count": null,
   "id": "ed01728b",
   "metadata": {},
   "outputs": [],
   "source": []
  },
  {
   "cell_type": "code",
   "execution_count": null,
   "id": "9fe5775f",
   "metadata": {},
   "outputs": [],
   "source": []
  },
  {
   "cell_type": "code",
   "execution_count": null,
   "id": "a17cdb28",
   "metadata": {},
   "outputs": [],
   "source": []
  },
  {
   "cell_type": "code",
   "execution_count": null,
   "id": "43b9f675",
   "metadata": {},
   "outputs": [],
   "source": []
  }
 ],
 "metadata": {
  "kernelspec": {
   "display_name": "Python 3 (ipykernel)",
   "language": "python",
   "name": "python3"
  },
  "language_info": {
   "codemirror_mode": {
    "name": "ipython",
    "version": 3
   },
   "file_extension": ".py",
   "mimetype": "text/x-python",
   "name": "python",
   "nbconvert_exporter": "python",
   "pygments_lexer": "ipython3",
   "version": "3.10.12"
  }
 },
 "nbformat": 4,
 "nbformat_minor": 5
}
